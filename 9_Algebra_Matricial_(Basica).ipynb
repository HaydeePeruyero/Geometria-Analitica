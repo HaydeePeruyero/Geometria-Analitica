{
  "nbformat": 4,
  "nbformat_minor": 0,
  "metadata": {
    "colab": {
      "name": "9_Algebra_Matricial_(Basica).ipynb",
      "provenance": [],
      "collapsed_sections": [],
      "include_colab_link": true
    },
    "kernelspec": {
      "name": "python3",
      "display_name": "Python 3"
    }
  },
  "cells": [
    {
      "cell_type": "markdown",
      "metadata": {
        "id": "view-in-github",
        "colab_type": "text"
      },
      "source": [
        "<a href=\"https://colab.research.google.com/github/HaydeePeruyero/Geometria-Analitica-1/blob/master/9_Algebra_Matricial_(Basica).ipynb\" target=\"_parent\"><img src=\"https://colab.research.google.com/assets/colab-badge.svg\" alt=\"Open In Colab\"/></a>"
      ]
    },
    {
      "cell_type": "markdown",
      "metadata": {
        "id": "8GzSmajaV3XW",
        "colab_type": "text"
      },
      "source": [
        "# Álgebra Matricial (Básica) con `NumPy`"
      ]
    },
    {
      "cell_type": "markdown",
      "metadata": {
        "id": "mchI7zB_jEic",
        "colab_type": "text"
      },
      "source": [
        "En este apartado presentamos una manera de cómo realizar operaciones básicas con matrices en Python."
      ]
    },
    {
      "cell_type": "markdown",
      "metadata": {
        "id": "TDukdpX1Wlbw",
        "colab_type": "text"
      },
      "source": [
        "Normalmente se nos define una matriz (real) como un arreglo rectangular de números reales. Aunque esto es correcto y pensarlo así resulta muy útil en la práctica, además de concordar en cierto modo con la sintaxis que utiliza Python para trabajar con ellas, se presenta a continuación una definición un tanto más formal que creemos ayudará al alumno a entender futuras generalizaciones.\n",
        "\n",
        "**Definición.** Una matriz real $M$ de tamaño $m \\times n$ es una función\n",
        "    \\begin{eqnarray}\n",
        "        M: I_{m} \\times I_{n} &\\longrightarrow& \\mathbb{R} \\\\\n",
        "            (i,j) &\\longmapsto& M(i,j) \\equiv M_{ij},\n",
        "    \\end{eqnarray}\n",
        "\n",
        "donde $I_{m}=\\{1,\\ldots,m\\}$ e $I_{n}=\\{1,\\ldots,n\\}$ son el conjunto de índices de $m$ y $n$ elementos, respectivamente."
      ]
    },
    {
      "cell_type": "markdown",
      "metadata": {
        "id": "bAd7mNc9aXoy",
        "colab_type": "text"
      },
      "source": [
        "Si bien Python permite trabajar con matrices simbólicas, de momento nos centraremos en matrices númericas, es decir, con entradas enteras y flotantes. Para esto, como antes, primero debemos importar el módulo de `NumPy`. \n",
        "\n",
        "**Sintaxis.** Para declarar una matriz en Python vía el módulo de `NumPy` utilizamos un sintaxis análoga a la usada para escribir `arrays`."
      ]
    },
    {
      "cell_type": "code",
      "metadata": {
        "id": "pp8Rly51V1lw",
        "colab_type": "code",
        "colab": {}
      },
      "source": [
        "import numpy as np\n",
        "\n",
        "A = np.matrix([[11, 12], [21, 22]])\n",
        "B = np.matrix([[11, 12, 13], [21, 22, 23], [31, 32, 33]])\n",
        "C = np.matrix([[1], [2], [3]])\n",
        "D=np.matrix([[1,2,3]])\n",
        "print(A, '\\n') # usamos print() para visualizar las matrices que acabamos de definir\n",
        "print(B, '\\n') # recordemos que \\n 'imprime' una nueva línea\n",
        "print(C,'\\n')\n",
        "print(D)"
      ],
      "execution_count": 0,
      "outputs": []
    },
    {
      "cell_type": "markdown",
      "metadata": {
        "id": "Iz6c_zUanJaZ",
        "colab_type": "text"
      },
      "source": [
        "## Multiplicación por Escalar\n",
        "\n",
        "Para multiplicar una matriz por un escalar (real) en `NumPy` se utiliza el operador `*`."
      ]
    },
    {
      "cell_type": "code",
      "metadata": {
        "id": "UoskY7pRnIXr",
        "colab_type": "code",
        "colab": {}
      },
      "source": [
        "import numpy as np\n",
        "\n",
        "A1 = np.matrix([[1, 1 , 1], [1, 1, 1], [1, 1, 1]])\n",
        "print(5*A1, '\\n')\n",
        "print((-1)*A1, '\\n')\n",
        "print(0*A1)"
      ],
      "execution_count": 0,
      "outputs": []
    },
    {
      "cell_type": "markdown",
      "metadata": {
        "id": "zr9jUuLPjaVl",
        "colab_type": "text"
      },
      "source": [
        "## Suma (Resta)\n",
        "\n",
        "El módulo de `NumPy` admite dos maneras distintas de sumar (restar) matrices, una utilizando el operador `+` (`-`) y otra con la función `add` (`subtract`).\n",
        "\n",
        "* Recordemos que la suma (resta) matricial está definida solamente para matrices con la misma dimensión. "
      ]
    },
    {
      "cell_type": "code",
      "metadata": {
        "id": "SrC5AcR_jePb",
        "colab_type": "code",
        "colab": {}
      },
      "source": [
        "import numpy as np\n",
        "\n",
        "A2 = np.matrix([[1, 2 , 3], [2, 3, 1]])\n",
        "B2 = np.matrix([[-1, -2 , -3], [-2, -3, -1]])\n",
        "\n",
        "# Primera manera:\n",
        "print('Primera manera:\\n')\n",
        "print(A2 + B2, '\\n')\n",
        "print(A2 - B2, '\\n')\n",
        "\n",
        "# Segunda manera:\n",
        "print('Segunda manera:\\n')\n",
        "print(np.add(A2, B2), '\\n')\n",
        "print(np.subtract(A2, B2))"
      ],
      "execution_count": 0,
      "outputs": []
    },
    {
      "cell_type": "markdown",
      "metadata": {
        "id": "GTkzIi3Rouhh",
        "colab_type": "text"
      },
      "source": [
        "## Multiplicación\n",
        "\n",
        "El módulo de `NumPy` admite dos maneras distintas de multiplicar matrices, una utilizando el operador `*` y otra con la función `dot`.\n",
        "\n",
        "* Recordemos que la multiplicación matricial está definida solamente entre matrices tales que el número de columnas del primer término de la multiplicación coincide con el número de filas del segundo."
      ]
    },
    {
      "cell_type": "code",
      "metadata": {
        "id": "NOET3_SSotGP",
        "colab_type": "code",
        "colab": {}
      },
      "source": [
        "import numpy as np\n",
        "\n",
        "A3 = np.matrix([[1, 2 , 3], [-2, -3, -1]])\n",
        "B3 = np.matrix([[1, 1], [1, 1], [1, 1]])\n",
        "\n",
        "# Primera manera:\n",
        "print('Primera manera:\\n')\n",
        "print(B3*A3, '\\n')\n",
        "\n",
        "# Segunda manera:\n",
        "print('Segunda manera:\\n')\n",
        "print(np.dot(A3, B3), '\\n')"
      ],
      "execution_count": 0,
      "outputs": []
    },
    {
      "cell_type": "markdown",
      "metadata": {
        "id": "H30cYRvGrs7A",
        "colab_type": "text"
      },
      "source": [
        "## Determinante\n",
        "\n",
        "Para calcular el determinante de una matriz en `NumPy` debemos utilizar el la función `det` del submódulo `linalg`. Este submódulo nos proveé diversas herramientas para manipular y realizar operaciones más 'sofisticadas' con matrices.\n",
        "\n",
        "* Recordemos que el determinante solamente está definida para matrices cuadradas."
      ]
    },
    {
      "cell_type": "code",
      "metadata": {
        "id": "zgmkSljPs6Vw",
        "colab_type": "code",
        "colab": {}
      },
      "source": [
        "import numpy as np\n",
        "\n",
        "A4 = np.matrix([[0, -1], [0, 0]])\n",
        "\n",
        "B4 = np.matrix([[1, 1, 1], [0, 2, 2], [0, 0, 3]])\n",
        "\n",
        "C4 = np.matrix([[1, 1, 1, 1, 1, 1, 1, 1, 1, 1], \n",
        "                [0, 1, 1, 1, 1, 1, 1, 1, 1, 1],\n",
        "                [0, 0, 1, 1, 1, 1, 1, 1, 1, 1],\n",
        "                [0, 0, 0, 1, 1, 1, 1, 1, 1, 1],\n",
        "                [0, 0, 0, 0, 1, 1, 1, 1, 1, 1],\n",
        "                [0, 0, 0, 0, 0, 1, 1, 1, 1, 1],\n",
        "                [0, 0, 0, 0, 0, 0, 1, 1, 1, 1],\n",
        "                [0, 0, 0, 0, 0, 0, 0, 1, 1, 1],\n",
        "                [0, 0, 0, 0, 0, 0, 0, 0, 1, 1],\n",
        "                [0, 0, 0, 0, 0, 0, 0, 0, 0, 1],])\n",
        "\n",
        "\n",
        "print(np.linalg.det(A4))\n",
        "print(np.linalg.det(B4))\n",
        "print(np.linalg.det(C4))"
      ],
      "execution_count": 0,
      "outputs": []
    },
    {
      "cell_type": "markdown",
      "metadata": {
        "id": "dAb_KxtBvBxK",
        "colab_type": "text"
      },
      "source": [
        "## Matriz Inversa\n",
        "\n",
        "Si una matriz es invertible, para calcular su inversa en `NumPy` podemos utilizar la función `inv` del submódulo `linalg`."
      ]
    },
    {
      "cell_type": "code",
      "metadata": {
        "id": "4XwOMdYivgZY",
        "colab_type": "code",
        "colab": {}
      },
      "source": [
        "import numpy as np\n",
        "\n",
        "# A5 = np.matrix([[0, -1], [0, 0]])\n",
        "\n",
        "B5 = np.matrix([[1, 1, 1], [0, 2, 2], [0, 0, 3]])\n",
        "\n",
        "C5 = np.matrix([[1, 1, 1, 1, 1, 1, 1, 1, 1, 1], \n",
        "                [0, 1, 1, 1, 1, 1, 1, 1, 1, 1],\n",
        "                [0, 0, 1, 1, 1, 1, 1, 1, 1, 1],\n",
        "                [0, 0, 0, 1, 1, 1, 1, 1, 1, 1],\n",
        "                [0, 0, 0, 0, 1, 1, 1, 1, 1, 1],\n",
        "                [0, 0, 0, 0, 0, 1, 1, 1, 1, 1],\n",
        "                [0, 0, 0, 0, 0, 0, 1, 1, 1, 1],\n",
        "                [0, 0, 0, 0, 0, 0, 0, 1, 1, 1],\n",
        "                [0, 0, 0, 0, 0, 0, 0, 0, 1, 1],\n",
        "                [0, 0, 0, 0, 0, 0, 0, 0, 0, 1],])\n",
        "\n",
        "\n",
        "# print(np.linalg.inv(A5))\n",
        "print(np.linalg.inv(B5), '\\n')\n",
        "print(np.linalg.inv(C5))"
      ],
      "execution_count": 0,
      "outputs": []
    },
    {
      "cell_type": "code",
      "metadata": {
        "id": "cjNaEAnugUkZ",
        "colab_type": "code",
        "colab": {}
      },
      "source": [
        "B=np.linalg.inv(B5)"
      ],
      "execution_count": 0,
      "outputs": []
    },
    {
      "cell_type": "code",
      "metadata": {
        "id": "u-y-qfgAgd7a",
        "colab_type": "code",
        "colab": {}
      },
      "source": [
        "B5*B"
      ],
      "execution_count": 0,
      "outputs": []
    },
    {
      "cell_type": "markdown",
      "metadata": {
        "id": "9z1nfgnLwoyO",
        "colab_type": "text"
      },
      "source": [
        "## Matriz Traspuesta\n",
        "\n",
        "Para calcular la traspuesta de una matriz en `NumPy` podemos utilizar la función `transpose`."
      ]
    },
    {
      "cell_type": "code",
      "metadata": {
        "id": "Me1DC8L0ypkh",
        "colab_type": "code",
        "colab": {}
      },
      "source": [
        "import numpy as np\n",
        "\n",
        "A6 = np.matrix([1, 2])\n",
        "print(A6, '\\n')\n",
        "print(np.transpose(A6))"
      ],
      "execution_count": 0,
      "outputs": []
    },
    {
      "cell_type": "code",
      "metadata": {
        "id": "uT-rN8auzeJW",
        "colab_type": "code",
        "colab": {}
      },
      "source": [
        "import numpy as np\n",
        "\n",
        "B6 = np.matrix([[1], [2]])\n",
        "print(B6, '\\n')\n",
        "print(np.transpose(B6))"
      ],
      "execution_count": 0,
      "outputs": []
    },
    {
      "cell_type": "code",
      "metadata": {
        "id": "JJCU6fWgzhr-",
        "colab_type": "code",
        "colab": {}
      },
      "source": [
        "import numpy as np\n",
        "\n",
        "B6 = np.matrix([[11, 12, 13, 14, 15], [21, 22, 23, 24, 25], [31, 32, 33, 34, 35]])\n",
        "print(B6, '\\n')\n",
        "print(np.transpose(B6))"
      ],
      "execution_count": 0,
      "outputs": []
    },
    {
      "cell_type": "markdown",
      "metadata": {
        "id": "5OY3lSf4z_Lw",
        "colab_type": "text"
      },
      "source": [
        "## Solución de Sistemas de Ecuaciones Lineales\n",
        "\n",
        "Una de las herramientas más útiles del submódulo `linalg` es la función `solve`, la cual nos permite encontrar (si existe) una solución $x$ a un sistema de ecuaciones\n",
        "    \\begin{equation}\n",
        "        Mx = b,\n",
        "    \\end{equation}\n",
        "\n",
        "donde $M$ es una matriz cuadrada de tamaño $n \\times n$ y $x,b$ son vectores columna de tamaño $n \\times 1$.\n",
        "\n",
        "* La función `solve` recibe dos argumentos, el primero debe ser la matriz $M$ y el segundo el vector $b$. En caso de existir solución, esta función retorna el vector solución $x$."
      ]
    },
    {
      "cell_type": "markdown",
      "metadata": {
        "id": "DbUjbfjz23-k",
        "colab_type": "text"
      },
      "source": [
        "**Ejemplo.** Consideremos el sistema de ecuaciones\n",
        "    \\begin{align}\n",
        "        2x_{1} - x_{2} &= 1, \\\\ \n",
        "        -x_{1} + x_{2} &= -1,\n",
        "    \\end{align}\n",
        "el cual puede escribirse de manera matricial por\n",
        "    \\begin{equation}\n",
        "        \\left(\n",
        "            \\begin{array}{rr}\n",
        "                2 & -1 \\\\\n",
        "                -1 & 1 \\\\\n",
        "            \\end{array}\n",
        "        \\right)\n",
        "        \\left(\n",
        "            \\begin{array}{c}\n",
        "                x_{1} \\\\\n",
        "                x_{2} \\\\\n",
        "            \\end{array}\n",
        "        \\right)\n",
        "            =\n",
        "        \\left(\n",
        "            \\begin{array}{r}\n",
        "                1 \\\\\n",
        "                -1 \\\\\n",
        "            \\end{array}\n",
        "        \\right).\n",
        "    \\end{equation}\n",
        "Por tanto, en este caso se tiene que\n",
        "    \\begin{equation*}\n",
        "        M = \\left(\n",
        "            \\begin{array}{rr}\n",
        "                2 & -1 \\\\\n",
        "                -1 & 1 \\\\\n",
        "            \\end{array}\n",
        "        \\right) \n",
        "            \\qquad \\text{y} \\qquad\n",
        "        b = \\left(\n",
        "            \\begin{array}{r}\n",
        "                1 \\\\\n",
        "                -1 \\\\\n",
        "            \\end{array}\n",
        "        \\right).\n",
        "    \\end{equation*}"
      ]
    },
    {
      "cell_type": "code",
      "metadata": {
        "id": "FMq7Vziwz-Z7",
        "colab_type": "code",
        "colab": {}
      },
      "source": [
        "import numpy as np\n",
        "\n",
        "M = np.matrix([[2, -1], [-1 , 1]) # declaramos la matriz M\n",
        "b = np.matrix([[1], [-1]) # declaramos el vector b\n",
        "\n",
        "print(np.linalg.solve(M, b)) # resolvemos el sistema Mx=b"
      ],
      "execution_count": 0,
      "outputs": []
    },
    {
      "cell_type": "markdown",
      "metadata": {
        "id": "xy6rLou75Zun",
        "colab_type": "text"
      },
      "source": [
        "Esto nos dice que la solución $x$ de nuestro sistema es\n",
        "    \\begin{equation}\n",
        "        x = \\left(\n",
        "            \\begin{array}{c}\n",
        "                x_{1} \\\\\n",
        "                x_{2} \\\\\n",
        "            \\end{array}\n",
        "        \\right)\n",
        "            =\n",
        "        \\left(\n",
        "            \\begin{array}{r}\n",
        "                0 \\\\\n",
        "                -1 \\\\\n",
        "            \\end{array}\n",
        "        \\right).\n",
        "    \\end{equation}"
      ]
    },
    {
      "cell_type": "markdown",
      "metadata": {
        "id": "_q2XrMHs-GSX",
        "colab_type": "text"
      },
      "source": [
        "__Ejercicio 1:__ Demuestra que el siguiente conjunto de vectores es linealmente independiente:\n",
        "\n",
        "$$\\{(1,2,-1), (0,1,0), (-3,0,-2)\\}$$"
      ]
    },
    {
      "cell_type": "code",
      "metadata": {
        "id": "MVdMQ699-U3y",
        "colab_type": "code",
        "colab": {}
      },
      "source": [
        ""
      ],
      "execution_count": 0,
      "outputs": []
    },
    {
      "cell_type": "markdown",
      "metadata": {
        "id": "Cb2yG2m1-WMq",
        "colab_type": "text"
      },
      "source": [
        "__Ejercicio 2:__ Escribe como combinación lineal de los vectores del ejercicio 1 el siguiente vector: \n",
        "$$(5,7,-3)$$"
      ]
    },
    {
      "cell_type": "code",
      "metadata": {
        "id": "Vdw2xKrE-41y",
        "colab_type": "code",
        "colab": {}
      },
      "source": [
        ""
      ],
      "execution_count": 0,
      "outputs": []
    },
    {
      "cell_type": "markdown",
      "metadata": {
        "id": "DOCkORjr-5sC",
        "colab_type": "text"
      },
      "source": [
        "__Ejercicio 3:__ Utiliza la función `solve` para resolver el sistema de ecuaciones del ejercicio 2."
      ]
    },
    {
      "cell_type": "code",
      "metadata": {
        "id": "Fd4NOAgk_EhW",
        "colab_type": "code",
        "colab": {}
      },
      "source": [
        ""
      ],
      "execution_count": 0,
      "outputs": []
    }
  ]
}