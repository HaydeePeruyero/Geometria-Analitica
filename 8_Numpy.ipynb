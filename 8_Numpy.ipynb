{
  "nbformat": 4,
  "nbformat_minor": 0,
  "metadata": {
    "colab": {
      "name": "8_Numpy.ipynb",
      "provenance": [],
      "collapsed_sections": [],
      "include_colab_link": true
    },
    "kernelspec": {
      "name": "python3",
      "display_name": "Python 3"
    }
  },
  "cells": [
    {
      "cell_type": "markdown",
      "metadata": {
        "id": "view-in-github",
        "colab_type": "text"
      },
      "source": [
        "<a href=\"https://colab.research.google.com/github/HaydeePeruyero/Geometria-Analitica-1/blob/master/8_Numpy.ipynb\" target=\"_parent\"><img src=\"https://colab.research.google.com/assets/colab-badge.svg\" alt=\"Open In Colab\"/></a>"
      ]
    },
    {
      "cell_type": "markdown",
      "metadata": {
        "id": "4R5YsvGD-oL-",
        "colab_type": "text"
      },
      "source": [
        "# Módulo `Numpy`"
      ]
    },
    {
      "cell_type": "markdown",
      "metadata": {
        "id": "cRzwzNV9_Ov8",
        "colab_type": "text"
      },
      "source": [
        "La estructura y algunas ideas de este material se tomaron del siguiente tutorial:\n",
        "https://numpy.org/devdocs/user/quickstart.html\n"
      ]
    },
    {
      "cell_type": "markdown",
      "metadata": {
        "id": "RRUf7jpb-skn",
        "colab_type": "text"
      },
      "source": [
        "Los objetos principales de Numpy son arreglos multidimensionales: una tabla de elementos (generalmente números), todos del mismo tipo, indexados por una tupla de enteros no-negativos. En Numpy las dimensiones son llamadas _ejes_. \n",
        "\n",
        "Por ejemplo, las coordenadas de un punto `[1, 2, 1]` en el espacio 3D tiene un solo eje.  Ese eje tiene 3 elementos, así que diremos que tiene longitud 3. \n",
        "\n",
        "El siguiente ejemplo, tiene dos ejes; el primer eje tiene una longitud igual a 2 y el segundo una longitud igual a 3:"
      ]
    },
    {
      "cell_type": "code",
      "metadata": {
        "id": "TJfRuVioCvSD",
        "colab_type": "code",
        "colab": {}
      },
      "source": [
        "[[1., 0.], [0., 1., 2.]]"
      ],
      "execution_count": 0,
      "outputs": []
    },
    {
      "cell_type": "markdown",
      "metadata": {
        "id": "No7lI3qsC480",
        "colab_type": "text"
      },
      "source": [
        "La clase de un arreglo en Numpy se llama `ndarray`.  Los atributos más importantes de un objeto `ndarray` son:\n",
        "\n",
        "\n",
        "\n",
        "*   __`ndarray.ndim`__ : número de ejes de un arreglo.\n",
        "*   __`ndarray.shape`__ :  la dimensión de un arreglo. Es una tupla de enteros que indican el tamaño de un arreglo en cada dimensión. Para una matriz con `n` filas y `m` columnas, `saphe` será `(n,m)`.  La longitud de la tupla `shape` es el número de ejes, es decir `ndim`.\n",
        "* __`ndarray.size`__ : es el número total de elementos del arreglo. Es igual al producto de los elementos de `shape`.\n",
        "\n",
        "\n"
      ]
    },
    {
      "cell_type": "code",
      "metadata": {
        "id": "POlmvR-_EvH9",
        "colab_type": "code",
        "colab": {}
      },
      "source": [
        "import numpy as np\n",
        "a = np.array([[0, 1, 2], [3, 4, 5]])"
      ],
      "execution_count": 0,
      "outputs": []
    },
    {
      "cell_type": "code",
      "metadata": {
        "id": "ncmKKmmpFO17",
        "colab_type": "code",
        "colab": {}
      },
      "source": [
        "a.shape"
      ],
      "execution_count": 0,
      "outputs": []
    },
    {
      "cell_type": "code",
      "metadata": {
        "id": "yTZZnjpUFu4H",
        "colab_type": "code",
        "colab": {}
      },
      "source": [
        "a.size"
      ],
      "execution_count": 0,
      "outputs": []
    },
    {
      "cell_type": "code",
      "metadata": {
        "id": "GZPAW-hvFy7a",
        "colab_type": "code",
        "colab": {}
      },
      "source": [
        "a.ndim"
      ],
      "execution_count": 0,
      "outputs": []
    },
    {
      "cell_type": "markdown",
      "metadata": {
        "id": "Cfw_KNRQH3YR",
        "colab_type": "text"
      },
      "source": [
        "## 1. Creación de arreglos\n",
        "\n",
        "Existen varias formas de crear arreglos. Por ejemplo, podemos crear un arreglo desde una lista o tupla regular de Python usando la función `array`."
      ]
    },
    {
      "cell_type": "code",
      "metadata": {
        "id": "mqSaZxZIMnOV",
        "colab_type": "code",
        "colab": {}
      },
      "source": [
        "import numpy as np"
      ],
      "execution_count": 0,
      "outputs": []
    },
    {
      "cell_type": "code",
      "metadata": {
        "id": "Us_aSFmVMqbU",
        "colab_type": "code",
        "colab": {}
      },
      "source": [
        "a = np.array([2, 3, 4])\n",
        "a"
      ],
      "execution_count": 0,
      "outputs": []
    },
    {
      "cell_type": "code",
      "metadata": {
        "id": "9lIcWhoZMzQx",
        "colab_type": "code",
        "colab": {}
      },
      "source": [
        "b = np.array([1.2, 2.3, 3.4])\n",
        "b"
      ],
      "execution_count": 0,
      "outputs": []
    },
    {
      "cell_type": "code",
      "metadata": {
        "id": "yVrT3VR-M5vh",
        "colab_type": "code",
        "colab": {}
      },
      "source": [
        "a.dtype # tipo de elemento del arreglo a"
      ],
      "execution_count": 0,
      "outputs": []
    },
    {
      "cell_type": "code",
      "metadata": {
        "id": "sjueQkakM_Nf",
        "colab_type": "code",
        "colab": {}
      },
      "source": [
        "b.dtype # tipo de elemento del arreglo b"
      ],
      "execution_count": 0,
      "outputs": []
    },
    {
      "cell_type": "markdown",
      "metadata": {
        "id": "rVHNsQQvNJS5",
        "colab_type": "text"
      },
      "source": [
        "Un error frecuente consiste en crear `array` con multiples argumentos numéricos en lugar de con un lista de números como argumento."
      ]
    },
    {
      "cell_type": "code",
      "metadata": {
        "id": "XghPZF7hOtWB",
        "colab_type": "code",
        "colab": {}
      },
      "source": [
        "a = np.array(1, 2, 3, 4) # incorrecto"
      ],
      "execution_count": 0,
      "outputs": []
    },
    {
      "cell_type": "code",
      "metadata": {
        "id": "CCCNL0NEOz_S",
        "colab_type": "code",
        "colab": {}
      },
      "source": [
        "a = np.array([1, 2, 3, 4])"
      ],
      "execution_count": 0,
      "outputs": []
    },
    {
      "cell_type": "markdown",
      "metadata": {
        "id": "b3Qe5WdfO32t",
        "colab_type": "text"
      },
      "source": [
        "Los `array` transforman sucesiones de sucesiones en arreglos de dimensión dos;  sucesiones de sucesiones de sucesiones en arreglos de dimensión 3 y así sucesivamente. Por ejemplo:"
      ]
    },
    {
      "cell_type": "code",
      "metadata": {
        "id": "uCA5aqoNPGAv",
        "colab_type": "code",
        "colab": {}
      },
      "source": [
        "b = np.array([(1, 2, 3), (4, 5, 6)])\n",
        "b"
      ],
      "execution_count": 0,
      "outputs": []
    },
    {
      "cell_type": "markdown",
      "metadata": {
        "id": "Ad0IhroFPQMO",
        "colab_type": "text"
      },
      "source": [
        "El tipo de un arreglo también se puede especificar explicitamente al momento de crearlo:"
      ]
    },
    {
      "cell_type": "code",
      "metadata": {
        "id": "R4HxPMdFPWFw",
        "colab_type": "code",
        "colab": {}
      },
      "source": [
        "c = np.array([[1, 2], [3, 4]], dtype=complex)\n",
        "c"
      ],
      "execution_count": 0,
      "outputs": []
    },
    {
      "cell_type": "markdown",
      "metadata": {
        "id": "f3AW3rPdX-b2",
        "colab_type": "text"
      },
      "source": [
        "En varias ocasiones, los elementos de un arreglo son desconocidos, pero el tamaño es conocido. Por tal motivo, Numpy tiene varias funciones que nos permiten crear arreglos sin especificar el contenido inicial pero si el tamaño. Esto minimiza la necesidad de crecer arreglos con operaciones más costosas.\n",
        "\n",
        "La función `zeros` crea un arreglo solo de ceros, la función `ones` crea arreglos con solo unos y la función `empty`  crea un arreglo cuyo contenido inicial es aleatorio y depende del estado de la memoria. Por default, el `dtype` de un arreglo creado de esta forma es `float64`."
      ]
    },
    {
      "cell_type": "code",
      "metadata": {
        "id": "QGz7EZN0iSj8",
        "colab_type": "code",
        "colab": {}
      },
      "source": [
        "np.zeros((3, 4))"
      ],
      "execution_count": 0,
      "outputs": []
    },
    {
      "cell_type": "code",
      "metadata": {
        "id": "zgkeQXwNiYo2",
        "colab_type": "code",
        "colab": {}
      },
      "source": [
        "np.ones((2, 3, 4), dtype=np.int16 ) # podemos especificar el tipo de elementos"
      ],
      "execution_count": 0,
      "outputs": []
    },
    {
      "cell_type": "code",
      "metadata": {
        "id": "BD9OTUiHin2c",
        "colab_type": "code",
        "colab": {}
      },
      "source": [
        "np.empty((2, 3)) # El contenido varía"
      ],
      "execution_count": 0,
      "outputs": []
    },
    {
      "cell_type": "markdown",
      "metadata": {
        "id": "pHA-t5gei0TM",
        "colab_type": "text"
      },
      "source": [
        "Para crear sucesiones de números, Numpy tiene una función análoga a `range` que regresa arreglos en lugar de listas:"
      ]
    },
    {
      "cell_type": "code",
      "metadata": {
        "id": "pwOPqjhDi_Oj",
        "colab_type": "code",
        "colab": {}
      },
      "source": [
        "np.arange(10, 30, 5)"
      ],
      "execution_count": 0,
      "outputs": []
    },
    {
      "cell_type": "code",
      "metadata": {
        "id": "XjEk2zCPjFHa",
        "colab_type": "code",
        "colab": {}
      },
      "source": [
        "np.arange(0, 2, 0.3)"
      ],
      "execution_count": 0,
      "outputs": []
    },
    {
      "cell_type": "markdown",
      "metadata": {
        "id": "97NLfHDHlOPo",
        "colab_type": "text"
      },
      "source": [
        "Cuando usamos `arange` con números flotantes, generalmente no podemos determinar el número de elementos que vamos a obtener debido a la precisión finita de los valores flotante. Por esta razón es mejor usar la función `linspace` que recive como un argumento el número de elementos que queremos, en lugar del 'paso':"
      ]
    },
    {
      "cell_type": "code",
      "metadata": {
        "id": "CSd4_P39lyQo",
        "colab_type": "code",
        "colab": {}
      },
      "source": [
        "from numpy import pi\n",
        "np.linspace(0, 2, 9) # nueve numeros del 0 al 2"
      ],
      "execution_count": 0,
      "outputs": []
    },
    {
      "cell_type": "code",
      "metadata": {
        "id": "9-LqrcBcmDkM",
        "colab_type": "code",
        "colab": {}
      },
      "source": [
        "x = np.linspace(0, 2*pi, 20)\n",
        "f= np.sin(x)\n",
        "print(f)"
      ],
      "execution_count": 0,
      "outputs": []
    },
    {
      "cell_type": "markdown",
      "metadata": {
        "id": "L2H4HxYSImn4",
        "colab_type": "text"
      },
      "source": [
        "## 2. Operaciones Básicas y funciones universales\n",
        "\n",
        "Las operaciones aritméticas en arreglos se aplican elemento a elemento. Un nuevo arreglo se crea y se llena con el resultado."
      ]
    },
    {
      "cell_type": "code",
      "metadata": {
        "id": "S7OUtOG1opqc",
        "colab_type": "code",
        "colab": {}
      },
      "source": [
        "a = np.array( [20, 30, 40, 50] )\n",
        "b = np.arange(4)\n",
        "b"
      ],
      "execution_count": 0,
      "outputs": []
    },
    {
      "cell_type": "code",
      "metadata": {
        "id": "2D6GBpUmo0ad",
        "colab_type": "code",
        "colab": {}
      },
      "source": [
        "c = a - b\n",
        "c"
      ],
      "execution_count": 0,
      "outputs": []
    },
    {
      "cell_type": "code",
      "metadata": {
        "id": "etPlo9cjo4N0",
        "colab_type": "code",
        "colab": {}
      },
      "source": [
        "b**2"
      ],
      "execution_count": 0,
      "outputs": []
    },
    {
      "cell_type": "code",
      "metadata": {
        "id": "shwQAoZ1o7Ey",
        "colab_type": "code",
        "colab": {}
      },
      "source": [
        "10*np.sin(a)"
      ],
      "execution_count": 0,
      "outputs": []
    },
    {
      "cell_type": "code",
      "metadata": {
        "id": "ktrpDfp3o_kP",
        "colab_type": "code",
        "colab": {}
      },
      "source": [
        "a < 35"
      ],
      "execution_count": 0,
      "outputs": []
    },
    {
      "cell_type": "markdown",
      "metadata": {
        "id": "Knir8c4HpIU0",
        "colab_type": "text"
      },
      "source": [
        "El operador `*` en Numpy no es el producto de matrices, este operador multiplica elemento a elemento. Para realizar producto de matrices debemos usar el operador `@` o la función `dot`. Por ejemplo:"
      ]
    },
    {
      "cell_type": "code",
      "metadata": {
        "id": "VQ2E2NTsqJEc",
        "colab_type": "code",
        "colab": {}
      },
      "source": [
        "import numpy as np\n",
        "A = np.array([ [1 , 1 ], [0 , 1] ])\n",
        "B = np.array([ [2 , 0 ], [3, 4 ] ])"
      ],
      "execution_count": 0,
      "outputs": []
    },
    {
      "cell_type": "code",
      "metadata": {
        "id": "v-uONS23qiSb",
        "colab_type": "code",
        "colab": {}
      },
      "source": [
        "#Producto elemento a elemento\n",
        "A * B"
      ],
      "execution_count": 0,
      "outputs": []
    },
    {
      "cell_type": "code",
      "metadata": {
        "id": "5Dt8IcKpqpT5",
        "colab_type": "code",
        "colab": {}
      },
      "source": [
        "#Producto de matrices\n",
        "A @ B"
      ],
      "execution_count": 0,
      "outputs": []
    },
    {
      "cell_type": "code",
      "metadata": {
        "id": "Cmji05WyqtdA",
        "colab_type": "code",
        "colab": {}
      },
      "source": [
        "#Funcion dot\n",
        "A.dot(B)"
      ],
      "execution_count": 0,
      "outputs": []
    },
    {
      "cell_type": "markdown",
      "metadata": {
        "id": "TxzXoGi-3W6t",
        "colab_type": "text"
      },
      "source": [
        "Algunas operaciones como `+=` y `*=`modifican un arreglo existente en lugar de crear uno nuevo."
      ]
    },
    {
      "cell_type": "code",
      "metadata": {
        "id": "yEXG_V864kW-",
        "colab_type": "code",
        "colab": {}
      },
      "source": [
        "a = np.ones((2,3), dtype=int)\n",
        "b = np.random.random((2,3))\n",
        "a"
      ],
      "execution_count": 0,
      "outputs": []
    },
    {
      "cell_type": "code",
      "metadata": {
        "id": "sU9HzcIa40fS",
        "colab_type": "code",
        "colab": {}
      },
      "source": [
        "a *=3\n",
        "a"
      ],
      "execution_count": 0,
      "outputs": []
    },
    {
      "cell_type": "code",
      "metadata": {
        "id": "fm4d3EbN44eC",
        "colab_type": "code",
        "colab": {}
      },
      "source": [
        "b"
      ],
      "execution_count": 0,
      "outputs": []
    },
    {
      "cell_type": "code",
      "metadata": {
        "id": "eAJDjq_t4561",
        "colab_type": "code",
        "colab": {}
      },
      "source": [
        "b += a\n",
        "b"
      ],
      "execution_count": 0,
      "outputs": []
    },
    {
      "cell_type": "code",
      "metadata": {
        "id": "fNksCWp35AFm",
        "colab_type": "code",
        "colab": {}
      },
      "source": [
        "# a += b #b no se convierte automaticamente a tipo entero"
      ],
      "execution_count": 0,
      "outputs": []
    },
    {
      "cell_type": "markdown",
      "metadata": {
        "id": "UqOQOlds5Hz0",
        "colab_type": "text"
      },
      "source": [
        "Cuando operamos arreglos de diferente tipo, el tipo resultante del arreglo corresponderá al tipo más general o preciso."
      ]
    },
    {
      "cell_type": "code",
      "metadata": {
        "id": "nJZIoLyK5TMZ",
        "colab_type": "code",
        "colab": {}
      },
      "source": [
        "a = np.ones(3, dtype=np.int32)\n",
        "b = np.linspace(0,pi,3)\n",
        "b.dtype.name"
      ],
      "execution_count": 0,
      "outputs": []
    },
    {
      "cell_type": "code",
      "metadata": {
        "id": "W-6oIHnH5kAd",
        "colab_type": "code",
        "colab": {}
      },
      "source": [
        "c = a+b\n",
        "c"
      ],
      "execution_count": 0,
      "outputs": []
    },
    {
      "cell_type": "code",
      "metadata": {
        "id": "pWwVpHl15uLi",
        "colab_type": "code",
        "colab": {}
      },
      "source": [
        "c.dtype.name"
      ],
      "execution_count": 0,
      "outputs": []
    },
    {
      "cell_type": "code",
      "metadata": {
        "id": "E7z3PQNS5xKZ",
        "colab_type": "code",
        "colab": {}
      },
      "source": [
        "d = np.exp(c*1j)\n",
        "d"
      ],
      "execution_count": 0,
      "outputs": []
    },
    {
      "cell_type": "code",
      "metadata": {
        "id": "huvq-JqI53EX",
        "colab_type": "code",
        "colab": {}
      },
      "source": [
        "d.dtype.name"
      ],
      "execution_count": 0,
      "outputs": []
    },
    {
      "cell_type": "markdown",
      "metadata": {
        "id": "zG3B_UJE9Md4",
        "colab_type": "text"
      },
      "source": [
        "Algunas operaciones, como calcular la suma de todos los elementos en un arreglo, son implementadas como métodos de la clase `ndarray`."
      ]
    },
    {
      "cell_type": "code",
      "metadata": {
        "id": "aPAJd9269wNl",
        "colab_type": "code",
        "colab": {}
      },
      "source": [
        "a = np.random.random((2,3))\n",
        "a"
      ],
      "execution_count": 0,
      "outputs": []
    },
    {
      "cell_type": "code",
      "metadata": {
        "id": "eMdCi2gI9zIu",
        "colab_type": "code",
        "colab": {}
      },
      "source": [
        "a.sum() #calcula la suma de todos los elementos del arreglo"
      ],
      "execution_count": 0,
      "outputs": []
    },
    {
      "cell_type": "code",
      "metadata": {
        "id": "gAKUVLh393au",
        "colab_type": "code",
        "colab": {}
      },
      "source": [
        "a.min() #Regresa el valor minimo del arreglo"
      ],
      "execution_count": 0,
      "outputs": []
    },
    {
      "cell_type": "code",
      "metadata": {
        "id": "-7FsSuhm9-Zr",
        "colab_type": "code",
        "colab": {}
      },
      "source": [
        "a.max() #Regresa el valor maximo del arreglo"
      ],
      "execution_count": 0,
      "outputs": []
    },
    {
      "cell_type": "markdown",
      "metadata": {
        "id": "Sg7o-uhL-F1b",
        "colab_type": "text"
      },
      "source": [
        "Por default, estas operaciones se aplican a toda la lista de números del arreglo sin tomar en cuenta su forma. Sin embargo, si especificamos el parámetro `axis`, entonces podemos aplicar estas operaciones a un eje especificado del arreglo."
      ]
    },
    {
      "cell_type": "code",
      "metadata": {
        "id": "6e0TWA4j-aFr",
        "colab_type": "code",
        "colab": {}
      },
      "source": [
        "b = np.arange(12).reshape(3,4)\n",
        "b"
      ],
      "execution_count": 0,
      "outputs": []
    },
    {
      "cell_type": "code",
      "metadata": {
        "id": "T2iO-N8s-cjc",
        "colab_type": "code",
        "colab": {}
      },
      "source": [
        "b.sum(axis=0) #suma de cada columna"
      ],
      "execution_count": 0,
      "outputs": []
    },
    {
      "cell_type": "code",
      "metadata": {
        "id": "pNTLAs0_-jtY",
        "colab_type": "code",
        "colab": {}
      },
      "source": [
        "b.min(axis=1)  #minimo de cada fila"
      ],
      "execution_count": 0,
      "outputs": []
    },
    {
      "cell_type": "code",
      "metadata": {
        "id": "BxcfMHLb-oZ1",
        "colab_type": "code",
        "colab": {}
      },
      "source": [
        "b.cumsum(axis=1)   #suma acumulativa en cada fila"
      ],
      "execution_count": 0,
      "outputs": []
    },
    {
      "cell_type": "markdown",
      "metadata": {
        "id": "z_YShp-sIqxh",
        "colab_type": "text"
      },
      "source": [
        "Numpy también tiene integrado funciones matemáticas tales como `sin`, `cos` y `exp`. En Numpy, este tipo de funciones se llaman __funciones universales__. Estas funciones también operan elemento a elemento en un arreglo y producen un arreglo como salida."
      ]
    },
    {
      "cell_type": "code",
      "metadata": {
        "id": "53vdpmrxHDlq",
        "colab_type": "code",
        "colab": {}
      },
      "source": [
        "B = np.arange(3)\n",
        "B"
      ],
      "execution_count": 0,
      "outputs": []
    },
    {
      "cell_type": "code",
      "metadata": {
        "id": "Zak3UujXHGnU",
        "colab_type": "code",
        "colab": {}
      },
      "source": [
        "np.exp(B)"
      ],
      "execution_count": 0,
      "outputs": []
    },
    {
      "cell_type": "code",
      "metadata": {
        "id": "BQOCPsU8HJfP",
        "colab_type": "code",
        "colab": {}
      },
      "source": [
        "np.sqrt(B)"
      ],
      "execution_count": 0,
      "outputs": []
    },
    {
      "cell_type": "code",
      "metadata": {
        "id": "wlKL9XMBHMQK",
        "colab_type": "code",
        "colab": {}
      },
      "source": [
        "C = np.array([2., -1., 4.])"
      ],
      "execution_count": 0,
      "outputs": []
    },
    {
      "cell_type": "code",
      "metadata": {
        "id": "NBQ6mJKvHOzB",
        "colab_type": "code",
        "colab": {}
      },
      "source": [
        "np.add(B, C)"
      ],
      "execution_count": 0,
      "outputs": []
    },
    {
      "cell_type": "markdown",
      "metadata": {
        "id": "gRYh7ug1IyP3",
        "colab_type": "text"
      },
      "source": [
        "## 5. Indexando, partiendo e iterando arreglos\n",
        "\n",
        "Al igual que en las listas, podemos acceder a los elementos de un arreglo por un índice o acceder a una parte del arreglo. Por ejemplo:"
      ]
    },
    {
      "cell_type": "code",
      "metadata": {
        "id": "GVIxd_S-Lh45",
        "colab_type": "code",
        "colab": {}
      },
      "source": [
        "a = np.arange(10)**3\n",
        "a"
      ],
      "execution_count": 0,
      "outputs": []
    },
    {
      "cell_type": "code",
      "metadata": {
        "id": "LNAWDKqpNH7G",
        "colab_type": "code",
        "colab": {}
      },
      "source": [
        "a[2]"
      ],
      "execution_count": 0,
      "outputs": []
    },
    {
      "cell_type": "code",
      "metadata": {
        "id": "Ka-ifT7CNLRX",
        "colab_type": "code",
        "colab": {}
      },
      "source": [
        "a[2: 5]"
      ],
      "execution_count": 0,
      "outputs": []
    },
    {
      "cell_type": "code",
      "metadata": {
        "id": "ZpqWMMfmNO0T",
        "colab_type": "code",
        "colab": {}
      },
      "source": [
        "a[: 6: 2] = -1000 # equivalente a a[0:6:2]=-1000; desde la posicion inicial hasta la posicion 5, cambia cadas seguno elemento por 1000\n",
        "a"
      ],
      "execution_count": 0,
      "outputs": []
    },
    {
      "cell_type": "code",
      "metadata": {
        "id": "Vq3Y5BTrPHx3",
        "colab_type": "code",
        "colab": {}
      },
      "source": [
        "a[ : :-1] #invierte a"
      ],
      "execution_count": 0,
      "outputs": []
    },
    {
      "cell_type": "code",
      "metadata": {
        "id": "CE99uC0nPRSF",
        "colab_type": "code",
        "colab": {}
      },
      "source": [
        "for i in a:\n",
        "  print(i**(1/3.))"
      ],
      "execution_count": 0,
      "outputs": []
    },
    {
      "cell_type": "markdown",
      "metadata": {
        "id": "x6bUSLTQPq9E",
        "colab_type": "text"
      },
      "source": [
        "Los arreglos multidimensionales tienen un índice por eje. Estos índices son dados en una tupla separada por comas:"
      ]
    },
    {
      "cell_type": "code",
      "metadata": {
        "id": "MpF8K4tfPznB",
        "colab_type": "code",
        "colab": {}
      },
      "source": [
        "def f(x,y):\n",
        "  return 10*x+y"
      ],
      "execution_count": 0,
      "outputs": []
    },
    {
      "cell_type": "code",
      "metadata": {
        "id": "jZxjAiqRP4NJ",
        "colab_type": "code",
        "colab": {}
      },
      "source": [
        "b = np.fromfunction(f,(5,4),dtype=int)\n",
        "b"
      ],
      "execution_count": 0,
      "outputs": []
    },
    {
      "cell_type": "code",
      "metadata": {
        "id": "7fmu7CciTASA",
        "colab_type": "code",
        "colab": {}
      },
      "source": [
        "b[2, 3]"
      ],
      "execution_count": 0,
      "outputs": []
    },
    {
      "cell_type": "code",
      "metadata": {
        "id": "dwmPSNO7TZwF",
        "colab_type": "code",
        "colab": {}
      },
      "source": [
        "b[0: 5, 1] # elementos de la segunda columna de b"
      ],
      "execution_count": 0,
      "outputs": []
    },
    {
      "cell_type": "code",
      "metadata": {
        "id": "KFKp5QjyT7OY",
        "colab_type": "code",
        "colab": {}
      },
      "source": [
        "b[ : ,1]  "
      ],
      "execution_count": 0,
      "outputs": []
    },
    {
      "cell_type": "code",
      "metadata": {
        "id": "pQiMVIDSUAnz",
        "colab_type": "code",
        "colab": {}
      },
      "source": [
        "b[1: 3, : ] # cada columna en la segunda y tercera fila de b"
      ],
      "execution_count": 0,
      "outputs": []
    },
    {
      "cell_type": "code",
      "metadata": {
        "id": "KhXijSCIUYM7",
        "colab_type": "code",
        "colab": {}
      },
      "source": [
        "b[-1]"
      ],
      "execution_count": 0,
      "outputs": []
    },
    {
      "cell_type": "markdown",
      "metadata": {
        "id": "SyNlMw9dUQg-",
        "colab_type": "text"
      },
      "source": [
        "Iterar sobre arreglos multidimensionales se realiza con respecto a los primeros ejes:"
      ]
    },
    {
      "cell_type": "code",
      "metadata": {
        "id": "mjhea3mjW3rJ",
        "colab_type": "code",
        "colab": {}
      },
      "source": [
        "for row in b:\n",
        "  print(row)"
      ],
      "execution_count": 0,
      "outputs": []
    },
    {
      "cell_type": "markdown",
      "metadata": {
        "id": "-75Kp6EmW_kT",
        "colab_type": "text"
      },
      "source": [
        "Sin embargo, si lo que queremos es operar en cada elemento en el arreglo, podemos usar el atributo `flat`, el cual es un iterador sobre todos los elementos del arreglo:"
      ]
    },
    {
      "cell_type": "code",
      "metadata": {
        "id": "U-EgcMvpZfBH",
        "colab_type": "code",
        "colab": {}
      },
      "source": [
        "for element in b.flat:\n",
        "  print(element)"
      ],
      "execution_count": 0,
      "outputs": []
    },
    {
      "cell_type": "markdown",
      "metadata": {
        "id": "zwcUxnQfI4xF",
        "colab_type": "text"
      },
      "source": [
        "## 6. Álgebra Lineal\n",
        "\n"
      ]
    },
    {
      "cell_type": "markdown",
      "metadata": {
        "id": "JU0n-vo0UPr2",
        "colab_type": "text"
      },
      "source": [
        "Numpy también tiene integradas algunas funciones de ágebra lineal. "
      ]
    },
    {
      "cell_type": "code",
      "metadata": {
        "id": "TW4zsZ5lNKMA",
        "colab_type": "code",
        "colab": {}
      },
      "source": [
        "a = np.array([[1.0, 2.0], [3.0, 4.0]])\n",
        "print(a)"
      ],
      "execution_count": 0,
      "outputs": []
    },
    {
      "cell_type": "code",
      "metadata": {
        "id": "v_24igaLaJeX",
        "colab_type": "code",
        "colab": {}
      },
      "source": [
        "a.transpose() # transpuesta de una matriz"
      ],
      "execution_count": 0,
      "outputs": []
    },
    {
      "cell_type": "code",
      "metadata": {
        "id": "h9UIRaZiaMYx",
        "colab_type": "code",
        "colab": {}
      },
      "source": [
        "np.linalg.inv(a) # inversa de una matriz"
      ],
      "execution_count": 0,
      "outputs": []
    },
    {
      "cell_type": "code",
      "metadata": {
        "id": "5pJ2OQCKaWlu",
        "colab_type": "code",
        "colab": {}
      },
      "source": [
        "u = np.eye(2) # matriz Identidad 2x2\n",
        "u"
      ],
      "execution_count": 0,
      "outputs": []
    },
    {
      "cell_type": "code",
      "metadata": {
        "id": "gj-b68-paZH9",
        "colab_type": "code",
        "colab": {}
      },
      "source": [
        "j = np.array([[0.0, -1.0], [1.0, 0.0]])\n",
        "j @ j # producto de matrices"
      ],
      "execution_count": 0,
      "outputs": []
    },
    {
      "cell_type": "code",
      "metadata": {
        "id": "_FyS-APNanQg",
        "colab_type": "code",
        "colab": {}
      },
      "source": [
        "np.trace(u)  # traza"
      ],
      "execution_count": 0,
      "outputs": []
    },
    {
      "cell_type": "code",
      "metadata": {
        "id": "FPeNHyBGaqDs",
        "colab_type": "code",
        "colab": {}
      },
      "source": [
        "y = np.array([[5.], [7.]])\n",
        "y"
      ],
      "execution_count": 0,
      "outputs": []
    },
    {
      "cell_type": "code",
      "metadata": {
        "id": "VR_m70Tharyu",
        "colab_type": "code",
        "colab": {}
      },
      "source": [
        "np.linalg.solve(a, y) # resuelve el sistema ax=y"
      ],
      "execution_count": 0,
      "outputs": []
    },
    {
      "cell_type": "code",
      "metadata": {
        "id": "7-F4KyGwbCoB",
        "colab_type": "code",
        "colab": {}
      },
      "source": [
        "np.linalg.eig(j) # calcula los eigenvalores y eigenvectores de un arreglo cuadrado"
      ],
      "execution_count": 0,
      "outputs": []
    }
  ]
}