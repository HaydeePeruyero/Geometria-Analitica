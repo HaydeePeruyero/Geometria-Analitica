{
  "nbformat": 4,
  "nbformat_minor": 0,
  "metadata": {
    "colab": {
      "name": "1 Introducción_a_Python.ipynb",
      "version": "0.3.2",
      "provenance": [],
      "collapsed_sections": [
        "BhXkK-qhZTKA"
      ],
      "include_colab_link": true
    },
    "kernelspec": {
      "name": "python3",
      "display_name": "Python 3"
    }
  },
  "cells": [
    {
      "cell_type": "markdown",
      "metadata": {
        "id": "view-in-github",
        "colab_type": "text"
      },
      "source": [
        "<a href=\"https://colab.research.google.com/github/HaydeePeruyero/Geometria-Analitica-1/blob/master/1_Introducci%C3%B3n_a_Python.ipynb\" target=\"_parent\"><img src=\"https://colab.research.google.com/assets/colab-badge.svg\" alt=\"Open In Colab\"/></a>"
      ]
    },
    {
      "cell_type": "markdown",
      "metadata": {
        "id": "5er4cA_jxhdT",
        "colab_type": "text"
      },
      "source": [
        "# Introducción a Python\n",
        "\n",
        "\n",
        "Parte de la estructura e ideas de este material se ha tomado de los siguientes tutoriales:\n",
        "\n",
        "* https://docs.python.org/3/tutorial/appetite.html\n",
        "* https://tutorial.djangogirls.org/es/python_introduction/\n",
        "* https://github.com/psuarezserrato/curso-redes-python/blob/master/1%20Introduccion%20a%20Python.ipynb\n",
        "___________________________________________________\n",
        "\n",
        "Python es un lenguage de programación poderoso y fácil de aprender. Tiene un alto nivel de estructura de datos y una forma simple pero efectiva de aproximarse a la programación orientada a objetos. La sintaxis elegante y dinámica de Python, junto con su intérprete natural, lo hacen el lenguaje ideal para desarrollar aplicaciones rápidas en diversas áreas en la mayoría de plataformas.\n",
        "\n",
        "El intérprete de Python y todas sus librerias estándar se pueden encontrar gratuitamente para la mayoría de plataformas en el sitio Web de [Python](https://www.python.org/). También pueden encontrar en este sitio documentación adicional, programas y herramientas.\n"
      ]
    },
    {
      "cell_type": "markdown",
      "metadata": {
        "id": "-JLpZlWGLOIw",
        "colab_type": "text"
      },
      "source": [
        "## 1. Usando Python\n",
        "\n",
        "¡La mejor forma de aprender a programar es haciéndolo! \n",
        "\n",
        "**Da click en cualquier bloque de código de este curso y presiona `ctrl + Enter` para 'correrlo'. Debemos tener presente que las instrucciones se organizan en bloques y se ejecutan de acuerdo al orden en el que fueron escritas.**"
      ]
    },
    {
      "cell_type": "markdown",
      "metadata": {
        "id": "ljVLzirwLPsV",
        "colab_type": "text"
      },
      "source": [
        "### 1.1 Números\n",
        "\n",
        "El intérprete de Python actúa como una calculadora simple: puedes escribir una expresión en él y éste te 'regresará' un valor. \n",
        "\n",
        "La sintaxis para las expresiones es sencilla: los operadores `+`, `-`,`*` y `/` funcionan como en la mayoría de otros lenguajes. También podemos usar paréntesis `()` para agrupar expresiones."
      ]
    },
    {
      "cell_type": "code",
      "metadata": {
        "id": "T2yXZU7jBklI",
        "colab_type": "code",
        "colab": {}
      },
      "source": [
        "2 + 2"
      ],
      "execution_count": 0,
      "outputs": []
    },
    {
      "cell_type": "code",
      "metadata": {
        "id": "Pg2PB1IFBpa6",
        "colab_type": "code",
        "colab": {}
      },
      "source": [
        "50 - 5*6"
      ],
      "execution_count": 0,
      "outputs": []
    },
    {
      "cell_type": "code",
      "metadata": {
        "id": "pcG5D5i2BtDj",
        "colab_type": "code",
        "colab": {}
      },
      "source": [
        "(50 - 5*6)/4"
      ],
      "execution_count": 0,
      "outputs": []
    },
    {
      "cell_type": "code",
      "metadata": {
        "id": "nEe3X8EbBwYW",
        "colab_type": "code",
        "colab": {}
      },
      "source": [
        "8/5 # la division siempre regresa un numero flotante"
      ],
      "execution_count": 0,
      "outputs": []
    },
    {
      "cell_type": "markdown",
      "metadata": {
        "id": "1AqFfgosB5T-",
        "colab_type": "text"
      },
      "source": [
        "**Nota:** Los números enteros (ej. 2, 4, 20) son de tipo `int` y los que tienen parte racional (ej. 5.0, 1.6) son de tipo `float`. \n",
        "\n",
        "La división ''`/`' (siempre) regresa un valor flotante. Para obtener un valor entero en la división y olvidarnos de la parte racional podemos usar el operador `//`."
      ]
    },
    {
      "cell_type": "code",
      "metadata": {
        "id": "iRh7VYPRC-k-",
        "colab_type": "code",
        "colab": {}
      },
      "source": [
        "17/3 # la divison clásica regresa un valor flotante"
      ],
      "execution_count": 0,
      "outputs": []
    },
    {
      "cell_type": "code",
      "metadata": {
        "id": "E9aqg0NPDEef",
        "colab_type": "code",
        "colab": {}
      },
      "source": [
        "17//3 # regresa solo la parte entera"
      ],
      "execution_count": 0,
      "outputs": []
    },
    {
      "cell_type": "markdown",
      "metadata": {
        "id": "f-7oJI2dDd52",
        "colab_type": "text"
      },
      "source": [
        "En Python, podemos usar el operador `**` para calcular potencias."
      ]
    },
    {
      "cell_type": "code",
      "metadata": {
        "id": "0O5ydVafDk_Y",
        "colab_type": "code",
        "colab": {}
      },
      "source": [
        "5**2 # 5 al cuadrado"
      ],
      "execution_count": 0,
      "outputs": []
    },
    {
      "cell_type": "code",
      "metadata": {
        "id": "z2kLMHn2DpgX",
        "colab_type": "code",
        "colab": {}
      },
      "source": [
        "2**7"
      ],
      "execution_count": 0,
      "outputs": []
    },
    {
      "cell_type": "code",
      "metadata": {
        "id": "aYtoOBNkM1BJ",
        "colab_type": "code",
        "colab": {}
      },
      "source": [
        "2*3**2 # ¿Resultado?"
      ],
      "execution_count": 0,
      "outputs": []
    },
    {
      "cell_type": "code",
      "metadata": {
        "id": "w8k_ceJYN9DP",
        "colab_type": "code",
        "colab": {}
      },
      "source": [
        "2**3*2 # ¿Resultado?"
      ],
      "execution_count": 0,
      "outputs": []
    },
    {
      "cell_type": "markdown",
      "metadata": {
        "id": "9JdDoaoDDr89",
        "colab_type": "text"
      },
      "source": [
        "El signo ''`=`'' se usa para asignar un valor a una variable. "
      ]
    },
    {
      "cell_type": "code",
      "metadata": {
        "id": "N6VlwIhUD06-",
        "colab_type": "code",
        "colab": {}
      },
      "source": [
        "Ancho = 20 \n",
        "Alto = 5*9\n",
        "Ancho * Alto"
      ],
      "execution_count": 0,
      "outputs": []
    },
    {
      "cell_type": "markdown",
      "metadata": {
        "id": "-0Sm3mrZD_2x",
        "colab_type": "text"
      },
      "source": [
        "Si una variable no está definida (no tiene un valor asignado) Python marcará *error* al usarla."
      ]
    },
    {
      "cell_type": "code",
      "metadata": {
        "id": "hD_zLzqaEH2X",
        "colab_type": "code",
        "colab": {}
      },
      "source": [
        "n # tratar de usar una variable indefinida"
      ],
      "execution_count": 0,
      "outputs": []
    },
    {
      "cell_type": "markdown",
      "metadata": {
        "id": "oc5vDoV7ENKJ",
        "colab_type": "text"
      },
      "source": [
        "Al operar con números enteros (`int`) y flotantes (`float`) el resultado será de tipo flotante."
      ]
    },
    {
      "cell_type": "code",
      "metadata": {
        "id": "QMT3E_aVEhWh",
        "colab_type": "code",
        "colab": {}
      },
      "source": [
        "4 * 3.75 - 1"
      ],
      "execution_count": 0,
      "outputs": []
    },
    {
      "cell_type": "markdown",
      "metadata": {
        "id": "rLFNvM7pxvMn",
        "colab_type": "text"
      },
      "source": [
        "La función `round()` sirve para redondear a un número fijo de decimales."
      ]
    },
    {
      "cell_type": "code",
      "metadata": {
        "id": "CqDEwkcDFXO1",
        "colab_type": "code",
        "colab": {}
      },
      "source": [
        "round(5.75, 3)"
      ],
      "execution_count": 0,
      "outputs": []
    },
    {
      "cell_type": "markdown",
      "metadata": {
        "id": "2gvior_GFavW",
        "colab_type": "text"
      },
      "source": [
        "Además de `int` y `float`, Python soporta otro tipo de números como `Decimal` y `Fraction`. "
      ]
    },
    {
      "cell_type": "markdown",
      "metadata": {
        "id": "BCWQ235sGYVw",
        "colab_type": "text"
      },
      "source": [
        "### 1.2 Cadenas\n",
        "\n",
        "Además de variables numéricas `(int, float)`, Python también permite manipular cadenas de caracteres o variables de tipo `string`. Este tipo de variables se escriben entre comillas sencillas `('...')` o comillas dobles `(\"...\")`.\n"
      ]
    },
    {
      "cell_type": "code",
      "metadata": {
        "id": "5muok6R1QtWW",
        "colab_type": "code",
        "colab": {}
      },
      "source": [
        "'Hola Mundo'"
      ],
      "execution_count": 0,
      "outputs": []
    },
    {
      "cell_type": "code",
      "metadata": {
        "id": "AfgHSmb1Qv-v",
        "colab_type": "code",
        "colab": {}
      },
      "source": [
        "\"Hola Mundo\""
      ],
      "execution_count": 0,
      "outputs": []
    },
    {
      "cell_type": "markdown",
      "metadata": {
        "id": "xMUwDNwVQyAU",
        "colab_type": "text"
      },
      "source": [
        "La función `print()` nos permite mostrar texto y/o variables en pantalla."
      ]
    },
    {
      "cell_type": "code",
      "metadata": {
        "id": "6w5EtFkrGvjA",
        "colab_type": "code",
        "colab": {}
      },
      "source": [
        "print(1 + 1)"
      ],
      "execution_count": 0,
      "outputs": []
    },
    {
      "cell_type": "code",
      "metadata": {
        "id": "4BLLMxT4G2Gt",
        "colab_type": "code",
        "colab": {}
      },
      "source": [
        "print(\"Hola Mundo\")"
      ],
      "execution_count": 0,
      "outputs": []
    },
    {
      "cell_type": "markdown",
      "metadata": {
        "id": "wuY4qxxpIo39",
        "colab_type": "text"
      },
      "source": [
        "Revisa el siguiente código, córrelo y trata de entender qué es lo que sucede."
      ]
    },
    {
      "cell_type": "code",
      "metadata": {
        "id": "MfbxLO6vJdyj",
        "colab_type": "code",
        "colab": {}
      },
      "source": [
        "print('Geometria con')\n",
        "print('Python')"
      ],
      "execution_count": 0,
      "outputs": []
    },
    {
      "cell_type": "markdown",
      "metadata": {
        "id": "sq68JHoOJgni",
        "colab_type": "text"
      },
      "source": [
        "Otra manera de escribir lo anterior es almacenando la información en variables."
      ]
    },
    {
      "cell_type": "code",
      "metadata": {
        "id": "PK2U7Ot0JjcQ",
        "colab_type": "code",
        "colab": {}
      },
      "source": [
        "palabra1 = \"Geometria\"\n",
        "palabra2 = \"con\"\n",
        "palabra3 = \"Python\"\n",
        "print(palabra1, palabra2, palabra3)"
      ],
      "execution_count": 0,
      "outputs": []
    },
    {
      "cell_type": "markdown",
      "metadata": {
        "id": "u8eKKqkOKDj_",
        "colab_type": "text"
      },
      "source": [
        "Con el operador ''`+`'' podemos concatenar cadenas de texto."
      ]
    },
    {
      "cell_type": "code",
      "metadata": {
        "id": "-GUCKVjGKMTQ",
        "colab_type": "code",
        "colab": {}
      },
      "source": [
        "palabra1 = \"Geometria\"\n",
        "palabra2 = \"con\"\n",
        "palabra3 = \"Python\"\n",
        "palabra4 = palabra1 + \" \" + palabra2 + \" \" + palabra3\n",
        "print(palabra4)"
      ],
      "execution_count": 0,
      "outputs": []
    },
    {
      "cell_type": "markdown",
      "metadata": {
        "id": "C-9NEkinKPMS",
        "colab_type": "text"
      },
      "source": [
        "Recapitulando, podemos pensar a las variables como un contenedor, en el cual almacenamos cualquier tipo de información. En el ejemplo anterior, almacenamos la cadena de texto \"Geometria\" en la variable `palabra1`. Aunque lucen similares, existe una diferencia importante entre cadenas de texto como \"Geometría\" y variables como `palabra1`. Como ya lo mencionamos, las cadenas de texto se escriben entre comillas, mientras que las variables no. Sin las comillas, Python considera el correspondiete texto como una variable. Para hacer más clara esta diferencia, corramos el siguiente código:"
      ]
    },
    {
      "cell_type": "code",
      "metadata": {
        "id": "ff7nx5TyK3RE",
        "colab_type": "code",
        "colab": {}
      },
      "source": [
        "Geometria = \"Python\"\n",
        "Python = \"Geometria\"\n",
        "print(Geometria + \" \" + palabra2 + \" \" + Python)"
      ],
      "execution_count": 0,
      "outputs": []
    },
    {
      "cell_type": "markdown",
      "metadata": {
        "id": "SP2JIKjaLTCy",
        "colab_type": "text"
      },
      "source": [
        "Los nombres de las variables los podemos escoger arbitrariamente. Sin embargo, es recomendable utilizar nombres significativos/intuitivos para que nos sea más fácil recordar lo que almacenamos en las variables.\n",
        "\n",
        "En general, llamamos 'valor' al contenido de una variable. Si lees un libro de programación, las personas por lo general hablan de almacenar (o asignar) valores a las variables. Observa el siguiente bloque de código."
      ]
    },
    {
      "cell_type": "code",
      "metadata": {
        "id": "CYVpmvdWLh1G",
        "colab_type": "code",
        "colab": {}
      },
      "source": [
        "numero = 1\n",
        "NUMERO = 100000000\n",
        "print(numero == NUMERO)"
      ],
      "execution_count": 0,
      "outputs": []
    },
    {
      "cell_type": "markdown",
      "metadata": {
        "id": "4rxJJvcGLk1U",
        "colab_type": "text"
      },
      "source": [
        "Notemos que Python distingue mayúsculas de minúsculas, es decir, NUMERO ≠ numero.\n",
        "\n",
        "__Ejercicio__: Prueba añadiendo al final del código una línea que imprima la suma de numero y NUMERO. Después, asigna el resultado de esta suma a una nueva variable. Hazlo en la siguiente celda."
      ]
    },
    {
      "cell_type": "code",
      "metadata": {
        "id": "ZM_Gpr5xLtLy",
        "colab_type": "code",
        "colab": {}
      },
      "source": [
        "#Elimina esto e inserta tu código aquí."
      ],
      "execution_count": 0,
      "outputs": []
    },
    {
      "cell_type": "markdown",
      "metadata": {
        "id": "bj6yhp9kLvKP",
        "colab_type": "text"
      },
      "source": [
        "Las cadenas de caracteres también se pueden indexar, donde el primer carácter se le asocia el índice `0`.  Un solo caracter es simplemente una cadena de tamaño uno."
      ]
    },
    {
      "cell_type": "code",
      "metadata": {
        "id": "hzrdAPqQVQ4Y",
        "colab_type": "code",
        "colab": {}
      },
      "source": [
        "palabra = \"Python\"\n",
        "palabra[0]"
      ],
      "execution_count": 0,
      "outputs": []
    },
    {
      "cell_type": "code",
      "metadata": {
        "id": "XPFWEiidVhNc",
        "colab_type": "code",
        "colab": {}
      },
      "source": [
        "palabra[5]"
      ],
      "execution_count": 0,
      "outputs": []
    },
    {
      "cell_type": "markdown",
      "metadata": {
        "id": "4WUavRleVjVx",
        "colab_type": "text"
      },
      "source": [
        "Los índices también pueden ser números negativos, empezando a contar desde la derecha:"
      ]
    },
    {
      "cell_type": "code",
      "metadata": {
        "id": "ic_rKOqLVuZs",
        "colab_type": "code",
        "colab": {}
      },
      "source": [
        "palabra[-1]"
      ],
      "execution_count": 0,
      "outputs": []
    },
    {
      "cell_type": "code",
      "metadata": {
        "id": "1WvVugNCVyK6",
        "colab_type": "code",
        "colab": {}
      },
      "source": [
        "palabra[-2]"
      ],
      "execution_count": 0,
      "outputs": []
    },
    {
      "cell_type": "code",
      "metadata": {
        "id": "tdB3RWAmV1nr",
        "colab_type": "code",
        "colab": {}
      },
      "source": [
        "palabra[-6]"
      ],
      "execution_count": 0,
      "outputs": []
    },
    {
      "cell_type": "markdown",
      "metadata": {
        "id": "AxuuboBSV9hC",
        "colab_type": "text"
      },
      "source": [
        "También es posible acceder a un conjunto de caracteres de la cadena de texto:"
      ]
    },
    {
      "cell_type": "code",
      "metadata": {
        "id": "oAvRKZF8WHQP",
        "colab_type": "code",
        "colab": {}
      },
      "source": [
        "palabra[0:2]"
      ],
      "execution_count": 0,
      "outputs": []
    },
    {
      "cell_type": "code",
      "metadata": {
        "id": "7PTzxVPGWK2M",
        "colab_type": "code",
        "colab": {}
      },
      "source": [
        "palabra[2:5]"
      ],
      "execution_count": 0,
      "outputs": []
    },
    {
      "cell_type": "markdown",
      "metadata": {
        "id": "1_zftv3cWNKl",
        "colab_type": "text"
      },
      "source": [
        "Debemos notar que el primer índice esta incluido y el último no."
      ]
    },
    {
      "cell_type": "code",
      "metadata": {
        "id": "efY2HofuWqB5",
        "colab_type": "code",
        "colab": {}
      },
      "source": [
        "palabra[ :2] + palabra[2: ]"
      ],
      "execution_count": 0,
      "outputs": []
    },
    {
      "cell_type": "code",
      "metadata": {
        "id": "Q7Zn4SOMWv6g",
        "colab_type": "code",
        "colab": {}
      },
      "source": [
        "palabra[ :4] + palabra[4: ]"
      ],
      "execution_count": 0,
      "outputs": []
    },
    {
      "cell_type": "markdown",
      "metadata": {
        "id": "1kTjxtlvW0xS",
        "colab_type": "text"
      },
      "source": [
        "Omitir el primer índice por default nos da el índice `0` y omitir el último índice por default nos da el tamaño de la cadena de caracteres:"
      ]
    },
    {
      "cell_type": "code",
      "metadata": {
        "id": "KRxWNACbXI2q",
        "colab_type": "code",
        "colab": {}
      },
      "source": [
        "palabra[ : 2] #Caracteres desde el comienzo hasta la posicion 2, la cual es excluida"
      ],
      "execution_count": 0,
      "outputs": []
    },
    {
      "cell_type": "code",
      "metadata": {
        "id": "Nof6LbjzXUAC",
        "colab_type": "code",
        "colab": {}
      },
      "source": [
        "palabra[4 : ] # caracteres desde la posicion 4(incluida) hasta el final"
      ],
      "execution_count": 0,
      "outputs": []
    },
    {
      "cell_type": "code",
      "metadata": {
        "id": "bi7BHg_XXb-Z",
        "colab_type": "code",
        "colab": {}
      },
      "source": [
        "palabra[-2 : ] # caracteres desde la posicion -2(incluida) hasta el final"
      ],
      "execution_count": 0,
      "outputs": []
    },
    {
      "cell_type": "markdown",
      "metadata": {
        "id": "wl3Cr4XjXuWJ",
        "colab_type": "text"
      },
      "source": [
        "Usar índices demasiado largos nos devolverá un *error*"
      ]
    },
    {
      "cell_type": "code",
      "metadata": {
        "id": "thuGPKX0XxVc",
        "colab_type": "code",
        "colab": {}
      },
      "source": [
        "palabra[42]"
      ],
      "execution_count": 0,
      "outputs": []
    },
    {
      "cell_type": "markdown",
      "metadata": {
        "id": "6II851qYX0ii",
        "colab_type": "text"
      },
      "source": [
        "Sin embargo, índices fuera de rango se comportan de la forma usual:"
      ]
    },
    {
      "cell_type": "code",
      "metadata": {
        "id": "kUGTbec8X_OU",
        "colab_type": "code",
        "colab": {}
      },
      "source": [
        "palabra[4:42]"
      ],
      "execution_count": 0,
      "outputs": []
    },
    {
      "cell_type": "code",
      "metadata": {
        "id": "X8OulJsuYHUd",
        "colab_type": "code",
        "colab": {}
      },
      "source": [
        "palabra[42:]"
      ],
      "execution_count": 0,
      "outputs": []
    },
    {
      "cell_type": "markdown",
      "metadata": {
        "id": "rdUowp3bYKVG",
        "colab_type": "text"
      },
      "source": [
        "No podemos cambiar el tipo de cadenas de caracteres, son immutables. Por lo que si intentamos asignar un nuevo valor a una posición de una cadena, obtendremos un *error*:"
      ]
    },
    {
      "cell_type": "code",
      "metadata": {
        "id": "KQhrwcKTYj1W",
        "colab_type": "code",
        "colab": {}
      },
      "source": [
        "palabra[0] = \"J\""
      ],
      "execution_count": 0,
      "outputs": []
    },
    {
      "cell_type": "markdown",
      "metadata": {
        "id": "QJGw1u-dYpzk",
        "colab_type": "text"
      },
      "source": [
        "Si queremos una cadena de caracteres diferente, debemos crearla:"
      ]
    },
    {
      "cell_type": "code",
      "metadata": {
        "id": "U0SyR5rCYvP0",
        "colab_type": "code",
        "colab": {}
      },
      "source": [
        "\"J\" + palabra[1: ]"
      ],
      "execution_count": 0,
      "outputs": []
    },
    {
      "cell_type": "code",
      "metadata": {
        "id": "1F1XbrOOY5bh",
        "colab_type": "code",
        "colab": {}
      },
      "source": [
        "palabra[ : 2] + \"py\""
      ],
      "execution_count": 0,
      "outputs": []
    },
    {
      "cell_type": "markdown",
      "metadata": {
        "id": "Xh4SkFaTY_L1",
        "colab_type": "text"
      },
      "source": [
        "La función `len()` nos regresa el tamaño de la cadena:"
      ]
    },
    {
      "cell_type": "code",
      "metadata": {
        "id": "f_ycx28SZFIm",
        "colab_type": "code",
        "colab": {}
      },
      "source": [
        "s = \"Bienvenidos al curso de Geometria Analitica 1\"\n",
        "len(s)"
      ],
      "execution_count": 0,
      "outputs": []
    },
    {
      "cell_type": "markdown",
      "metadata": {
        "id": "BhXkK-qhZTKA",
        "colab_type": "text"
      },
      "source": [
        "### 1.3 Listas\n",
        "\n",
        "Python permite agrupar variables de diferentes tipos en un solo objeto, a estos objetos se les llama listas, y se escriben entre paréntesis cuadrados `[ ]`.\n"
      ]
    },
    {
      "cell_type": "code",
      "metadata": {
        "id": "y3amSiHoZiv9",
        "colab_type": "code",
        "colab": {}
      },
      "source": [
        "lista=['a','b','ab',1,2,1.0]\n",
        "print(lista)"
      ],
      "execution_count": 0,
      "outputs": []
    },
    {
      "cell_type": "markdown",
      "metadata": {
        "id": "aEo59bynZlNA",
        "colab_type": "text"
      },
      "source": [
        "Es común crear listas vacías para posteriormente agregar elementos a ella. Para crear una lista vacía simplemente no escribimos elementos:"
      ]
    },
    {
      "cell_type": "code",
      "metadata": {
        "id": "grf4lgR6Zp08",
        "colab_type": "code",
        "colab": {}
      },
      "source": [
        "lista2=[]\n",
        "print(lista2)"
      ],
      "execution_count": 0,
      "outputs": []
    },
    {
      "cell_type": "markdown",
      "metadata": {
        "id": "mss30r5JZshS",
        "colab_type": "text"
      },
      "source": [
        "Agregamos elementos a una lista con la instrucción `append`:"
      ]
    },
    {
      "cell_type": "code",
      "metadata": {
        "id": "Z_-jRe9sZwsd",
        "colab_type": "code",
        "colab": {}
      },
      "source": [
        "lista2=[]\n",
        "elemento='a'\n",
        "lista2.append(elemento)\n",
        "print(lista2)"
      ],
      "execution_count": 0,
      "outputs": []
    },
    {
      "cell_type": "markdown",
      "metadata": {
        "id": "gUZ4mv6xZ4rI",
        "colab_type": "text"
      },
      "source": [
        "Al igual que las cadenas de caracteres, las listas también tienen sus elementos indexados:"
      ]
    },
    {
      "cell_type": "code",
      "metadata": {
        "id": "NjYbbcVNaDmV",
        "colab_type": "code",
        "colab": {}
      },
      "source": [
        "cuadrados = [1,4,9,16,25]\n",
        "cuadrados[-1] "
      ],
      "execution_count": 0,
      "outputs": []
    },
    {
      "cell_type": "code",
      "metadata": {
        "id": "OpgCGXlnaOWc",
        "colab_type": "code",
        "colab": {}
      },
      "source": [
        "cuadrados[-3: ]"
      ],
      "execution_count": 0,
      "outputs": []
    },
    {
      "cell_type": "markdown",
      "metadata": {
        "id": "fW9yHI2AaSlo",
        "colab_type": "text"
      },
      "source": [
        "También podemos concatenar listas:"
      ]
    },
    {
      "cell_type": "code",
      "metadata": {
        "id": "HhWuNCynagsV",
        "colab_type": "code",
        "colab": {}
      },
      "source": [
        "cuadrados + [36,49,64,81,100]"
      ],
      "execution_count": 0,
      "outputs": []
    },
    {
      "cell_type": "markdown",
      "metadata": {
        "id": "2f1XqDDialiD",
        "colab_type": "text"
      },
      "source": [
        "Pero a diferencia de las cadenas de caracteres, las listas son de tipo `mutable`, i.e. es posible cambiar su contenido:"
      ]
    },
    {
      "cell_type": "code",
      "metadata": {
        "id": "tNzWOWIRaw11",
        "colab_type": "code",
        "colab": {}
      },
      "source": [
        "cubos = [1,8,27,65,125] # hay algo incorrecto"
      ],
      "execution_count": 0,
      "outputs": []
    },
    {
      "cell_type": "code",
      "metadata": {
        "id": "ShxxQLRka6UU",
        "colab_type": "code",
        "colab": {}
      },
      "source": [
        "4**3 # el cubo de 4 es 64, no 65"
      ],
      "execution_count": 0,
      "outputs": []
    },
    {
      "cell_type": "code",
      "metadata": {
        "id": "IqWJMdbfa_AP",
        "colab_type": "code",
        "colab": {}
      },
      "source": [
        "cubos[3] = 64 #reemplazamos el valor incorrecto en la lista"
      ],
      "execution_count": 0,
      "outputs": []
    },
    {
      "cell_type": "code",
      "metadata": {
        "id": "TCs9VSMkbGXP",
        "colab_type": "code",
        "colab": {}
      },
      "source": [
        "cubos"
      ],
      "execution_count": 0,
      "outputs": []
    },
    {
      "cell_type": "markdown",
      "metadata": {
        "id": "L7QTNgcFbRht",
        "colab_type": "text"
      },
      "source": [
        "__Ejercicio:__ Añade a la lista `cubos` dos elementos más:"
      ]
    },
    {
      "cell_type": "code",
      "metadata": {
        "id": "oQ8WinQ2bfcz",
        "colab_type": "code",
        "colab": {}
      },
      "source": [
        "#Escribe aqui tu resultado"
      ],
      "execution_count": 0,
      "outputs": []
    },
    {
      "cell_type": "markdown",
      "metadata": {
        "id": "a9_lQKcXbic5",
        "colab_type": "text"
      },
      "source": [
        "También podemos reasignar varios elementos de la lista al mismo tiempo:"
      ]
    },
    {
      "cell_type": "code",
      "metadata": {
        "id": "Mm5ZBv9-by9I",
        "colab_type": "code",
        "colab": {}
      },
      "source": [
        "letras = ['a', 'b', 'c', 'd', 'e', 'f', 'g']\n",
        "letras"
      ],
      "execution_count": 0,
      "outputs": []
    },
    {
      "cell_type": "code",
      "metadata": {
        "id": "0vugxQbrb9VX",
        "colab_type": "code",
        "colab": {}
      },
      "source": [
        "#reemplazar varios valores:\n",
        "letras[2:5] = ['C', 'D', 'E']\n",
        "letras"
      ],
      "execution_count": 0,
      "outputs": []
    },
    {
      "cell_type": "code",
      "metadata": {
        "id": "xOqwf0_zcJ9K",
        "colab_type": "code",
        "colab": {}
      },
      "source": [
        "#Ahora eliminaremos algunos valores\n",
        "letras[2:5] = [ ]\n",
        "letras"
      ],
      "execution_count": 0,
      "outputs": []
    },
    {
      "cell_type": "code",
      "metadata": {
        "id": "JR3riFXMcVI9",
        "colab_type": "code",
        "colab": {}
      },
      "source": [
        "#Y podemos eliminar todos los elementos de la lista y reemplazar la lista por una lista vacia\n",
        "letras[ : ] = [ ]\n",
        "letras"
      ],
      "execution_count": 0,
      "outputs": []
    },
    {
      "cell_type": "markdown",
      "metadata": {
        "id": "42yE_Tchcjq8",
        "colab_type": "text"
      },
      "source": [
        "La función `len()` también se puede usar en listas:"
      ]
    },
    {
      "cell_type": "code",
      "metadata": {
        "id": "7qNiZa78cpmD",
        "colab_type": "code",
        "colab": {}
      },
      "source": [
        "letras = ['a', 'b', 'c', 'd', 'e']\n",
        "len(letras)"
      ],
      "execution_count": 0,
      "outputs": []
    },
    {
      "cell_type": "markdown",
      "metadata": {
        "id": "JQvjGZF8cyy0",
        "colab_type": "text"
      },
      "source": [
        "También es posible anidar listas (crear listas que contienen listas):"
      ]
    },
    {
      "cell_type": "code",
      "metadata": {
        "id": "g0nfFOKmc4l3",
        "colab_type": "code",
        "colab": {}
      },
      "source": [
        "a = ['a', 'b', 'c']\n",
        "n = [1, 2, 3]\n",
        "x = [ a , n ]\n",
        "x"
      ],
      "execution_count": 0,
      "outputs": []
    },
    {
      "cell_type": "code",
      "metadata": {
        "id": "4bYM1RSpdGWD",
        "colab_type": "code",
        "colab": {}
      },
      "source": [
        "x[0]"
      ],
      "execution_count": 0,
      "outputs": []
    },
    {
      "cell_type": "code",
      "metadata": {
        "id": "eFQMrZJtdI7Z",
        "colab_type": "code",
        "colab": {}
      },
      "source": [
        "x[0][1]"
      ],
      "execution_count": 0,
      "outputs": []
    }
  ]
}