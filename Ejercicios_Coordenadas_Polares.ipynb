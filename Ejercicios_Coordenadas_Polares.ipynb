{
  "nbformat": 4,
  "nbformat_minor": 0,
  "metadata": {
    "colab": {
      "name": "Ejercicios_Coordenadas_Polares.ipynb",
      "version": "0.3.2",
      "provenance": [],
      "collapsed_sections": [],
      "include_colab_link": true
    },
    "kernelspec": {
      "name": "python3",
      "display_name": "Python 3"
    }
  },
  "cells": [
    {
      "cell_type": "markdown",
      "metadata": {
        "id": "view-in-github",
        "colab_type": "text"
      },
      "source": [
        "<a href=\"https://colab.research.google.com/github/HaydeePeruyero/Geometria-Analitica-1/blob/master/Ejercicios_Coordenadas_Polares.ipynb\" target=\"_parent\"><img src=\"https://colab.research.google.com/assets/colab-badge.svg\" alt=\"Open In Colab\"/></a>"
      ]
    },
    {
      "cell_type": "markdown",
      "metadata": {
        "id": "OBmc7xFlw0_x",
        "colab_type": "text"
      },
      "source": [
        "# Ejercicios Sección 2.5"
      ]
    },
    {
      "cell_type": "markdown",
      "metadata": {
        "id": "tIBmbNltEjlu",
        "colab_type": "text"
      },
      "source": [
        "## Conversión entre Coordenadas Polares y Cartesianas"
      ]
    },
    {
      "cell_type": "markdown",
      "metadata": {
        "id": "qLJMfabTEpBN",
        "colab_type": "text"
      },
      "source": [
        "Cuando se tienen dos sistemas coordenados para un mismo espacio resulta natural el preguntarse si existe una manera de 'pasar' de una a otra. Para el caso del plano $\\mathbb{R}^{2}$, es sabido que las fórmulas para obtener las coordenadas cartesianas $(x,y)$ de un punto $(r_{0},\\theta_{0})$ en coordenadas polares son:\n",
        "    \\begin{align*}\n",
        "        x &= r_{0}\\cos(\\theta_{0}), \\\\\n",
        "        y &= r_{0}\\sin(\\theta_{0}).\n",
        "    \\end{align*}\n",
        "    \n",
        "Recíprocamente, las fórmulas para obtener las coordenadas polares $(r,\\theta)$ de un punto $(x_{0},y_{0})$ en coordenadas cartesianas son:\n",
        "    \\begin{align*}\n",
        "        r &= \\sqrt{x_{0}^2+y_{0}^2}, \\\\\n",
        "        \\theta &= \\arctan{\\frac{y_{0}}{x_{0}}}.\n",
        "    \\end{align*}\n",
        "\n",
        "Utilizando el módulo de `SymPy` podemos construir una función en Python que nos ayude a hacer estas conversiones:"
      ]
    },
    {
      "cell_type": "code",
      "metadata": {
        "id": "UkaiKoZDIg4_",
        "colab_type": "code",
        "colab": {}
      },
      "source": [
        "import numpy as np\n",
        "import sympy as sym\n",
        "\n",
        "def polar_to_cartesian(r, theta): # 'def' nos permite 'crear' nuestras propias funciones en Python.\n",
        "   xx = r * sym.cos(theta)\n",
        "   yy = r * sym.sin(theta)\n",
        "   return(xx, yy)\n",
        "\n",
        "def cartesian_to_polar(x, y): \n",
        "   rr = np.sqrt(x**2 + y**2)\n",
        "   theta = np.arctan2(y, x)\n",
        "   return(rr, sym.sympify(theta))"
      ],
      "execution_count": 0,
      "outputs": []
    },
    {
      "cell_type": "markdown",
      "metadata": {
        "id": "eV_cIQvHxjJK",
        "colab_type": "text"
      },
      "source": [
        "1. Determine las coordenadas cartesianas de los puntos cuyas coordenadas\n",
        "polares aparecen a continuación:\n",
        "\n",
        "a) $P(1,− \\pi/3)$\n"
      ]
    },
    {
      "cell_type": "code",
      "metadata": {
        "id": "g1R7y1b8x2Ry",
        "colab_type": "code",
        "colab": {}
      },
      "source": [
        ""
      ],
      "execution_count": 0,
      "outputs": []
    },
    {
      "cell_type": "markdown",
      "metadata": {
        "id": "yPcCtjLzdTrP",
        "colab_type": "text"
      },
      "source": [
        "\n",
        "b) $Q(2, 2 \\pi/3)$\n"
      ]
    },
    {
      "cell_type": "code",
      "metadata": {
        "id": "93KofNS_dVoR",
        "colab_type": "code",
        "colab": {}
      },
      "source": [
        ""
      ],
      "execution_count": 0,
      "outputs": []
    },
    {
      "cell_type": "markdown",
      "metadata": {
        "id": "beATeQCodWNl",
        "colab_type": "text"
      },
      "source": [
        "\n",
        "c) $R(3, \\pi)$, "
      ]
    },
    {
      "cell_type": "code",
      "metadata": {
        "id": "p7hUt9xDdX8F",
        "colab_type": "code",
        "colab": {}
      },
      "source": [
        ""
      ],
      "execution_count": 0,
      "outputs": []
    },
    {
      "cell_type": "markdown",
      "metadata": {
        "id": "6HRDeR3gdYHn",
        "colab_type": "text"
      },
      "source": [
        "\n",
        "d) $S(2, 3 \\pi/4)$"
      ]
    },
    {
      "cell_type": "code",
      "metadata": {
        "id": "akGINowedZbs",
        "colab_type": "code",
        "colab": {}
      },
      "source": [
        ""
      ],
      "execution_count": 0,
      "outputs": []
    },
    {
      "cell_type": "markdown",
      "metadata": {
        "id": "rMZoae0eyDGI",
        "colab_type": "text"
      },
      "source": [
        "2. Determine las coordenadas polares de los puntos cuyas coordenadas\n",
        "cartesianas aparecen a continuación (considere ángulos entre 0 (incluido)\n",
        "y $2\\pi$ (excluido)):\n",
        "\n",
        "a) $P(1,1)$\n"
      ]
    },
    {
      "cell_type": "code",
      "metadata": {
        "id": "rR8qTgz4yKcy",
        "colab_type": "code",
        "colab": {}
      },
      "source": [
        ""
      ],
      "execution_count": 0,
      "outputs": []
    },
    {
      "cell_type": "markdown",
      "metadata": {
        "id": "wjVNPpsgdgn8",
        "colab_type": "text"
      },
      "source": [
        "\n",
        "b) $Q(-1,2)$\n"
      ]
    },
    {
      "cell_type": "code",
      "metadata": {
        "id": "3VHY86z6diFO",
        "colab_type": "code",
        "colab": {}
      },
      "source": [
        ""
      ],
      "execution_count": 0,
      "outputs": []
    },
    {
      "cell_type": "markdown",
      "metadata": {
        "id": "Br_ncM29diep",
        "colab_type": "text"
      },
      "source": [
        "c) $R(1,-2)$"
      ]
    },
    {
      "cell_type": "code",
      "metadata": {
        "id": "l4c5eAYNdkHA",
        "colab_type": "code",
        "colab": {}
      },
      "source": [
        ""
      ],
      "execution_count": 0,
      "outputs": []
    },
    {
      "cell_type": "markdown",
      "metadata": {
        "id": "rPscYql-dkQo",
        "colab_type": "text"
      },
      "source": [
        "d) $S(0,-2)$"
      ]
    },
    {
      "cell_type": "code",
      "metadata": {
        "id": "BxCtHVB5dkzU",
        "colab_type": "code",
        "colab": {}
      },
      "source": [
        ""
      ],
      "execution_count": 0,
      "outputs": []
    },
    {
      "cell_type": "markdown",
      "metadata": {
        "id": "65dDRXc7w5e6",
        "colab_type": "text"
      },
      "source": [
        "3. Dibuje en una misma gráfica las curvas coordenadas correspondientes a las condiciones siguientes:\n",
        "\n",
        "__Ejemplo 1:__ $r = 1$, $r = 2$, $r = 3$, $r = 4$, $r = 5$;\n"
      ]
    },
    {
      "cell_type": "code",
      "metadata": {
        "id": "4G_-8BnXw0ku",
        "colab_type": "code",
        "colab": {
          "base_uri": "https://localhost:8080/",
          "height": 450
        },
        "outputId": "e49e8a84-dfea-40d5-8413-f08ae89258f3"
      },
      "source": [
        "import matplotlib.pyplot as mplt\n",
        "import numpy as np\n",
        "\n",
        "ax = mplt.subplot(111, projection='polar')\n",
        "\n",
        "colores = ['b', 'g', 'r', 'c', 'm']\n",
        "#rads = np.arange(0, (2*np.pi), 0.01)\n",
        "\n",
        "for a in range(1,6,1):\n",
        "  theta1 = np.linspace(0,2*np.pi,10000)#rads = np.arange(0, (2*np.pi), 0.01)\n",
        "  r1 = a*theta1/theta1 \n",
        "  mplt.polar(theta1, r1, label='$r=$'+ str(a) , color= colores[a-1]  ) #2Lista de colores: {'b', 'g', 'r', 'c', 'm', 'y', 'k', 'w'}\n",
        "ax.legend(loc='upper center', bbox_to_anchor=(0.5, -0.1)) # Con esta instrucción modifico el lugar a imprimir la leyenda\n",
        "mplt.show()"
      ],
      "execution_count": 11,
      "outputs": [
        {
          "output_type": "stream",
          "text": [
            "/usr/local/lib/python3.6/dist-packages/ipykernel_launcher.py:11: RuntimeWarning: invalid value encountered in true_divide\n",
            "  # This is added back by InteractiveShellApp.init_path()\n",
            "/usr/local/lib/python3.6/dist-packages/matplotlib/projections/polar.py:63: RuntimeWarning: invalid value encountered in less\n",
            "  mask = r < 0\n"
          ],
          "name": "stderr"
        },
        {
          "output_type": "display_data",
          "data": {
            "image/png": "[encoded data removed]",
            "text/plain": [
              "<Figure size 432x288 with 1 Axes>"
            ]
          },
          "metadata": {
            "tags": []
          }
        }
      ]
    },
    {
      "cell_type": "markdown",
      "metadata": {
        "id": "-nH2MgHH3xz5",
        "colab_type": "text"
      },
      "source": [
        "__Ejemplo 2:__ $\\theta = \\pi/4$, $\\theta = 3\\pi/4$, $\\theta = 5\\pi/4$, $\\theta = 7\\pi/4$;"
      ]
    },
    {
      "cell_type": "code",
      "metadata": {
        "id": "TSOfqbui3uoy",
        "colab_type": "code",
        "colab": {
          "base_uri": "https://localhost:8080/",
          "height": 369
        },
        "outputId": "89a723e7-0998-4bc9-fde0-0494f51743a0"
      },
      "source": [
        "import matplotlib.pyplot as mplt\n",
        "import numpy as np\n",
        "from fractions import Fraction as frac\n",
        "ax = mplt.subplot(111, projection='polar')\n",
        "r1 = np.arange(0.01, 2*np.pi, 0.01)\n",
        "theta1 = np.pi/4*r1/r1\n",
        "for a in [8, 8/3, 8/5, 8/7]:\n",
        "   theta1 = 2*np.pi/a*r1/r1\n",
        "   mplt.polar(theta1, r1, label='$\\\\theta = $' + str(frac(2/a)) + '$\\\\pi$')\n",
        "ax.legend(loc='upper center', bbox_to_anchor=(0.5, -0.1))\n",
        "mplt.show()"
      ],
      "execution_count": 10,
      "outputs": [
        {
          "output_type": "display_data",
          "data": {
            "image/png": "[encoded data removed]",
            "text/plain": [
              "<Figure size 432x288 with 1 Axes>"
            ]
          },
          "metadata": {
            "tags": []
          }
        }
      ]
    },
    {
      "cell_type": "markdown",
      "metadata": {
        "id": "bzmShJaQ4VYm",
        "colab_type": "text"
      },
      "source": [
        "(a) $r = 5$, $r = 6$, $r = 7$, $r = 8$"
      ]
    },
    {
      "cell_type": "code",
      "metadata": {
        "id": "MoT7scPr4g6E",
        "colab_type": "code",
        "colab": {}
      },
      "source": [
        ""
      ],
      "execution_count": 0,
      "outputs": []
    },
    {
      "cell_type": "markdown",
      "metadata": {
        "id": "B21X_zkRdGbX",
        "colab_type": "text"
      },
      "source": [
        "(b) $\\theta = \\pi/6$, $\\theta = \\pi/4$, $\\theta = \\pi/3$;\n"
      ]
    },
    {
      "cell_type": "code",
      "metadata": {
        "id": "10EH73HEdKNu",
        "colab_type": "code",
        "colab": {}
      },
      "source": [
        ""
      ],
      "execution_count": 0,
      "outputs": []
    },
    {
      "cell_type": "markdown",
      "metadata": {
        "id": "-nf396TddJ03",
        "colab_type": "text"
      },
      "source": [
        "(c) $\\theta = -\\pi/4$, $\\theta = -\\pi/2$, $\\theta = -5\\pi/6$"
      ]
    },
    {
      "cell_type": "code",
      "metadata": {
        "id": "e0iaYVXMdMpQ",
        "colab_type": "code",
        "colab": {}
      },
      "source": [
        ""
      ],
      "execution_count": 0,
      "outputs": []
    },
    {
      "cell_type": "markdown",
      "metadata": {
        "id": "hM0hB0P5yefz",
        "colab_type": "text"
      },
      "source": [
        "# Ejercicios Sección 2.6"
      ]
    },
    {
      "cell_type": "markdown",
      "metadata": {
        "id": "dUvNzEChyiQD",
        "colab_type": "text"
      },
      "source": [
        "En los siguientes ejercicios, primero evalua 5 valores de $(\\theta, r(\\theta))$ y luego grafica la curva. Realiza cada ejercicio con al menos 3 valores diferentes de $a$ y $b$ en la misma gráfica.\n"
      ]
    },
    {
      "cell_type": "markdown",
      "metadata": {
        "id": "vhGcrXbq5BCn",
        "colab_type": "text"
      },
      "source": [
        "__Ejemplo:__ Una cardioide es una curva (una para cada elección de $a$) con ecuación\n",
        "$$r = a(1 + \\cos( \\theta)) $$"
      ]
    },
    {
      "cell_type": "code",
      "metadata": {
        "id": "U674wObhzztn",
        "colab_type": "code",
        "colab": {}
      },
      "source": [
        "import matplotlib.pyplot as mplt\n",
        "import numpy as np\n",
        "\n",
        "ax = mplt.subplot(111, projection='polar')\n",
        "colores = ['b', 'g', 'r', 'c', 'm'] # Lista de colores disponibles: {'b', 'g', 'r', 'c', 'm', 'y', 'k', 'w'}\n",
        "\n",
        "for a in range(1, 6): # Vamos a graficar para 5 valores diferentes de a  \n",
        "  theta1 = np.linspace(0, 2*np.pi, 10000) # linspace divide el intervalo (0, 2pi) en 10000 partes iguales\n",
        "  r1 = a*(1 + np.cos(theta1))\n",
        "  mplt.polar(theta1, r1, label='$r=$'+ str(a) + '$(1+\\cos(\\\\theta))$', color=colores[a-1])    \n",
        "  ax.legend(loc='upper center', bbox_to_anchor=(0.5, -0.1)) # Con esta instrucción modifico el lugar a imprimir la leyenda\n",
        "mplt.show()"
      ],
      "execution_count": 0,
      "outputs": []
    },
    {
      "cell_type": "markdown",
      "metadata": {
        "id": "gaXsmynh5P1I",
        "colab_type": "text"
      },
      "source": [
        "1. Un caracol de Pascal es una curva con ecuación\n",
        "$$ r = b + a \\cos (\\theta),$$\n",
        "donde cada elección de $a$ y de $b$ da lugar a una curva distinta y cuando $a = b$ se obtiene una cardioide."
      ]
    },
    {
      "cell_type": "code",
      "metadata": {
        "id": "0T-b4tDS5aqJ",
        "colab_type": "code",
        "colab": {}
      },
      "source": [
        ""
      ],
      "execution_count": 0,
      "outputs": []
    },
    {
      "cell_type": "markdown",
      "metadata": {
        "id": "8UYJ3toi5gMs",
        "colab_type": "text"
      },
      "source": [
        "2. Una espiral de Arquímedes tiene por ecuación\n",
        "$$r = a \\theta.$$"
      ]
    },
    {
      "cell_type": "code",
      "metadata": {
        "id": "9KAF1tJn5m8y",
        "colab_type": "code",
        "colab": {}
      },
      "source": [
        ""
      ],
      "execution_count": 0,
      "outputs": []
    },
    {
      "cell_type": "markdown",
      "metadata": {
        "id": "FNQncruF5nvR",
        "colab_type": "text"
      },
      "source": [
        "3. Una espiral hiperbólica es una curva de ecuación\n",
        "$$r \\theta = c,$$\n",
        "donde cada elección de $c$ da lugar a una espiral distinta."
      ]
    },
    {
      "cell_type": "code",
      "metadata": {
        "id": "dx-RQ_KF5yrk",
        "colab_type": "code",
        "colab": {}
      },
      "source": [
        ""
      ],
      "execution_count": 0,
      "outputs": []
    },
    {
      "cell_type": "markdown",
      "metadata": {
        "id": "84ssk0mB5zcU",
        "colab_type": "text"
      },
      "source": [
        ""
      ]
    }
  ]
}