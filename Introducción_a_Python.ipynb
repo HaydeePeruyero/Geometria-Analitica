{
  "nbformat": 4,
  "nbformat_minor": 0,
  "metadata": {
    "colab": {
      "name": "Introducción a Python.ipynb",
      "version": "0.3.2",
      "provenance": [],
      "include_colab_link": true
    },
    "kernelspec": {
      "name": "python3",
      "display_name": "Python 3"
    }
  },
  "cells": [
    {
      "cell_type": "markdown",
      "metadata": {
        "id": "view-in-github",
        "colab_type": "text"
      },
      "source": [
        "<a href=\"https://colab.research.google.com/github/HaydeePeruyero/Geometria-Analitica-1/blob/master/Introducci%C3%B3n_a_Python.ipynb\" target=\"_parent\"><img src=\"https://colab.research.google.com/assets/colab-badge.svg\" alt=\"Open In Colab\"/></a>"
      ]
    },
    {
      "cell_type": "markdown",
      "metadata": {
        "id": "5er4cA_jxhdT",
        "colab_type": "text"
      },
      "source": [
        "# Introducción a Python\n",
        "\n",
        "Python es un lenguage de programación poderoso y fácil de aprender. Tiene un alto nivel de estructura de datos y una forma simple pero efectiva de aproximarse a la programación orientada a objetos. La sintaxis legante y dinámica de python, junto con su interprete natural, lo hacen el lenguaje ideal para desarrollar aplicaciones rápidas en diversas áreas en la mayoría de plataformas.\n",
        "\n",
        "El interprete de Python y todas sus librerias estándar se pueden encontrar gratuitamente para la mayoría de plataformas en el sitio Web de [Python](https://www.python.org/). También pueden encontrar en este sitio documentación adicional, programas y herramientas.\n",
        "\n",
        "### Instalar Python3\n",
        "\n",
        "Podemos encontrar a Python en dos versiones: Python2 y Python3. Actualmente se encuentra incorporado nativamente en Linux y Mac Os, sin embargo podemos optar por instalar otra distribución como Anaconda. En este curso utilizaremos Python en su versión 3, desde los notebooks de [Google Colab](https://colab.research.google.com/notebooks/welcome.ipynb), trabajar con la distribución nativa o con otra que instalemos no implica diferencia alguna para este curso. Si no sabemos cómo comprobar la versión por default en nuestro sistema o estamos utilizando Windows, podemos directamente descargar e instalar la distribución de Anaconda mediante el siguiente enlace:\n",
        "\n",
        "[Descarga Anaconda](https://www.anaconda.com/distribution/#download-section)\n",
        "\n",
        "## 1. Usando Python como Calculadora\n",
        "\n",
        "### 1.1 Números\n",
        "\n",
        "### 1.2 Cadenas\n",
        "\n",
        "### 1.3 Listas\n",
        "\n",
        "## 2. Estructuras de Control\n",
        "\n",
        "### 2.1 If\n",
        "\n",
        "### 2.2 For\n",
        "\n",
        "### 2.3 La función range()\n",
        "\n",
        "\n",
        "\n",
        "\n"
      ]
    }
  ]
}