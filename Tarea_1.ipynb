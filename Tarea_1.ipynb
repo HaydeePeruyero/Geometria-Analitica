{
  "nbformat": 4,
  "nbformat_minor": 0,
  "metadata": {
    "colab": {
      "name": "Tarea 1.ipynb",
      "version": "0.3.2",
      "provenance": [],
      "collapsed_sections": [],
      "include_colab_link": true
    },
    "kernelspec": {
      "name": "python3",
      "display_name": "Python 3"
    }
  },
  "cells": [
    {
      "cell_type": "markdown",
      "metadata": {
        "id": "view-in-github",
        "colab_type": "text"
      },
      "source": [
        "<a href=\"https://colab.research.google.com/github/HaydeePeruyero/Geometria-Analitica-1/blob/master/Tarea_1.ipynb\" target=\"_parent\"><img src=\"https://colab.research.google.com/assets/colab-badge.svg\" alt=\"Open In Colab\"/></a>"
      ]
    },
    {
      "cell_type": "markdown",
      "metadata": {
        "id": "BS0GUSao8Ff6",
        "colab_type": "text"
      },
      "source": [
        "# Tarea 1\n",
        "\n",
        "Fecha de entrega: Jueves 22 de agosto\n",
        "\n",
        "Num. de Cuenta:\n"
      ]
    },
    {
      "cell_type": "markdown",
      "metadata": {
        "id": "MKaAEg_z8INb",
        "colab_type": "text"
      },
      "source": [
        "__Ejercicio 1__: Escribe 3 ejemplos de cómo importar un módulo (`math`, `sympy`), cada uno de distinta manera y cómo llamar y usar una función en cada caso. "
      ]
    },
    {
      "cell_type": "code",
      "metadata": {
        "id": "suM7PweL8FHO",
        "colab_type": "code",
        "colab": {}
      },
      "source": [
        "# Forma 1"
      ],
      "execution_count": 0,
      "outputs": []
    },
    {
      "cell_type": "code",
      "metadata": {
        "id": "jizNHEX78pse",
        "colab_type": "code",
        "colab": {}
      },
      "source": [
        "# Forma 2"
      ],
      "execution_count": 0,
      "outputs": []
    },
    {
      "cell_type": "code",
      "metadata": {
        "id": "KUdd2Rue8p9h",
        "colab_type": "code",
        "colab": {}
      },
      "source": [
        "# Forma 3"
      ],
      "execution_count": 0,
      "outputs": []
    },
    {
      "cell_type": "markdown",
      "metadata": {
        "id": "TTpL8LRH8wzn",
        "colab_type": "text"
      },
      "source": [
        "__Ejercicio 2:__  Realice 2 ejemplos de gráficas en un mismo plano, el primero con dos funciones distintas con el mismo dominio y el segundo con dos funciones distintas con diferentes dominios."
      ]
    },
    {
      "cell_type": "code",
      "metadata": {
        "id": "IPTy4hBD9Dlm",
        "colab_type": "code",
        "colab": {}
      },
      "source": [
        "# Ejemplo 1: Dos funciones distintas con el mismo dominio\n",
        "# Escriba las funciones a graficar y el dominio que usará: \n",
        "#Función 1: \n",
        "#Función 2:                                      \n",
        "\n",
        "# Grafique:"
      ],
      "execution_count": 0,
      "outputs": []
    },
    {
      "cell_type": "code",
      "metadata": {
        "id": "VGSkfD5R9Iw2",
        "colab_type": "code",
        "colab": {}
      },
      "source": [
        "# Ejemplo 2: Dos funciones distintas con diferente dominio\n",
        "# Escriba las funciones a graficar y los dominios que usará: \n",
        "#Función 1: \n",
        "#Función 2:\n",
        "\n",
        "# Grafique:"
      ],
      "execution_count": 0,
      "outputs": []
    },
    {
      "cell_type": "markdown",
      "metadata": {
        "id": "i6u4Kl6t9NoC",
        "colab_type": "text"
      },
      "source": [
        "__Ejercicio 3:__ Usando la función `plot3d` grafique una función."
      ]
    },
    {
      "cell_type": "code",
      "metadata": {
        "id": "24xHr9Eu9dbz",
        "colab_type": "code",
        "colab": {}
      },
      "source": [
        "#Ejemplo de plot3d\n",
        "# Escriba la función a graficar:\n",
        "\n",
        "# Grafique:"
      ],
      "execution_count": 0,
      "outputs": []
    },
    {
      "cell_type": "markdown",
      "metadata": {
        "id": "y5h6yfdz9fRc",
        "colab_type": "text"
      },
      "source": [
        "__Ejercicio 4:__ Busca tres ejemplos de ecuaciones generales de circunferencia, parábola y elipse fuera del origen y usando la función `plot_implicit` grafíquelas. \n",
        "\n",
        "Nota: Dé valores a las constantes $A,B,C,D,E,F \\in \\mathbb{R}$."
      ]
    },
    {
      "cell_type": "markdown",
      "metadata": {
        "id": "YbHsK-OL9ybo",
        "colab_type": "text"
      },
      "source": [
        "1) Círculo:  $x^{2}+y^{2}+Cx+Dy+F=0$ "
      ]
    },
    {
      "cell_type": "code",
      "metadata": {
        "id": "PhcmVLg0AoKp",
        "colab_type": "code",
        "colab": {}
      },
      "source": [
        "# Escriba la función a graficar:\n",
        "\n",
        "# Grafique:"
      ],
      "execution_count": 0,
      "outputs": []
    },
    {
      "cell_type": "markdown",
      "metadata": {
        "id": "cxEFaMQKApB_",
        "colab_type": "text"
      },
      "source": [
        "2) Parábola: $y^{2}+Cx+Dy+F=0$"
      ]
    },
    {
      "cell_type": "code",
      "metadata": {
        "id": "UNIe3nDsA5pC",
        "colab_type": "code",
        "colab": {}
      },
      "source": [
        "# Escriba la función a graficar:\n",
        "\n",
        "# Grafique:"
      ],
      "execution_count": 0,
      "outputs": []
    },
    {
      "cell_type": "markdown",
      "metadata": {
        "id": "v_6FOHn4A6LN",
        "colab_type": "text"
      },
      "source": [
        "3) Elipse: $Ax^{2}+By^{2}+Cx+Dy+F=0$ "
      ]
    },
    {
      "cell_type": "code",
      "metadata": {
        "id": "fcxFpeVNBYyV",
        "colab_type": "code",
        "colab": {}
      },
      "source": [
        "# Escriba la función a graficar:\n",
        "\n",
        "# Grafique:"
      ],
      "execution_count": 0,
      "outputs": []
    },
    {
      "cell_type": "markdown",
      "metadata": {
        "id": "-ykVBmgzDgxD",
        "colab_type": "text"
      },
      "source": [
        "__Ejercicio 4:__ De valores a las constantes $a,b,c \\in \\mathbb{R}$ y grafique las siguientes regiones:"
      ]
    },
    {
      "cell_type": "markdown",
      "metadata": {
        "id": "y-9PZXT8DtDB",
        "colab_type": "text"
      },
      "source": [
        "1) $a x+ b y> c$"
      ]
    },
    {
      "cell_type": "code",
      "metadata": {
        "id": "XVT6zHtLDxKz",
        "colab_type": "code",
        "colab": {}
      },
      "source": [
        "# Escriba la función a graficar:\n",
        "\n",
        "# Grafique:"
      ],
      "execution_count": 0,
      "outputs": []
    },
    {
      "cell_type": "markdown",
      "metadata": {
        "id": "R_qtggP2Dxvm",
        "colab_type": "text"
      },
      "source": [
        "2) $a x^{2}>b$"
      ]
    },
    {
      "cell_type": "code",
      "metadata": {
        "id": "FR-W0mhoD2EC",
        "colab_type": "code",
        "colab": {}
      },
      "source": [
        "# Escriba la función a graficar:\n",
        "\n",
        "# Grafique:"
      ],
      "execution_count": 0,
      "outputs": []
    },
    {
      "cell_type": "markdown",
      "metadata": {
        "id": "0pjuxEazkIaj",
        "colab_type": "text"
      },
      "source": [
        "3) $ax^{2}+by<c$"
      ]
    },
    {
      "cell_type": "code",
      "metadata": {
        "id": "g-7jhtYzkRQk",
        "colab_type": "code",
        "colab": {}
      },
      "source": [
        "# Escriba la función a graficar:\n",
        "\n",
        "# Grafique:"
      ],
      "execution_count": 0,
      "outputs": []
    },
    {
      "cell_type": "markdown",
      "metadata": {
        "id": "p0gMDLkfD3UW",
        "colab_type": "text"
      },
      "source": [
        "4) $ax^{2}+by^{2}< c$"
      ]
    },
    {
      "cell_type": "code",
      "metadata": {
        "id": "D8gH2vLOD-GU",
        "colab_type": "code",
        "colab": {}
      },
      "source": [
        "# Escriba la función a graficar:\n",
        "\n",
        "# Grafique:"
      ],
      "execution_count": 0,
      "outputs": []
    },
    {
      "cell_type": "markdown",
      "metadata": {
        "id": "vPxdSlrXj7rU",
        "colab_type": "text"
      },
      "source": [
        "5) $ax^{2} -by^{2}< c$"
      ]
    },
    {
      "cell_type": "code",
      "metadata": {
        "id": "M5OEUkh3kBXq",
        "colab_type": "code",
        "colab": {}
      },
      "source": [
        "# Escriba la función a graficar:\n",
        "\n",
        "# Grafique:"
      ],
      "execution_count": 0,
      "outputs": []
    },
    {
      "cell_type": "markdown",
      "metadata": {
        "id": "VkLwXxhKnpGY",
        "colab_type": "text"
      },
      "source": [
        "**Ejercicio 5**: Dé valores a las constantes $a,b \\in \\mathbb{R}$ y grafique las siguientes funciones utilizando la librería `Matplotlib`. Utilice un mismo tamaño de paso en cada caso. "
      ]
    },
    {
      "cell_type": "markdown",
      "metadata": {
        "id": "puv5U0xnoWnB",
        "colab_type": "text"
      },
      "source": [
        "$y = ax + b$."
      ]
    },
    {
      "cell_type": "code",
      "metadata": {
        "id": "IB_Mmb7JneSi",
        "colab_type": "code",
        "colab": {}
      },
      "source": [
        "# Escriba la función a graficar:\n",
        "\n",
        "# Grafique:"
      ],
      "execution_count": 0,
      "outputs": []
    },
    {
      "cell_type": "markdown",
      "metadata": {
        "id": "TJtvqB4lo6Rn",
        "colab_type": "text"
      },
      "source": [
        "$y = ax^2 + b$."
      ]
    },
    {
      "cell_type": "code",
      "metadata": {
        "id": "eNsCZ3P2pC7K",
        "colab_type": "code",
        "colab": {}
      },
      "source": [
        "# Escriba la función a graficar:\n",
        "\n",
        "# Grafique:"
      ],
      "execution_count": 0,
      "outputs": []
    },
    {
      "cell_type": "markdown",
      "metadata": {
        "id": "eduvTPESqe5g",
        "colab_type": "text"
      },
      "source": [
        "**Ejercicio 6:** Grafique nuevamente las dos funciones anteriores pero ahora utilizando dos tamaños de paso diferentes."
      ]
    },
    {
      "cell_type": "code",
      "metadata": {
        "id": "pFzwrOYSqipW",
        "colab_type": "code",
        "colab": {}
      },
      "source": [
        "# Escriba la función a graficar:\n",
        "\n",
        "# Grafique:"
      ],
      "execution_count": 0,
      "outputs": []
    },
    {
      "cell_type": "code",
      "metadata": {
        "id": "I9ED5tm6rciZ",
        "colab_type": "code",
        "colab": {}
      },
      "source": [
        "# Escriba la función a graficar:\n",
        "\n",
        "# Grafique:"
      ],
      "execution_count": 0,
      "outputs": []
    },
    {
      "cell_type": "markdown",
      "metadata": {
        "id": "V9IEywPJrylG",
        "colab_type": "text"
      },
      "source": [
        "**Ejercicio 7:** Escoja una de las siguientes funciones y grafíquelas fijando de manera adecuada el correspondiente dominio (intervalo):\n",
        "\n",
        "(a) $ y = \\frac{1}{x^2}$\n",
        "\n",
        "(b) $y = tan(x)$\n",
        "\n",
        "(c) $y = \\sqrt{ - x}$\n",
        "\n",
        "(d) $y = ln(x)$\n"
      ]
    },
    {
      "cell_type": "code",
      "metadata": {
        "id": "tVXXRfrotiTV",
        "colab_type": "code",
        "colab": {}
      },
      "source": [
        "# Escriba la función a graficar:\n",
        "\n",
        "# Grafique:"
      ],
      "execution_count": 0,
      "outputs": []
    },
    {
      "cell_type": "markdown",
      "metadata": {
        "colab_type": "text",
        "id": "19bxAEAPt0Uj"
      },
      "source": [
        "**Ejercicio 8:** Escoja tres de las siguientes funciones, grafíquelas fijando de manera adecuada el correspondiente dominio (intervalo) y agregue un leyenda al plano que indique la gráfica que corresponde a cada función. Ajuste de manera adecuada los tamaños de paso para que NO sobresalga una función más que las restantes:\n",
        "\n",
        "(a) $y = \\frac{1}{x^2}$\n",
        "\n",
        "(b) $y = tan(x)$\n",
        "\n",
        "(c) $y = \\sqrt{-x}$\n",
        "\n",
        "(d) $y = ln(x)$\n",
        "\n",
        "(e) $y = e^x$\n",
        "\n",
        "(f) $y = 2^x$\n"
      ]
    },
    {
      "cell_type": "code",
      "metadata": {
        "id": "VReesObSe-bY",
        "colab_type": "code",
        "colab": {}
      },
      "source": [
        "#1 Escriba la función a graficar:\n",
        "\n",
        "# Grafique:"
      ],
      "execution_count": 0,
      "outputs": []
    },
    {
      "cell_type": "code",
      "metadata": {
        "id": "td2n6yBZiLgh",
        "colab_type": "code",
        "colab": {}
      },
      "source": [
        "#2 Escriba la función a graficar:\n",
        "\n",
        "# Grafique:"
      ],
      "execution_count": 0,
      "outputs": []
    },
    {
      "cell_type": "code",
      "metadata": {
        "id": "PffUIaStiNvB",
        "colab_type": "code",
        "colab": {}
      },
      "source": [
        "#3 Escriba la función a graficar:\n",
        "\n",
        "# Grafique:"
      ],
      "execution_count": 0,
      "outputs": []
    }
  ]
}