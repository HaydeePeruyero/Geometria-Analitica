{
  "nbformat": 4,
  "nbformat_minor": 0,
  "metadata": {
    "colab": {
      "name": "3.3 Ejemplos adicionales",
      "version": "0.3.2",
      "provenance": [],
      "collapsed_sections": [],
      "include_colab_link": true
    },
    "kernelspec": {
      "name": "python3",
      "display_name": "Python 3"
    }
  },
  "cells": [
    {
      "cell_type": "markdown",
      "metadata": {
        "id": "view-in-github",
        "colab_type": "text"
      },
      "source": [
        "<a href=\"https://colab.research.google.com/github/HaydeePeruyero/Geometria-Analitica-1/blob/master/3_3_Ejemplos_adicionales.ipynb\" target=\"_parent\"><img src=\"https://colab.research.google.com/assets/colab-badge.svg\" alt=\"Open In Colab\"/></a>"
      ]
    },
    {
      "cell_type": "markdown",
      "metadata": {
        "id": "6JeUltwzLFAW",
        "colab_type": "text"
      },
      "source": [
        "Los siguientes ejemplos tienen la intención de mostrar varias herramientas y resultados que podemos obtener usando Matplotlib."
      ]
    },
    {
      "cell_type": "markdown",
      "metadata": {
        "id": "jF3w6VQBYFgq",
        "colab_type": "text"
      },
      "source": [
        "# 1. Área entre dos curvas\n",
        "\n"
      ]
    },
    {
      "cell_type": "markdown",
      "metadata": {
        "id": "AgqRPIbTPnWK",
        "colab_type": "text"
      },
      "source": [
        "__Referencias:__\n",
        "* https://matplotlib.org/3.1.1/gallery/lines_bars_and_markers/fill_between_demo.html#sphx-glr-gallery-lines-bars-and-markers-fill-between-demo-py\n",
        "\n",
        "\n",
        "\n",
        "Dentro de `matplotlib` se encuentra una herramienta para \"llenar\" el área comprendida entre dos curvas. "
      ]
    },
    {
      "cell_type": "code",
      "metadata": {
        "id": "8JHMGlfgLeKn",
        "colab_type": "code",
        "colab": {}
      },
      "source": [
        "# Importamos los módulos necesarios\n",
        "import matplotlib.pyplot as plt\n",
        "import numpy as np\n",
        "\n",
        "# Definimos nuestro dominio y precisión (0.01)\n",
        "x = np.arange(-4, 4, 0.01)\n",
        "\n",
        "# Definimos nuestras dos curvas \n",
        "f_1 = x\n",
        "f_2 = x**2-2\n",
        "\n",
        "# Graficamos el área comprendida entre nuestras dos curvas\n",
        "plt.fill_between(x, f_1, f_2)\n",
        "\n",
        "# Atributos de la grafica\n",
        "plt.xlabel('eje x') # Opcional: imprimir etiquetas en los ejes\n",
        "plt.ylabel('eje y') \n",
        "\n",
        "plt.grid() # Opcional: cuadricula \n",
        "\n",
        "# Mostrar grafica\n",
        "plt.show() "
      ],
      "execution_count": 0,
      "outputs": []
    },
    {
      "cell_type": "markdown",
      "metadata": {
        "id": "eBdj84w9lmBw",
        "colab_type": "text"
      },
      "source": [
        "Otra herramienta útil es `subplots`, la cual nos permite imprimir diferentes gráficas en una sola imágen . Veamos un ejemplo:"
      ]
    },
    {
      "cell_type": "code",
      "metadata": {
        "id": "vd-UEp2DLg7P",
        "colab_type": "code",
        "colab": {}
      },
      "source": [
        "# Importamos los módulos necesarios\n",
        "import matplotlib.pyplot as plt\n",
        "import numpy as np\n",
        "\n",
        "# Definimos nuestro dominio y precision (0.01)\n",
        "x = np.arange(0.0, 2, 0.01)\n",
        "\n",
        "# Definimos nuestras dos curvas \n",
        "y1 = np.sin(2 * np.pi * x)\n",
        "y2 = np.sin(4 * np.pi * x)\n",
        "\n",
        "# Definimos nuestro entorno y subplots\n",
        "fig, (ax1, ax2, ax3) = plt.subplots(3, 1, sharex=True)\n",
        "\n",
        "# Primera región, área entre el eje x (que simbolizamos por 0) y la curva y1\n",
        "ax1.fill_between(x, 0, y1)\n",
        "ax1.set_ylabel('Area($0$ , $y_{1}$ )')\n",
        "\n",
        "ax2.fill_between(x, y1, 1)\n",
        "ax2.set_ylabel('Area($y_{1}$ , 1 )')\n",
        "\n",
        "ax3.fill_between(x, y1, y2)\n",
        "ax3.set_ylabel('Area($y_{1}$ , $y_{2}$ )')\n",
        "ax3.set_xlabel('eje x')\n",
        "\n",
        "#Mostrar grafica\n",
        "plt.show() "
      ],
      "execution_count": 0,
      "outputs": []
    },
    {
      "cell_type": "markdown",
      "metadata": {
        "id": "gBTWNP97uHGA",
        "colab_type": "text"
      },
      "source": [
        "También podemos llenar el área entre dos curvas dada alguna condición lógica.  Por ejemplo, el área entre las curvas $y_{1}$ y $y_{2}$ pero tales que $y_{1}$ sea mayor a $y_{2}$."
      ]
    },
    {
      "cell_type": "code",
      "metadata": {
        "id": "xzV7-hXLuG4P",
        "colab_type": "code",
        "colab": {}
      },
      "source": [
        "# Importamos los módulos necesarios\n",
        "import matplotlib.pyplot as plt\n",
        "import numpy as np\n",
        "\n",
        "# Definimos nuestro dominio y precision (0.01)\n",
        "x = np.arange(0.0, 2, 0.01)\n",
        "\n",
        "# Definimos nuestras dos curvas \n",
        "y1 = np.sin(2 * np.pi * x)\n",
        "y2 = 2* np.sin(4 * np.pi * x)\n",
        "\n",
        "# Graficamos nuestras curvas\n",
        "plt.plot(x, y1, x, y2, color='black') # Aquí, especificamos que el color de la curva sea negro (black)\n",
        "\n",
        "# Coloreamos de verde el área que satisface la condicion y2 >= y1\n",
        "plt.fill_between(x, y1, y2, where=y2 >= y1, facecolor='green', interpolate=True)\n",
        "\n",
        "# Coloreamos de rojo el área que satisface la condicion y2 <= y1\n",
        "plt.fill_between(x, y1, y2, where=y2 <= y1, facecolor='red',  interpolate=True)\n",
        "plt.title('Área dada un condición')\n",
        "\n",
        "plt.show()"
      ],
      "execution_count": 0,
      "outputs": []
    },
    {
      "cell_type": "markdown",
      "metadata": {
        "id": "qZ0JUAzOBinF",
        "colab_type": "text"
      },
      "source": [
        "Si queremos graficar la región comprendida entre dos curvas tales que una de ellas satisface una condición adicional, por ejemplo $y_{2}< 1$, se debe definir indicar está condición de la siguiente manera:"
      ]
    },
    {
      "cell_type": "code",
      "metadata": {
        "id": "QH0itBQrLtXB",
        "colab_type": "code",
        "colab": {}
      },
      "source": [
        "# Importamos los módulos necesarios\n",
        "import matplotlib.pyplot as plt\n",
        "import numpy as np\n",
        "\n",
        "# Definimos nuestro dominio y precision\n",
        "x = np.arange(0.0, 2, 0.01)\n",
        "\n",
        "# Definimos nuestras dos curvas \n",
        "y1 = np.sin(2 * np.pi * x)\n",
        "y2 = 2*np.sin(4 * np.pi * x)\n",
        "\n",
        "\n",
        "# Agregamos la condicion de que y2 no sea mas grande que 1.0\n",
        "y2 = np.ma.masked_greater(y2, 1.0)\n",
        "\n",
        "# Graficamos\n",
        "plt.plot(x, y1, x, y2, color='black')\n",
        "plt.fill_between(x, y1, y2, where=y2 >= y1, facecolor='green', interpolate=True)\n",
        "plt.fill_between(x, y1, y2, where=y2 <= y1, facecolor='red', interpolate=True)\n",
        "\n",
        "plt.title('Condición extra: y2>1 ')"
      ],
      "execution_count": 0,
      "outputs": []
    },
    {
      "cell_type": "markdown",
      "metadata": {
        "id": "3mYD8BHuC75R",
        "colab_type": "text"
      },
      "source": [
        "# 2. Llenar un polígono"
      ]
    },
    {
      "cell_type": "markdown",
      "metadata": {
        "id": "4NImNAw1DRHd",
        "colab_type": "text"
      },
      "source": [
        "__Referencia:__\n",
        "* https://matplotlib.org/3.1.1/gallery/lines_bars_and_markers/fill.html#sphx-glr-gallery-lines-bars-and-markers-fill-py"
      ]
    },
    {
      "cell_type": "markdown",
      "metadata": {
        "id": "hzrSxcmGDXTV",
        "colab_type": "text"
      },
      "source": [
        "Con la herramienta `fill()` podemos dibujar y rellenar un polígono creado a partir de una lista de coordenadas $(x,y)$. \n",
        "\n",
        "La siguiente instrucción define un polígono llamado _[copo de nieve de Koch](https://es.wikipedia.org/wiki/Copo_de_nieve_de_Koch)_. "
      ]
    },
    {
      "cell_type": "code",
      "metadata": {
        "id": "2leQzCVfDHRE",
        "colab_type": "code",
        "colab": {}
      },
      "source": [
        "# Definimos el polígono copo de nieve de Koch\n",
        "\n",
        "import numpy as np\n",
        "import matplotlib.pyplot as plt\n",
        "\n",
        "\n",
        "def koch_snowflake(order, scale=10):\n",
        "    \"\"\"\n",
        "    Return two lists x, y of point coordinates of the Koch snowflake.\n",
        "\n",
        "    Arguments\n",
        "    ---------\n",
        "    order : int\n",
        "        The recursion depth.\n",
        "    scale : float\n",
        "        The extent of the snowflake (edge length of the base triangle).\n",
        "    \"\"\"\n",
        "    def _koch_snowflake_complex(order):\n",
        "        if order == 0:\n",
        "            # initial triangle\n",
        "            angles = np.array([0, 120, 240]) + 90\n",
        "            return scale / np.sqrt(3) * np.exp(np.deg2rad(angles) * 1j)\n",
        "        else:\n",
        "            ZR = 0.5 - 0.5j * np.sqrt(3) / 3\n",
        "\n",
        "            p1 = _koch_snowflake_complex(order - 1)  # start points\n",
        "            p2 = np.roll(p1, shift=-1)  # end points\n",
        "            dp = p2 - p1  # connection vectors\n",
        "\n",
        "            new_points = np.empty(len(p1) * 4, dtype=np.complex128)\n",
        "            new_points[::4] = p1\n",
        "            new_points[1::4] = p1 + dp / 3\n",
        "            new_points[2::4] = p1 + dp * ZR\n",
        "            new_points[3::4] = p1 + dp / 3 * 2\n",
        "            return new_points\n",
        "\n",
        "    points = _koch_snowflake_complex(order)\n",
        "    x, y = points.real, points.imag\n",
        "    return x, y"
      ],
      "execution_count": 0,
      "outputs": []
    },
    {
      "cell_type": "markdown",
      "metadata": {
        "id": "YSo-2zglELMc",
        "colab_type": "text"
      },
      "source": [
        "Veamos como funciona ahora la herramienta `fill`:"
      ]
    },
    {
      "cell_type": "code",
      "metadata": {
        "id": "qPUO8qzQDIWV",
        "colab_type": "code",
        "colab": {}
      },
      "source": [
        "# Definimos nuestra lista de pares ordenados (x,y) de acuerdo a las coordenadas del polígono anterior\n",
        "x, y = koch_snowflake(order=5)\n",
        "\n",
        "# Definimos nuestro entorno\n",
        "plt.figure(figsize=(8, 8))\n",
        "plt.axis('equal')\n",
        "\n",
        "# Usamos la herramienta fill, la cual llenará todo lo que esté dentro del poligono\n",
        "plt.fill(x, y)\n",
        "plt.show()"
      ],
      "execution_count": 0,
      "outputs": []
    },
    {
      "cell_type": "markdown",
      "metadata": {
        "id": "g7nfwa9CEmML",
        "colab_type": "text"
      },
      "source": [
        "Esta herramienta permite definir el color del contorno del polígono y el color del 'relleno'."
      ]
    },
    {
      "cell_type": "code",
      "metadata": {
        "id": "74jgtcsrDKLL",
        "colab_type": "code",
        "colab": {}
      },
      "source": [
        "# Definimos el polígono\n",
        "x, y = koch_snowflake(order=2)\n",
        "\n",
        "# Configuramos nuestro entorno\n",
        "fig, (ax1, ax2, ax3) = plt.subplots(1, 3, figsize=(9, 3), subplot_kw={'aspect': 'equal'})\n",
        "\n",
        "# Usamos la herramienta fill con diferentes opciones de trazo\n",
        "ax1.fill(x, y)\n",
        "\n",
        "ax2.fill(x, y, facecolor='lightsalmon', edgecolor='orangered', linewidth=3)\n",
        "\n",
        "ax3.fill(x, y, facecolor='none', edgecolor='purple', linewidth=3)\n",
        "\n",
        "plt.show()"
      ],
      "execution_count": 0,
      "outputs": []
    },
    {
      "cell_type": "markdown",
      "metadata": {
        "id": "uTXoE4XdGU_y",
        "colab_type": "text"
      },
      "source": [
        "# 3. Esferas concéntricas\n",
        "\n",
        "El siguiente ejemplo muestra cómo podemos crear esferas concéntricas y los atributos que podemos poner en la gráfica, como colores, etiquetas, etc."
      ]
    },
    {
      "cell_type": "code",
      "metadata": {
        "id": "ue_Go0MqGaRo",
        "colab_type": "code",
        "colab": {}
      },
      "source": [
        "# Importamos los módulos adecuados\n",
        "import numpy as np\n",
        "import matplotlib.pyplot as plt\n",
        "from mpl_toolkits.mplot3d import Axes3D #este modulo es el que nos permite graficar en 3d en matplotlib\n",
        "\n",
        "# Definimos nuestro entorno\n",
        "fig = plt.figure()\n",
        "ax = fig.add_subplot(111, projection='3d')\n",
        "ax.set_aspect('equal')\n",
        "\n",
        "# Definimos el dominio de las variables u y v\n",
        "u = np.linspace(0, 2 * np.pi, 200)\n",
        "v = np.linspace(0, np.pi, 200)\n",
        "\n",
        "# Definimos las ecuaciones parametricas de una esfera en coordenadas polares\n",
        "x = 1 * np.outer(np.cos(u), np.sin(v))\n",
        "y = 1 * np.outer(np.sin(u), np.sin(v))\n",
        "z = 1 * np.outer(np.ones(np.size(u)), np.cos(v))\n",
        "\n",
        "\n",
        "elev = 10.0\n",
        "rot = 80.0 / 180 * np.pi\n",
        "\n",
        "# Graficamos 5 esferas concentricas pero de radios diferentes\n",
        "\n",
        "ax.plot_surface(.1*x, .1*y, .1*z,  rstride=4, cstride=4, color='k', linewidth=1, alpha=1) #esfera 1\n",
        "\n",
        "ax.plot_surface(x, y, z,  rstride=4, cstride=4, color='r', linewidth=0, alpha=0.5) #esfera 2\n",
        "\n",
        "ax.plot_surface(2*x, 2*y, 2*z,  rstride=4, cstride=4, color='b', linewidth=0, alpha=0.4) #esfera 3\n",
        "\n",
        "ax.plot_surface(3*x, 3*y, 3*z,  rstride=4, cstride=4, color='g', linewidth=0, alpha=0.33) #esfera 4\n",
        "\n",
        "ax.plot_surface(4*x, 4*y, 4*z,  rstride=4, cstride=4, color='w', linewidth=0, alpha=0.4) #esfera 5\n",
        "\n",
        "# Calculamos los vectores del circulo \"vertical\" \n",
        "a = np.array([-np.sin(elev / 180 * np.pi), 0, np.cos(elev / 180 * np.pi)])\n",
        "b = np.array([0, 1, 0])\n",
        "b = b * np.cos(rot) + np.cross(a, b) * np.sin(rot) + a * np.dot(a, b) * (1 - np.cos(rot))\n",
        "ax.plot(np.sin(u),np.cos(u),0,color='k', linestyle = 'dashed')\n",
        "horiz_front = np.linspace(0, np.pi, 100)\n",
        "ax.plot(np.sin(horiz_front),np.cos(horiz_front),0,color='k')\n",
        "vert_front = np.linspace(np.pi / 2, 3 * np.pi / 2, 100)\n",
        "ax.plot(a[0] * np.sin(u) + b[0] * np.cos(u), b[1] * np.cos(u), a[2] * np.sin(u) + b[2] * np.cos(u),color='k', linestyle = 'dashed')\n",
        "ax.plot(a[0] * np.sin(vert_front) + b[0] * np.cos(vert_front), b[1] * np.cos(vert_front), a[2] * np.sin(vert_front) + b[2] * np.cos(vert_front),color='k')\n",
        "\n",
        "\n",
        "# Vectores para los otros circulos\n",
        "ax.plot(2*np.sin(u),2*np.cos(u),0,color=(0.1843, 0.3098, 0.3098), linestyle = 'dashed')\n",
        "horiz_front = np.linspace(0, np.pi, 100)\n",
        "ax.plot(2*np.sin(horiz_front),2*np.cos(horiz_front),0,color='k')\n",
        "\n",
        "ax.plot(3*np.sin(u),3*np.cos(u),0,color=(0.1843, 0.3098, 0.3098), linestyle = 'dashed')\n",
        "horiz_front = np.linspace(0, np.pi, 100)\n",
        "ax.plot(3*np.sin(horiz_front),3*np.cos(horiz_front),0,color=(0.1843, 0.3098, 0.3098))\n",
        "\n",
        "ax.plot(4*np.sin(u),4*np.cos(u),0,color=(0.1843, 0.3098, 0.3098), linestyle = 'dashed')\n",
        "horiz_front = np.linspace(0, np.pi, 100)\n",
        "ax.plot(4*np.sin(horiz_front),4*np.cos(horiz_front),0,color=(0.1843, 0.3098, 0.3098))\n",
        "\n",
        "# Configuramos los ejes, el grid, etc\n",
        "\n",
        "ax.view_init(elev = 3*elev, azim = 9)\n",
        "\n",
        "plt.axis('off')\n",
        "\n",
        "N = 4\n",
        "params = plt.gcf()\n",
        "plSize = params.get_size_inches()\n",
        "params.set_size_inches( (plSize[0]*N, plSize[1]*N) )\n",
        "\n",
        "\n",
        "# Para añadir texto jugar con lo siguiente\n",
        "\n",
        "\n",
        "plt.figtext(.47, .5, r'$\\tau_1$', fontsize=16)\n",
        "\n",
        "plt.figtext(.435, .49,  r'$\\tau_2$', fontsize=16)\n",
        "\n",
        "plt.figtext(.405, .48,  r'$\\tau_3$', fontsize=16)\n",
        "\n",
        "\n",
        "\n",
        "plt.show()"
      ],
      "execution_count": 0,
      "outputs": []
    }
  ]
}