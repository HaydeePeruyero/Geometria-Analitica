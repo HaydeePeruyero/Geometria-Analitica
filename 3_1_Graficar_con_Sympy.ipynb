{
  "nbformat": 4,
  "nbformat_minor": 0,
  "metadata": {
    "colab": {
      "name": "3.1 Graficar con Sympy.ipynb",
      "version": "0.3.2",
      "provenance": [],
      "collapsed_sections": [],
      "include_colab_link": true
    },
    "kernelspec": {
      "name": "python3",
      "display_name": "Python 3"
    }
  },
  "cells": [
    {
      "cell_type": "markdown",
      "metadata": {
        "id": "view-in-github",
        "colab_type": "text"
      },
      "source": [
        "<a href=\"https://colab.research.google.com/github/HaydeePeruyero/Geometria-Analitica-1/blob/master/3_1_Graficar_con_Sympy.ipynb\" target=\"_parent\"><img src=\"https://colab.research.google.com/assets/colab-badge.svg\" alt=\"Open In Colab\"/></a>"
      ]
    },
    {
      "cell_type": "markdown",
      "metadata": {
        "id": "do39ckUf6YSS",
        "colab_type": "text"
      },
      "source": [
        "#3.1 Módulo `SymPy` como herramienta para graficar"
      ]
    },
    {
      "cell_type": "markdown",
      "metadata": {
        "id": "lbER9rKS6fcQ",
        "colab_type": "text"
      },
      "source": [
        "El módulo [`SymPy`](https://docs.sympy.org/latest/index.html) es una librería de Python que nos permite realizar calculo simbólico. Como siempre, para poder acceder a ella y utilizar sus funciones, lo primero que debemos hacer es importarla.\n",
        "\n",
        "**Maneras en las que podemos importar `SymPy`:**  \n",
        "\n",
        "\n",
        "1.  `import sympy` \n",
        "2. `import sympy as sym`     (*renombrar SymPy como sym*)\n",
        "3. `from sympy import *`     (*importar todas las funciones de SymPy. Aunque no es muy recomendable importar de esta manera*)\n",
        "4. `from sympy import 'nombre de funciones separadas por comas'`     (*importar solo algunas funciones*)"
      ]
    },
    {
      "cell_type": "code",
      "metadata": {
        "id": "rLglhHq46ACK",
        "colab_type": "code",
        "colab": {}
      },
      "source": [
        "# Importar el módulo SymPy\n",
        "import sympy as sym"
      ],
      "execution_count": 0,
      "outputs": []
    },
    {
      "cell_type": "markdown",
      "metadata": {
        "id": "D_YEGXqA-a3x",
        "colab_type": "text"
      },
      "source": [
        "Una vez que hemos importado este módulo, lo siguiente es definir los __símbolos__ o __variables__ que usaremos. Por ejemplo, si vamos a realizar operaciones con la variable `x` debemos definirla de la siguiente manera:"
      ]
    },
    {
      "cell_type": "code",
      "metadata": {
        "id": "_W07twss_Edl",
        "colab_type": "code",
        "colab": {}
      },
      "source": [
        "x = sym.symbols('x')"
      ],
      "execution_count": 0,
      "outputs": []
    },
    {
      "cell_type": "markdown",
      "metadata": {
        "id": "GWMxxI51_Mva",
        "colab_type": "text"
      },
      "source": [
        "Si queremos usar las variables `x` e `y` las definiremos como:"
      ]
    },
    {
      "cell_type": "code",
      "metadata": {
        "id": "_8ALdSSu_UdB",
        "colab_type": "code",
        "colab": {}
      },
      "source": [
        "x, y = sym.symbols('x, y')"
      ],
      "execution_count": 0,
      "outputs": []
    },
    {
      "cell_type": "markdown",
      "metadata": {
        "id": "UBav1VlmFKlV",
        "colab_type": "text"
      },
      "source": [
        "Ya que tenemos definidos nuestros _símbolos_, podemos empezar a realizar [_cálculo simbólico_](https://docs.sympy.org/latest/tutorial/intro.html). Por el momento, nosotros nos enfocarémos en usarlos como una herramienta para realizar gráficas de funciones."
      ]
    },
    {
      "cell_type": "markdown",
      "metadata": {
        "id": "UzlmAKRi_YoG",
        "colab_type": "text"
      },
      "source": [
        "## Módulo Plotting"
      ]
    },
    {
      "cell_type": "markdown",
      "metadata": {
        "id": "MjDkaJfx_2uo",
        "colab_type": "text"
      },
      "source": [
        "Entre las funciones de SymPy tenemos [Plotting](https://docs.sympy.org/latest/modules/plotting.html), la cual nos permite realizar gráficas en dimensión 2 y 3. Este módulo está basado en el módulo [`matplotlib`](https://matplotlib.org/3.1.1/index.html)."
      ]
    },
    {
      "cell_type": "markdown",
      "metadata": {
        "id": "H37HHK3_Ey39",
        "colab_type": "text"
      },
      "source": [
        "### Graficar funciones en 2d\n",
        "\n",
        "La estructura general para graficar una función es la siguiente:\n",
        "\n",
        "`plot(expr, range, **kwargs)`\n",
        "\n",
        "* `expr`: es la expresión de la función que queremos graficar. \n",
        "\n",
        "* `range`:  es una 3-tupla de la forma `(variable, a, b)`, donde `a` < `b` son los límites del rango en el queremos visualizar de nuestra gráfica.\n",
        "\n",
        "*  `**kwargs`: son instrucciones adicionales del trazo de la gráfica: color, etiquetas, tipo de línea.\n",
        "\n"
      ]
    },
    {
      "cell_type": "markdown",
      "metadata": {
        "id": "GsqO8DxJHGvD",
        "colab_type": "text"
      },
      "source": [
        "Supongamos que necesitamos graficar la función en una variable $f(x)= x$."
      ]
    },
    {
      "cell_type": "code",
      "metadata": {
        "id": "gfiL0xT6Mgsj",
        "colab_type": "code",
        "colab": {}
      },
      "source": [
        "# Gráfica de una funcion en una variable\n",
        "from sympy import symbols\n",
        "from sympy.plotting import plot\n",
        "x = symbols('x')\n",
        "\n",
        "plot(x, (x, -5, 5))"
      ],
      "execution_count": 0,
      "outputs": []
    },
    {
      "cell_type": "markdown",
      "metadata": {
        "id": "hY9HuOS-Nf-Z",
        "colab_type": "text"
      },
      "source": [
        "Si queremos graficar más de una función en un mismo plano y con el mismo rango, lo que debemos hacer es agregar todas las funciones separadas por una coma."
      ]
    },
    {
      "cell_type": "code",
      "metadata": {
        "id": "I6VZzrscNuYQ",
        "colab_type": "code",
        "colab": {}
      },
      "source": [
        "# Gráficas de varias funciones en una variable\n",
        "from sympy import symbols\n",
        "from sympy.plotting import plot\n",
        "x = symbols('x')\n",
        "\n",
        "plot(x, 2*x, 3-x, (x, -5, 5))"
      ],
      "execution_count": 0,
      "outputs": []
    },
    {
      "cell_type": "markdown",
      "metadata": {
        "id": "Yzu6pMrkOZ0S",
        "colab_type": "text"
      },
      "source": [
        "Si queremos graficar varias funciones pero con diferente rango, debemos usar el formato:\n",
        "\n",
        "`plot((funcion,rango), (funcion, rango))`"
      ]
    },
    {
      "cell_type": "code",
      "metadata": {
        "id": "Iz7jCiVyOTKj",
        "colab_type": "code",
        "colab": {}
      },
      "source": [
        "# Graficas de varias funciones en una variable con diferente rango\n",
        "from sympy import symbols\n",
        "from sympy.plotting import plot\n",
        "x = symbols('x')\n",
        "\n",
        "plot((x**2, (x, -6, 6)), (x, (x, -5, 5)))"
      ],
      "execution_count": 0,
      "outputs": []
    },
    {
      "cell_type": "markdown",
      "metadata": {
        "id": "PneezYHyoqA0",
        "colab_type": "text"
      },
      "source": [
        "__Ejercicio:__ *Graficar dos funciones en un mismo plano*. Escribe dos ejemplos, el primero con dos funciones distintas sobre el mismo rango y el segundo con dos funciones distintas sobre diferentes rangos."
      ]
    },
    {
      "cell_type": "code",
      "metadata": {
        "id": "Njay0l1Kot85",
        "colab_type": "code",
        "colab": {}
      },
      "source": [
        "# Ejercicio 1\n"
      ],
      "execution_count": 0,
      "outputs": []
    },
    {
      "cell_type": "code",
      "metadata": {
        "id": "sSICLbkUovpj",
        "colab_type": "code",
        "colab": {}
      },
      "source": [
        "# Ejercicio 2\n"
      ],
      "execution_count": 0,
      "outputs": []
    },
    {
      "cell_type": "markdown",
      "metadata": {
        "id": "MTzfKxUZPE_U",
        "colab_type": "text"
      },
      "source": [
        "### Graficar funciones en 3d\n",
        "\n",
        "La estructura general es muy similar al caso 2d:\n",
        "\n",
        "`plot3d(expr, range_x, range_y, **kwargs)`\n",
        "\n",
        "* `expr`: expresión de la función que queremos graficar. \n",
        "\n",
        "* `range_x,range_y`:  son 3-tupla de la forma `(variable, a, b)`, donde `a` < `b` son los límites del rango en el queremos visualizar de nuestra gráfica.\n",
        "\n",
        "*  `**kwargs`: son instrucciones adicionales del trazo de la gráfica: color, etiquetas, tipo de línea.\n",
        "\n"
      ]
    },
    {
      "cell_type": "markdown",
      "metadata": {
        "id": "7r-YUQntPh5W",
        "colab_type": "text"
      },
      "source": [
        "Supongamos que ahora tenemos una función en dos variables $f(x,y)$ y que queremos graficarla. "
      ]
    },
    {
      "cell_type": "code",
      "metadata": {
        "id": "XhLa479iO39o",
        "colab_type": "code",
        "colab": {}
      },
      "source": [
        "# Gráfica de una función en dos variables \n",
        "from sympy import symbols\n",
        "from sympy.plotting import plot3d\n",
        "x , y = symbols('x y')\n",
        "\n",
        "plot3d(x + y, (x, -5, 5), (y, -5, 5))"
      ],
      "execution_count": 0,
      "outputs": []
    },
    {
      "cell_type": "markdown",
      "metadata": {
        "id": "fjzLOUBwQc7z",
        "colab_type": "text"
      },
      "source": [
        "## Graficar funciones implícitas en dos variables"
      ]
    },
    {
      "cell_type": "markdown",
      "metadata": {
        "id": "bK0TYRvpRJpd",
        "colab_type": "text"
      },
      "source": [
        "También podemos graficar funciones implícitas o regiones del plano o espacio. La estructura es muy similar, solo que ahora debemos importar `plot_implicit` de SymPy y la función `Eq` con la cual podemos definir ecuaciones.\n",
        "\n",
        "La estructura general es muy similar a lo visto anteriormente:\n",
        "\n",
        "`plot_implicit(expr, (x , x_min, x_max), (y , y_min, y_max) , **kwargs)`\n",
        "\n",
        "**Ejemplo:** Graficar $x + y = 1$."
      ]
    },
    {
      "cell_type": "code",
      "metadata": {
        "id": "lvMEBXqARI6P",
        "colab_type": "code",
        "colab": {}
      },
      "source": [
        "# Gráfica de una función implicita\n",
        "from sympy import symbols\n",
        "from sympy import plot_implicit, Eq\n",
        "x, y = symbols('x, y')\n",
        "\n",
        "plot_implicit(Eq(x + y , 1)) # Sin especificar un rango"
      ],
      "execution_count": 0,
      "outputs": []
    },
    {
      "cell_type": "code",
      "metadata": {
        "id": "_10Hs0LkSVYN",
        "colab_type": "code",
        "colab": {}
      },
      "source": [
        "plot_implicit(Eq(x + y , 1), (x, -3, 3), (y, -3, 3)) # Especificando un rango"
      ],
      "execution_count": 0,
      "outputs": []
    },
    {
      "cell_type": "markdown",
      "metadata": {
        "id": "AaSKx69zTXOn",
        "colab_type": "text"
      },
      "source": [
        "__Ejercicio:__ Grafica las siguientes funciones: \n",
        "\n",
        "* $x^{2}+y^{2}=1$"
      ]
    },
    {
      "cell_type": "code",
      "metadata": {
        "id": "Ch7hLX2nTSkD",
        "colab_type": "code",
        "colab": {}
      },
      "source": [
        ""
      ],
      "execution_count": 0,
      "outputs": []
    },
    {
      "cell_type": "markdown",
      "metadata": {
        "id": "sgki6FD6WCoz",
        "colab_type": "text"
      },
      "source": [
        "* $x + y = 5$"
      ]
    },
    {
      "cell_type": "code",
      "metadata": {
        "id": "nOKQoWnWWK1X",
        "colab_type": "code",
        "colab": {}
      },
      "source": [
        ""
      ],
      "execution_count": 0,
      "outputs": []
    },
    {
      "cell_type": "markdown",
      "metadata": {
        "id": "tM6S-nr_WL3_",
        "colab_type": "text"
      },
      "source": [
        "* $x^{2} + y = 0$"
      ]
    },
    {
      "cell_type": "code",
      "metadata": {
        "id": "zxsBEhosWSH-",
        "colab_type": "code",
        "colab": {}
      },
      "source": [
        ""
      ],
      "execution_count": 0,
      "outputs": []
    },
    {
      "cell_type": "markdown",
      "metadata": {
        "id": "nXY5HDSwWULJ",
        "colab_type": "text"
      },
      "source": [
        "Ademas de graficar estas funciones, también podemos graficar subconjuntos del plano. \n",
        "\n",
        "__Ejemplo:__ Graficar la región del plano definida por la función $y > x^{2}$."
      ]
    },
    {
      "cell_type": "code",
      "metadata": {
        "id": "9gdnI2OcWnbu",
        "colab_type": "code",
        "colab": {}
      },
      "source": [
        "# Grafica de regiones del plano\n",
        "from sympy import symbols\n",
        "from sympy import plot_implicit, Eq\n",
        "x, y = symbols('x, y')\n",
        "\n",
        "plot_implicit(y > x**2)  # Sin especificar el rango de las variables\n"
      ],
      "execution_count": 0,
      "outputs": []
    },
    {
      "cell_type": "code",
      "metadata": {
        "id": "AtZyiYpfWxa2",
        "colab_type": "code",
        "colab": {}
      },
      "source": [
        "plot_implicit(y > x**2, (x, -3, 3), (y, -9, 9)) # Especificando el rango de las variables"
      ],
      "execution_count": 0,
      "outputs": []
    },
    {
      "cell_type": "markdown",
      "metadata": {
        "id": "APOd7-AdXPTt",
        "colab_type": "text"
      },
      "source": [
        "__Ejercicio:__ Realiza las siguientes gráficas.\n",
        "\n",
        "* $x + y > 0$"
      ]
    },
    {
      "cell_type": "code",
      "metadata": {
        "id": "qUW9gdFFYjeH",
        "colab_type": "code",
        "colab": {}
      },
      "source": [
        ""
      ],
      "execution_count": 0,
      "outputs": []
    },
    {
      "cell_type": "markdown",
      "metadata": {
        "id": "ie-BYKqcaaeO",
        "colab_type": "text"
      },
      "source": [
        "* $y^{2} > 4$"
      ]
    },
    {
      "cell_type": "code",
      "metadata": {
        "id": "QhbEBJzpafxQ",
        "colab_type": "code",
        "colab": {}
      },
      "source": [
        ""
      ],
      "execution_count": 0,
      "outputs": []
    },
    {
      "cell_type": "markdown",
      "metadata": {
        "id": "nYdO-Cghak22",
        "colab_type": "text"
      },
      "source": [
        "* $x^{2}+y^{2}< 1$"
      ]
    },
    {
      "cell_type": "code",
      "metadata": {
        "id": "m1Qduul4asLz",
        "colab_type": "code",
        "colab": {}
      },
      "source": [
        ""
      ],
      "execution_count": 0,
      "outputs": []
    }
  ]
}