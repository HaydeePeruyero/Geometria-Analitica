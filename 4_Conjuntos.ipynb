{
  "nbformat": 4,
  "nbformat_minor": 0,
  "metadata": {
    "colab": {
      "name": "4_Conjuntos.ipynb",
      "provenance": [],
      "collapsed_sections": [],
      "include_colab_link": true
    },
    "kernelspec": {
      "name": "python3",
      "display_name": "Python 3"
    }
  },
  "cells": [
    {
      "cell_type": "markdown",
      "metadata": {
        "id": "view-in-github",
        "colab_type": "text"
      },
      "source": [
        "<a href=\"https://colab.research.google.com/github/HaydeePeruyero/Geometria-Analitica-1/blob/master/4_Conjuntos.ipynb\" target=\"_parent\"><img src=\"https://colab.research.google.com/assets/colab-badge.svg\" alt=\"Open In Colab\"/></a>"
      ]
    },
    {
      "cell_type": "markdown",
      "metadata": {
        "id": "SzNgfEZzY3R2",
        "colab_type": "text"
      },
      "source": [
        "# 1 Operaciones con Conjuntos en Python"
      ]
    },
    {
      "cell_type": "markdown",
      "metadata": {
        "id": "hhCXbwlN8gvo",
        "colab_type": "text"
      },
      "source": [
        " ## 1.1 Conjuntos\n",
        "\n",
        "En Python los conjuntos son colecciones no ordenadas de objetos únicos. Los elementos de un conjunto deben ser datos inmutables, es decir, datos que no podemos cambiar, modificar o actualizar aunque como cualquier variable, si podemos asignarle un nuevo valor. Los objetos inmutables más comunes son: `int`, `float`, `string`, `bool`, `complex`, `tuple`.\n",
        "\n",
        "Los elementos de un conjunto se escriben entre llaves `{}` separados por comas. Sin embargo, si queremos definir al *conjunto vacío* debemos usar la función `set()`.\n"
      ]
    },
    {
      "cell_type": "code",
      "metadata": {
        "id": "6LaO3KuGY21v",
        "colab_type": "code",
        "colab": {}
      },
      "source": [
        "A = {1, 2, 3}\n",
        "A"
      ],
      "execution_count": 0,
      "outputs": []
    },
    {
      "cell_type": "code",
      "metadata": {
        "id": "UiBSHdDVMM1P",
        "colab_type": "code",
        "colab": {}
      },
      "source": [
        "B = set() # conjunto vacio"
      ],
      "execution_count": 0,
      "outputs": []
    },
    {
      "cell_type": "code",
      "metadata": {
        "id": "hPRonvsdOQdA",
        "colab_type": "code",
        "colab": {}
      },
      "source": [
        "C = {2, 4, 6}\n",
        "C"
      ],
      "execution_count": 0,
      "outputs": []
    },
    {
      "cell_type": "markdown",
      "metadata": {
        "id": "eCxn8XiIOdMY",
        "colab_type": "text"
      },
      "source": [
        "Los conjuntos son objetos mutables, es decir podemos modificarlos, agregar elementos o removerlos. Con la función `add()` podemos añadir un elemento y con la función `discard()` podemos remover un elemento.\n",
        "\n",
        "Por ejemplo, agreguemos al conjunto A anteriormente definido el elemento `6` y removamos del conjunto C el elemento `4`."
      ]
    },
    {
      "cell_type": "code",
      "metadata": {
        "id": "NAfBX1mKPPbU",
        "colab_type": "code",
        "colab": {}
      },
      "source": [
        "A.add(6)\n",
        "C.discard(4)"
      ],
      "execution_count": 0,
      "outputs": []
    },
    {
      "cell_type": "markdown",
      "metadata": {
        "id": "2WltFs3zPmtb",
        "colab_type": "text"
      },
      "source": [
        "**Nota:** Si el elemento que se quiere remover de un conjunto no pertenece a éste, la función `discard()` no realiza acción alguna. En cambio, si usamos la función `remove()`, que sirve también para remover elementos, Python marcará ***ERROR***."
      ]
    },
    {
      "cell_type": "code",
      "metadata": {
        "id": "7Fu0QwM7P_YO",
        "colab_type": "code",
        "colab": {}
      },
      "source": [
        "C.discard(5)\n",
        "C"
      ],
      "execution_count": 0,
      "outputs": []
    },
    {
      "cell_type": "code",
      "metadata": {
        "id": "0b8Xkf6FQCr8",
        "colab_type": "code",
        "colab": {}
      },
      "source": [
        "C.remove(5)"
      ],
      "execution_count": 0,
      "outputs": []
    },
    {
      "cell_type": "markdown",
      "metadata": {
        "id": "uazdJ2w3QHkv",
        "colab_type": "text"
      },
      "source": [
        "Para determinar si un elemento pertenece a un conjunto utilizamos la función `in`. Lo que esta función nos retorna es la palabra `True` si el elemento está en el conjunto o la palabra `False` en caso de que no."
      ]
    },
    {
      "cell_type": "code",
      "metadata": {
        "id": "KBJXyulgQFG1",
        "colab_type": "code",
        "colab": {}
      },
      "source": [
        "1 in A"
      ],
      "execution_count": 0,
      "outputs": []
    },
    {
      "cell_type": "code",
      "metadata": {
        "id": "tIjISskZQRQK",
        "colab_type": "code",
        "colab": {}
      },
      "source": [
        "4 in A"
      ],
      "execution_count": 0,
      "outputs": []
    },
    {
      "cell_type": "markdown",
      "metadata": {
        "id": "4PM-LI_iPCHi",
        "colab_type": "text"
      },
      "source": [
        "Si por el contrario queremos saber si un elemento no se encuentra en el conjunto, debemos usar la instrucción `not in`."
      ]
    },
    {
      "cell_type": "code",
      "metadata": {
        "id": "IHKGUlZLV8HR",
        "colab_type": "code",
        "colab": {}
      },
      "source": [
        "4 not in A"
      ],
      "execution_count": 0,
      "outputs": []
    },
    {
      "cell_type": "code",
      "metadata": {
        "id": "B6Se_3ApV8e-",
        "colab_type": "code",
        "colab": {}
      },
      "source": [
        "1 not in A"
      ],
      "execution_count": 0,
      "outputs": []
    },
    {
      "cell_type": "markdown",
      "metadata": {
        "id": "6bdhFPShQcpM",
        "colab_type": "text"
      },
      "source": [
        "La función `clear()` elimina todos los elementos de un conjunto."
      ]
    },
    {
      "cell_type": "code",
      "metadata": {
        "id": "QFtcYgYkQa6x",
        "colab_type": "code",
        "colab": {}
      },
      "source": [
        "C.clear()\n",
        "C"
      ],
      "execution_count": 0,
      "outputs": []
    },
    {
      "cell_type": "markdown",
      "metadata": {
        "id": "pOLgtfOPRxj-",
        "colab_type": "text"
      },
      "source": [
        "Los elementos de los conjuntos no tienen que ser del mismo tipo. Podemos tener en un solo conjunto objetos de tipo `int`, `string`, `tuple`, etc. Por ejemplo:"
      ]
    },
    {
      "cell_type": "code",
      "metadata": {
        "id": "qCwXCCGLQk9x",
        "colab_type": "code",
        "colab": {}
      },
      "source": [
        "D = {1, 2, 'Hola', 'Mundo', (1, 2)}"
      ],
      "execution_count": 0,
      "outputs": []
    },
    {
      "cell_type": "code",
      "metadata": {
        "id": "TlD5hLsCSojt",
        "colab_type": "code",
        "colab": {}
      },
      "source": [
        "D"
      ],
      "execution_count": 0,
      "outputs": []
    },
    {
      "cell_type": "markdown",
      "metadata": {
        "id": "-bD0y983Sstz",
        "colab_type": "text"
      },
      "source": [
        "## 1.2 Operaciones de conjuntos"
      ]
    },
    {
      "cell_type": "markdown",
      "metadata": {
        "id": "QsQ__PlGSy1g",
        "colab_type": "text"
      },
      "source": [
        "Con los conjuntos en Python podemos realizar (casi) las mismas operaciones que con conjuntos abstractos: unión, intersección, diferencia, etc."
      ]
    },
    {
      "cell_type": "markdown",
      "metadata": {
        "id": "oSxGK9blTFGL",
        "colab_type": "text"
      },
      "source": [
        "### Unión\n",
        "\n",
        "La unión de conjuntos se realizar con el caracter `|`. Esta operación (conjuntista) retorna un nuevo conjunto que contiene los elementos que se encuentran al menos en uno de los conjuntos operados."
      ]
    },
    {
      "cell_type": "code",
      "metadata": {
        "id": "Bm2aKNptSpCU",
        "colab_type": "code",
        "colab": {}
      },
      "source": [
        "a = {1, 2, 3, 4}\n",
        "b = {2, 4, 6, 8}\n",
        "a|b"
      ],
      "execution_count": 0,
      "outputs": []
    },
    {
      "cell_type": "code",
      "metadata": {
        "id": "0wXtUZ1hTcZB",
        "colab_type": "code",
        "colab": {}
      },
      "source": [
        "# Ejercicio: Define tres conjuntos nuevos y calcula la unión de ellos."
      ],
      "execution_count": 0,
      "outputs": []
    },
    {
      "cell_type": "markdown",
      "metadata": {
        "id": "7REEan3iU7FM",
        "colab_type": "text"
      },
      "source": [
        "Otra manera de calcular la unión de dos conjuntos, digamos $A$ y $B$, es utilizando la función `union()`: `A.union(B)`.\n"
      ]
    },
    {
      "cell_type": "code",
      "metadata": {
        "id": "SfeacPBrU_VQ",
        "colab_type": "code",
        "colab": {}
      },
      "source": [
        "A = {'Hola', 'Mundo'}\n",
        "B = {'Hola', 'a', 'todos'}\n",
        "A.union(B)"
      ],
      "execution_count": 0,
      "outputs": []
    },
    {
      "cell_type": "markdown",
      "metadata": {
        "id": "AVqk-p4qUDVP",
        "colab_type": "text"
      },
      "source": [
        "### Intersección\n",
        "\n",
        "La intersección opera de manera análoga a la unión, pero en este caso se debe utilizar el símbolo `&`. Esta operación (conjuntista) nos retorna un nuevo conjunto que contiene los elementos que pertenecen a los dos conjuntos operados."
      ]
    },
    {
      "cell_type": "code",
      "metadata": {
        "id": "alisIpAkURJF",
        "colab_type": "code",
        "colab": {}
      },
      "source": [
        "a & b"
      ],
      "execution_count": 0,
      "outputs": []
    },
    {
      "cell_type": "code",
      "metadata": {
        "id": "lYyFiFDgUSvp",
        "colab_type": "code",
        "colab": {}
      },
      "source": [
        "# Ejercicio: Calcula la intersección de los conjuntos que definiste en el ejercicio anterior.\n"
      ],
      "execution_count": 0,
      "outputs": []
    },
    {
      "cell_type": "markdown",
      "metadata": {
        "id": "yTEz9PXuVk1P",
        "colab_type": "text"
      },
      "source": [
        "Al igual que con la unión de conjuntos, existe otra manera de calcular la intersección de dos conjuntos con la instrucción `A.intersection(B)`."
      ]
    },
    {
      "cell_type": "code",
      "metadata": {
        "id": "xNm7yvLzV3wu",
        "colab_type": "code",
        "colab": {}
      },
      "source": [
        "A.intersection(B)"
      ],
      "execution_count": 0,
      "outputs": []
    },
    {
      "cell_type": "markdown",
      "metadata": {
        "id": "KvjB0tMGUcpZ",
        "colab_type": "text"
      },
      "source": [
        "### Diferencia\n",
        "\n",
        "La diferencia de dos conjuntos $A$ y $B$ nos retorna un conjunto que contiene los elementos de $A$ que no están en $B$. Por ejemplo:\n"
      ]
    },
    {
      "cell_type": "code",
      "metadata": {
        "id": "hTbl9-O_WkkN",
        "colab_type": "code",
        "colab": {}
      },
      "source": [
        "a - b"
      ],
      "execution_count": 0,
      "outputs": []
    },
    {
      "cell_type": "markdown",
      "metadata": {
        "id": "sT4QTe2PfWJ1",
        "colab_type": "text"
      },
      "source": [
        "Otra forma de calcular la diferencia entre los dos conjuntos es con la instrucción `A.difference(B)`:"
      ]
    },
    {
      "cell_type": "code",
      "metadata": {
        "id": "3CG2clKBWlXn",
        "colab_type": "code",
        "colab": {}
      },
      "source": [
        "A.difference(B)"
      ],
      "execution_count": 0,
      "outputs": []
    },
    {
      "cell_type": "code",
      "metadata": {
        "id": "wCEkIsx2fgtb",
        "colab_type": "code",
        "colab": {}
      },
      "source": [
        "#Ejercicio: Define dos conjuntos y calcula su diferencia.\n"
      ],
      "execution_count": 0,
      "outputs": []
    },
    {
      "cell_type": "markdown",
      "metadata": {
        "id": "VgUssWCbfoeO",
        "colab_type": "text"
      },
      "source": [
        "### Diferencia SImétrica\n",
        "\n",
        "La diferencia simétrica nos retorna un nuevo conjunto que contiene todos los elementos que pertenecen a alguno de los dos conjuntos operados pero NO a ambos. El símbolo que debemos utilizar para esta operación es `^`."
      ]
    },
    {
      "cell_type": "code",
      "metadata": {
        "id": "kWZxhJl2wf-a",
        "colab_type": "code",
        "colab": {}
      },
      "source": [
        "a ^ b"
      ],
      "execution_count": 0,
      "outputs": []
    },
    {
      "cell_type": "markdown",
      "metadata": {
        "id": "Kvn_HMOkwqRh",
        "colab_type": "text"
      },
      "source": [
        "Otra forma de calcular la diferencia simétrica es con la instrucción `a.symmetric_difference(b)`:"
      ]
    },
    {
      "cell_type": "code",
      "metadata": {
        "id": "Cd4sRpZKsFHK",
        "colab_type": "code",
        "colab": {}
      },
      "source": [
        "a.symmetric_difference(b)"
      ],
      "execution_count": 0,
      "outputs": []
    },
    {
      "cell_type": "markdown",
      "metadata": {
        "id": "3-qUKBh7sQ3u",
        "colab_type": "text"
      },
      "source": [
        "¿Qué sucede si escribimos en diferente orden los conjuntos? ¿Afecta el orden en que escribimos los conjuntos?\n"
      ]
    },
    {
      "cell_type": "code",
      "metadata": {
        "id": "jKsrJlynsLYw",
        "colab_type": "code",
        "colab": {}
      },
      "source": [
        "# Ejercicio: Calcula la diferencia simétrica de b con a y compara tu resultado la diferencia simétrica de a con b.\n"
      ],
      "execution_count": 0,
      "outputs": []
    },
    {
      "cell_type": "code",
      "metadata": {
        "id": "_486KmLLs094",
        "colab_type": "code",
        "colab": {}
      },
      "source": [
        "# Ejercicio: Define dos conjuntos nuevos y calcula su diferencia simétrica.\n"
      ],
      "execution_count": 0,
      "outputs": []
    },
    {
      "cell_type": "markdown",
      "metadata": {
        "id": "Y2di0EChtERn",
        "colab_type": "text"
      },
      "source": [
        "### Subconjuntos\n",
        "\n",
        "Python también nos permite saber si un conjunto $V$ es subconjunto de un conjunto $U$, es decir, si $V\\subset U$. La intrucción que debemos usar es `V.issubset(U)`."
      ]
    },
    {
      "cell_type": "code",
      "metadata": {
        "id": "QaNqnncNtaS4",
        "colab_type": "code",
        "colab": {}
      },
      "source": [
        "u = {1, 2, 3, 4, 5}\n",
        "v = {2, 4}\n",
        "v.issubset(u)"
      ],
      "execution_count": 0,
      "outputs": []
    },
    {
      "cell_type": "markdown",
      "metadata": {
        "id": "2l3ONhOet9OS",
        "colab_type": "text"
      },
      "source": [
        "También podemos preguntarnos si el conjunto $U$ contiene al conjunto $V$. En Python,  $U$ se  llama un superconjunto de $V$ y la instrucción que debemos usar es: `U.issuperset(V)`."
      ]
    },
    {
      "cell_type": "code",
      "metadata": {
        "id": "Z3pkw7vithCm",
        "colab_type": "code",
        "colab": {}
      },
      "source": [
        "u.issuperset(v)"
      ],
      "execution_count": 0,
      "outputs": []
    },
    {
      "cell_type": "code",
      "metadata": {
        "id": "S_0SqrJ2uev6",
        "colab_type": "code",
        "colab": {}
      },
      "source": [
        "#Ejercicio: ¿u es un subconjunto de u? ¿u es un superconjunto de u?"
      ],
      "execution_count": 0,
      "outputs": []
    },
    {
      "cell_type": "markdown",
      "metadata": {
        "id": "EwX6YpUeu1Ok",
        "colab_type": "text"
      },
      "source": [
        "### Conjuntos ajenos\n",
        "\n",
        "Dos conjuntos $U, V$ son ajenos  si su intersección es es el conjunto vacío, es decir, si no tienen ningún elemento en común. La instrucción que usamos es `U.isdisjoint(V)` . Esta instrucción retorna el valor de `False` si comparten al menos un elemento y el valor de `True` si no tienen elementos en común."
      ]
    },
    {
      "cell_type": "code",
      "metadata": {
        "id": "L1t_V6jFvx5c",
        "colab_type": "code",
        "colab": {}
      },
      "source": [
        "u.isdisjoint(b) "
      ],
      "execution_count": 0,
      "outputs": []
    },
    {
      "cell_type": "code",
      "metadata": {
        "id": "MJeMI6Mgvzyr",
        "colab_type": "code",
        "colab": {}
      },
      "source": [
        "# Ejercicio: Define tres conjuntos A, B, C tales que A sea ajeno a B y A no sea ajeno a C.\n"
      ],
      "execution_count": 0,
      "outputs": []
    },
    {
      "cell_type": "markdown",
      "metadata": {
        "id": "QqpufjSo_drN",
        "colab_type": "text"
      },
      "source": [
        "# 2 Operaciones con Conjuntos en SymPy"
      ]
    },
    {
      "cell_type": "markdown",
      "metadata": {
        "id": "PiAqSxIY_3Pm",
        "colab_type": "text"
      },
      "source": [
        "En SymPy tenemos en principo dos clases o formas de definir \"conjuntos\", podemos definir _conjuntos finitos_ con la clase `FiniteSet` o podemos usar o definir intervalos con la clase `Interval`. \n",
        "\n",
        "Para definir un intervalo en Python, debemos importar del módulo SymPy la función `Interval`. Esta instrucción representa un intervalo real como un conjunto. Solo podemos definir intervalos con puntos finales reales. \n",
        "\n",
        "*Ojo!* Si definimos el intervalo $(a,b)$ tal que $a>b$, entonces Sympy nos retornará el conjunto vacío."
      ]
    },
    {
      "cell_type": "code",
      "metadata": {
        "id": "duebPfi-qYdV",
        "colab_type": "code",
        "colab": {}
      },
      "source": [
        "from sympy import Interval\n",
        "\n",
        "Interval(0, 1)"
      ],
      "execution_count": 0,
      "outputs": []
    },
    {
      "cell_type": "code",
      "metadata": {
        "id": "Z9ITm8HaxBCQ",
        "colab_type": "code",
        "colab": {}
      },
      "source": [
        "Interval.Ropen(0, 1) # intervalo [0,1)"
      ],
      "execution_count": 0,
      "outputs": []
    },
    {
      "cell_type": "code",
      "metadata": {
        "id": "M3OarwpoxRi3",
        "colab_type": "code",
        "colab": {}
      },
      "source": [
        "Interval.Lopen(0, 1) # intervalo (0,1]"
      ],
      "execution_count": 0,
      "outputs": []
    },
    {
      "cell_type": "code",
      "metadata": {
        "id": "eaGwuwWpxexE",
        "colab_type": "code",
        "colab": {}
      },
      "source": [
        "Interval.open(0, 1) # intervalo (0,1)"
      ],
      "execution_count": 0,
      "outputs": []
    },
    {
      "cell_type": "code",
      "metadata": {
        "id": "4r7_KgybxuZ1",
        "colab_type": "code",
        "colab": {}
      },
      "source": [
        "from sympy import Interval, Symbol\n",
        "\n",
        "a = Symbol('a', real=True) # definimos un numero real \"a\" como simbolo.\n",
        "Interval(0, a) # podemos definir el intervalo (0,a)."
      ],
      "execution_count": 0,
      "outputs": []
    },
    {
      "cell_type": "markdown",
      "metadata": {
        "id": "Hem_4a2Iui5s",
        "colab_type": "text"
      },
      "source": [
        "### Conjunto vacío\n",
        "\n",
        "El conjunto vacío lo definimos con la intrucción `EmptySet`."
      ]
    },
    {
      "cell_type": "code",
      "metadata": {
        "id": "OFy-KsoSuqbD",
        "colab_type": "code",
        "colab": {}
      },
      "source": [
        "from sympy import Interval, S\n",
        "\n",
        "S.EmptySet"
      ],
      "execution_count": 0,
      "outputs": []
    },
    {
      "cell_type": "markdown",
      "metadata": {
        "id": "zHBiiXaBvzu-",
        "colab_type": "text"
      },
      "source": [
        "### Conjunto Universal\n",
        "\n",
        "Representa el conjunto de todas las \"cosas\"."
      ]
    },
    {
      "cell_type": "code",
      "metadata": {
        "id": "MVcJCXJVwCnK",
        "colab_type": "code",
        "colab": {}
      },
      "source": [
        "from sympy import S, Interval\n",
        "\n",
        "S.UniversalSet"
      ],
      "execution_count": 0,
      "outputs": []
    },
    {
      "cell_type": "markdown",
      "metadata": {
        "id": "B9ZElbO_LZoh",
        "colab_type": "text"
      },
      "source": [
        "### Naturales $\\mathbb{N}$\n",
        "\n",
        "Para Python los números naturales son todos los enteros positivos inciando con el número 1."
      ]
    },
    {
      "cell_type": "code",
      "metadata": {
        "id": "04DFdlGjLw8q",
        "colab_type": "code",
        "colab": {}
      },
      "source": [
        "from sympy import Interval, S, pprint\n",
        "\n",
        "5 in S.Naturals"
      ],
      "execution_count": 0,
      "outputs": []
    },
    {
      "cell_type": "code",
      "metadata": {
        "id": "CsX1Mf3pL5un",
        "colab_type": "code",
        "colab": {}
      },
      "source": [
        "from sympy import Interval, S, pprint\n",
        "\n",
        "pprint(S.Naturals.intersect(Interval(0, 10))) # la intersección de los naturales con el intervalo (0,10)."
      ],
      "execution_count": 0,
      "outputs": []
    },
    {
      "cell_type": "markdown",
      "metadata": {
        "id": "LBbS8qJJMWvf",
        "colab_type": "text"
      },
      "source": [
        "Si queremos contar al $0$ como natural, debemos usar la intrucción `Naturals0`."
      ]
    },
    {
      "cell_type": "code",
      "metadata": {
        "id": "lwtgKJtAMf6C",
        "colab_type": "code",
        "colab": {}
      },
      "source": [
        "from sympy import Interval, S, pprint\n",
        "\n",
        "0 in S.Naturals0"
      ],
      "execution_count": 0,
      "outputs": []
    },
    {
      "cell_type": "markdown",
      "metadata": {
        "id": "uLqrtPsFMj-Y",
        "colab_type": "text"
      },
      "source": [
        "### Enteros $\\mathbb{Z}$"
      ]
    },
    {
      "cell_type": "markdown",
      "metadata": {
        "id": "qMaxmwAW5-At",
        "colab_type": "text"
      },
      "source": [
        "Teniendo clara la definición del conjunto de los números enteros, tenemos en Sympy que:"
      ]
    },
    {
      "cell_type": "code",
      "metadata": {
        "id": "dxY_dscFMuwW",
        "colab_type": "code",
        "colab": {}
      },
      "source": [
        "from sympy import Interval, S, pprint\n",
        "\n",
        "5 in S.Integers"
      ],
      "execution_count": 0,
      "outputs": []
    },
    {
      "cell_type": "code",
      "metadata": {
        "id": "gmdX8NfAM2DC",
        "colab_type": "code",
        "colab": {}
      },
      "source": [
        "from sympy import Interval, S, pprint\n",
        "\n",
        "pprint(S.Integers.intersect(Interval(-5, 5))) # La intersección de los enteros con el Intervalo (-5,5)."
      ],
      "execution_count": 0,
      "outputs": []
    },
    {
      "cell_type": "markdown",
      "metadata": {
        "id": "uRri5TSvNPUz",
        "colab_type": "text"
      },
      "source": [
        "### Reales $\\mathbb{R}$\n"
      ]
    },
    {
      "cell_type": "markdown",
      "metadata": {
        "id": "iSpCIIBK6MKd",
        "colab_type": "text"
      },
      "source": [
        "Teniendo clara la definición del conjunto de los números reales, tenemos en Sympy que:"
      ]
    },
    {
      "cell_type": "code",
      "metadata": {
        "id": "1AntQ7LzNFTv",
        "colab_type": "code",
        "colab": {}
      },
      "source": [
        "from numpy import sqrt, pi, cos\n",
        "from sympy import Interval, S\n",
        "\n",
        "cos(pi) in S.Reals"
      ],
      "execution_count": 0,
      "outputs": []
    },
    {
      "cell_type": "markdown",
      "metadata": {
        "id": "O8QztnsQr28w",
        "colab_type": "text"
      },
      "source": [
        "### Complemento \n",
        "\n",
        "Podemos calcular el complemento de un conjunto con respecto a un conjunto universal dado."
      ]
    },
    {
      "cell_type": "code",
      "metadata": {
        "id": "ge-M6fG0sFfB",
        "colab_type": "code",
        "colab": {}
      },
      "source": [
        "from sympy import Interval, S\n",
        "\n",
        "Interval(0, 1).complement(S.Reals) # el complemento del intervalo (0,1) con respecto a los reales."
      ],
      "execution_count": 0,
      "outputs": []
    },
    {
      "cell_type": "code",
      "metadata": {
        "id": "Cjxyy5sAsSjy",
        "colab_type": "code",
        "colab": {}
      },
      "source": [
        "Interval(0, 1).complement(S.UniversalSet) # el complemento del intervalo (0,1) con respecto a un conjunto universal no especificado."
      ],
      "execution_count": 0,
      "outputs": []
    },
    {
      "cell_type": "code",
      "metadata": {
        "id": "f2P-wVSTEjNr",
        "colab_type": "code",
        "colab": {}
      },
      "source": [
        "from sympy import Complement, Interval, S\n",
        "\n",
        "Complement(S.Reals,Interval(0, 1)) # el complemento del intervalo [0,1] en el conjunto de numeros reales (S.Reals)."
      ],
      "execution_count": 0,
      "outputs": []
    },
    {
      "cell_type": "markdown",
      "metadata": {
        "id": "u-CPsq5VsenO",
        "colab_type": "text"
      },
      "source": [
        "### Contención \n",
        "\n",
        "Sympy también nos permite verificar si un elmento está en el intervalo. Nos retorna el valor `True` si el elemento está en el conjunto y `False` en caso contrario."
      ]
    },
    {
      "cell_type": "code",
      "metadata": {
        "id": "egc22ADGs7_e",
        "colab_type": "code",
        "colab": {}
      },
      "source": [
        "from sympy import Interval\n",
        "\n",
        "Interval(0, 1).contains(0.5)"
      ],
      "execution_count": 0,
      "outputs": []
    },
    {
      "cell_type": "code",
      "metadata": {
        "id": "XT2sGhZhtGfO",
        "colab_type": "code",
        "colab": {}
      },
      "source": [
        "0.5 in Interval(0, 1) # también podemos usar la instrucción 'in' como en el caso de conjuntos finitos."
      ],
      "execution_count": 0,
      "outputs": []
    },
    {
      "cell_type": "markdown",
      "metadata": {
        "id": "s0TgZuwGy4v7",
        "colab_type": "text"
      },
      "source": [
        "### Intersección "
      ]
    },
    {
      "cell_type": "code",
      "metadata": {
        "id": "WL4MJlo-zHdy",
        "colab_type": "code",
        "colab": {}
      },
      "source": [
        "from sympy import Interval\n",
        "\n",
        "Interval(1, 3).intersect(Interval(1, 2))"
      ],
      "execution_count": 0,
      "outputs": []
    },
    {
      "cell_type": "code",
      "metadata": {
        "id": "A0m_t3MkEB-A",
        "colab_type": "code",
        "colab": {}
      },
      "source": [
        "from sympy import Intersection, Interval # importamos la clase \"Intersection\".\n",
        "\n",
        "Intersection(Interval(1, 3), Interval(2, 4)) # podemos calcular la interseccion de dos intervales de esta manera."
      ],
      "execution_count": 0,
      "outputs": []
    },
    {
      "cell_type": "markdown",
      "metadata": {
        "id": "qlHfqZfJy4qu",
        "colab_type": "text"
      },
      "source": [
        "### Unión"
      ]
    },
    {
      "cell_type": "code",
      "metadata": {
        "id": "WsjbD4d8zR5z",
        "colab_type": "code",
        "colab": {}
      },
      "source": [
        "from sympy import Interval\n",
        "\n",
        "Interval(0, 1).union(Interval(2, 3))"
      ],
      "execution_count": 0,
      "outputs": []
    },
    {
      "cell_type": "code",
      "metadata": {
        "id": "n8aeVkyqzrXK",
        "colab_type": "code",
        "colab": {}
      },
      "source": [
        "Interval(0, 1) + Interval(2, 3) # la unión de dos intervalos también la podemos calcular con el operador +"
      ],
      "execution_count": 0,
      "outputs": []
    },
    {
      "cell_type": "code",
      "metadata": {
        "id": "8UtNfMNs0J43",
        "colab_type": "code",
        "colab": {}
      },
      "source": [
        "from sympy import Union, Interval # importamos la clase \"Union\".\n",
        "\n",
        "Union(Interval(0, 1), Interval(2, 3)) # podemos calcular la union de dos intervalos de esta manera."
      ],
      "execution_count": 0,
      "outputs": []
    },
    {
      "cell_type": "markdown",
      "metadata": {
        "id": "pwvO9FK70H7u",
        "colab_type": "text"
      },
      "source": [
        "Como `Interval` es el intervalo cerrado, si queremos calcular la unión $[a,b]\\cup[b,c]$ el resultado será $[a,c]$."
      ]
    },
    {
      "cell_type": "code",
      "metadata": {
        "id": "ewhDkFK70s9g",
        "colab_type": "code",
        "colab": {}
      },
      "source": [
        "Union(Interval(1, 2), Interval(2, 3))"
      ],
      "execution_count": 0,
      "outputs": []
    },
    {
      "cell_type": "markdown",
      "metadata": {
        "id": "_X2a0PoeJZuI",
        "colab_type": "text"
      },
      "source": [
        "### Diferencia simétrica\n",
        "\n",
        "La diferencia simétrica nos retorna un nuevo conjunto que contiene todos los elementos que pertenecen a alguno de los dos conjuntos operados pero NO a ambos."
      ]
    },
    {
      "cell_type": "code",
      "metadata": {
        "id": "1-CzyXQGJdVJ",
        "colab_type": "code",
        "colab": {}
      },
      "source": [
        "from sympy import Interval, S\n",
        "\n",
        "Interval(0, 1).symmetric_difference(S.Reals)"
      ],
      "execution_count": 0,
      "outputs": []
    },
    {
      "cell_type": "code",
      "metadata": {
        "id": "yVydeX-rJoLK",
        "colab_type": "code",
        "colab": {}
      },
      "source": [
        "from sympy import Interval, S\n",
        "\n",
        "Interval(0, 1).symmetric_difference(Interval(1, 3))"
      ],
      "execution_count": 0,
      "outputs": []
    },
    {
      "cell_type": "markdown",
      "metadata": {
        "id": "Je5Y-fHLGXtD",
        "colab_type": "text"
      },
      "source": [
        "### Conjuntos ajenos:  `is_disjoint( )`\n",
        "\n",
        "Dos intervalos $[a,b], [c,d]$ son ajenos  si su intersección es es el conjunto vacío $[a,b]\\cap[c,d]=\\emptyset$, es decir, si no tienen ningún elemento en común. "
      ]
    },
    {
      "cell_type": "code",
      "metadata": {
        "id": "oBPKICOFGgjW",
        "colab_type": "code",
        "colab": {}
      },
      "source": [
        "from sympy import Interval\n",
        "\n",
        "Interval(0, 2).is_disjoint(Interval(1, 2))"
      ],
      "execution_count": 0,
      "outputs": []
    },
    {
      "cell_type": "markdown",
      "metadata": {
        "id": "qMlm5WTnKQZj",
        "colab_type": "text"
      },
      "source": [
        "### Conjuntos finitos\n",
        "\n",
        "También podemos representar un conjunto finito de números discretos.\n"
      ]
    },
    {
      "cell_type": "code",
      "metadata": {
        "id": "XcClR8qhKh21",
        "colab_type": "code",
        "colab": {}
      },
      "source": [
        "from sympy import FiniteSet\n",
        "\n",
        "FiniteSet(1, 2, 3, 4)"
      ],
      "execution_count": 0,
      "outputs": []
    },
    {
      "cell_type": "code",
      "metadata": {
        "id": "WxUa1lUtKpfz",
        "colab_type": "code",
        "colab": {}
      },
      "source": [
        "3 in FiniteSet(1, 2, 3, 4) # podemos preguntar si un elemento se encuentra en el conjunto."
      ],
      "execution_count": 0,
      "outputs": []
    },
    {
      "cell_type": "code",
      "metadata": {
        "id": "QOQXLda-Kxpi",
        "colab_type": "code",
        "colab": {}
      },
      "source": [
        "elementos = [1, 2, 3, 4]  # definimos una \"lista\" finita de elementos.\n",
        "f = FiniteSet(*elementos) # definimos nuestro conjunto finito con elementos en \"elementos\".\n",
        "f"
      ],
      "execution_count": 0,
      "outputs": []
    },
    {
      "cell_type": "code",
      "metadata": {
        "id": "1OgLqvpXLFug",
        "colab_type": "code",
        "colab": {}
      },
      "source": [
        "f - FiniteSet(2) # de esta manera podemos \"eliminar\" elementos en nuestro conjunto."
      ],
      "execution_count": 0,
      "outputs": []
    },
    {
      "cell_type": "code",
      "metadata": {
        "id": "whOpKtIHLNsY",
        "colab_type": "code",
        "colab": {}
      },
      "source": [
        "f + FiniteSet(2, 5) # podemos agregar elementos a nuestro conjunto con el operador +"
      ],
      "execution_count": 0,
      "outputs": []
    },
    {
      "cell_type": "markdown",
      "metadata": {
        "id": "P6zPZt7VOMq_",
        "colab_type": "text"
      },
      "source": [
        "### Producto cartesiano\n",
        "\n",
        "Podemos calcular el producto cartesiano de conjuntos finitos y/o con intervalos."
      ]
    },
    {
      "cell_type": "code",
      "metadata": {
        "id": "3AIXvN5lOWk3",
        "colab_type": "code",
        "colab": {}
      },
      "source": [
        "from sympy import FiniteSet, Interval, ProductSet\n",
        "\n",
        "I = Interval(0, 5)\n",
        "S = FiniteSet(1, 2, 3)\n",
        "ProductSet(I, S) "
      ],
      "execution_count": 0,
      "outputs": []
    },
    {
      "cell_type": "code",
      "metadata": {
        "id": "u6n_w0n4O3Iv",
        "colab_type": "code",
        "colab": {}
      },
      "source": [
        "(2, 2) in ProductSet(I, S)"
      ],
      "execution_count": 0,
      "outputs": []
    },
    {
      "cell_type": "code",
      "metadata": {
        "id": "hgAI32oxO9wj",
        "colab_type": "code",
        "colab": {}
      },
      "source": [
        "Interval(0, 1) * Interval(0, 1) # también podemos calcular el producto cartesiano con el operador *"
      ],
      "execution_count": 0,
      "outputs": []
    },
    {
      "cell_type": "markdown",
      "metadata": {
        "id": "hRIHne9rPUoN",
        "colab_type": "text"
      },
      "source": [
        "¿ Qué realiza la siguiente instrucción?"
      ]
    },
    {
      "cell_type": "code",
      "metadata": {
        "id": "YvqDp8mcPGSy",
        "colab_type": "code",
        "colab": {}
      },
      "source": [
        "moneda = FiniteSet('A', 'S')\n",
        "set(moneda**2)"
      ],
      "execution_count": 0,
      "outputs": []
    },
    {
      "cell_type": "markdown",
      "metadata": {
        "id": "ntOb71thP1VB",
        "colab_type": "text"
      },
      "source": [
        "### Conjunto Potencia"
      ]
    },
    {
      "cell_type": "code",
      "metadata": {
        "id": "0cbFmFp4Pr5R",
        "colab_type": "code",
        "colab": {}
      },
      "source": [
        "from sympy import FiniteSet, EmptySet\n",
        "\n",
        "A = FiniteSet(1, 2, 3)\n",
        "A.powerset()"
      ],
      "execution_count": 0,
      "outputs": []
    },
    {
      "cell_type": "markdown",
      "metadata": {
        "id": "3Ig1KDO-QK8N",
        "colab_type": "text"
      },
      "source": [
        "### Imagen de un conjunto\n",
        "\n",
        "Podemos calcular la imágen de una función sobre un conjunto dado.  "
      ]
    },
    {
      "cell_type": "code",
      "metadata": {
        "id": "ocQHEbJhQhZt",
        "colab_type": "code",
        "colab": {}
      },
      "source": [
        "from sympy import Symbol, S, pi, Lambda\n",
        "from sympy.sets.sets import FiniteSet, Interval\n",
        "from sympy.sets.fancysets import ImageSet\n",
        "\n",
        "x = Symbol('x') # definimos nuestra variable\n",
        "N = S.Naturals\n",
        "\n",
        "cuadrados = ImageSet(Lambda(x , x**2), N) # { x**2 tal que x esta en N}\n",
        "4 in cuadrados"
      ],
      "execution_count": 0,
      "outputs": []
    },
    {
      "cell_type": "code",
      "metadata": {
        "id": "ybEfXppIRl3e",
        "colab_type": "code",
        "colab": {}
      },
      "source": [
        "5 in cuadrados"
      ],
      "execution_count": 0,
      "outputs": []
    },
    {
      "cell_type": "code",
      "metadata": {
        "id": "7A3lbEM2R0_d",
        "colab_type": "code",
        "colab": {}
      },
      "source": [
        "from sympy import Symbol, S, pi, Lambda\n",
        "from sympy.sets.sets import FiniteSet, Interval\n",
        "from sympy.sets.fancysets import ImageSet\n",
        "\n",
        "x = Symbol('x') # definimos nuestra variable\n",
        "N = S.Naturals.intersection(Interval(0,10)) # los Naturales interseccion con el intervalo (0,10)\n",
        "\n",
        "cuadrados = ImageSet(Lambda(x, x**2), N ) # { x**2 tal que x esta en N}\n",
        "121 in cuadrados"
      ],
      "execution_count": 0,
      "outputs": []
    },
    {
      "cell_type": "code",
      "metadata": {
        "id": "gF3pz-wWSDM3",
        "colab_type": "code",
        "colab": {}
      },
      "source": [
        "FiniteSet(0, 1, 2, 3, 4, 5, 6, 7, 8, 9, 10).intersect(cuadrados)"
      ],
      "execution_count": 0,
      "outputs": []
    },
    {
      "cell_type": "markdown",
      "metadata": {
        "id": "yPnS4BB2TPGm",
        "colab_type": "text"
      },
      "source": [
        "Otra forma en la que podemos llamar a la función imagen."
      ]
    },
    {
      "cell_type": "code",
      "metadata": {
        "id": "3Xz1p1r7SkBv",
        "colab_type": "code",
        "colab": {}
      },
      "source": [
        "from sympy import S, Interval, Symbol, imageset, sin, Lambda\n",
        "from sympy.abc import x, y\n",
        "\n",
        "imageset(x, 2*x, Interval(0, 2)) # la imagen del intervalo (0,2) bajo la funcion 2*x "
      ],
      "execution_count": 0,
      "outputs": []
    },
    {
      "cell_type": "markdown",
      "metadata": {
        "id": "PJCx9OsNUSXu",
        "colab_type": "text"
      },
      "source": [
        "* Diferentes formas en las que podemos definir la función."
      ]
    },
    {
      "cell_type": "code",
      "metadata": {
        "id": "-irbYM3DTin0",
        "colab_type": "code",
        "colab": {}
      },
      "source": [
        "from sympy import S, Interval, Symbol, imageset, sin, Lambda\n",
        "from sympy.abc import x, y\n",
        "\n",
        "imageset(lambda x: 2*x, Interval(0,2)) # otra forma de definir la función"
      ],
      "execution_count": 0,
      "outputs": []
    },
    {
      "cell_type": "code",
      "metadata": {
        "id": "IizWM0NLTt6O",
        "colab_type": "code",
        "colab": {}
      },
      "source": [
        "imageset(Lambda(x, sin(x)), Interval(-2, 1))"
      ],
      "execution_count": 0,
      "outputs": []
    },
    {
      "cell_type": "code",
      "metadata": {
        "id": "OOfJOFcRT3gR",
        "colab_type": "code",
        "colab": {}
      },
      "source": [
        "imageset(sin, Interval(-2, 1))"
      ],
      "execution_count": 0,
      "outputs": []
    },
    {
      "cell_type": "code",
      "metadata": {
        "id": "GEoMmNO1UEvW",
        "colab_type": "code",
        "colab": {}
      },
      "source": [
        "imageset(lambda y: x + y, Interval(-2, 1))"
      ],
      "execution_count": 0,
      "outputs": []
    },
    {
      "cell_type": "markdown",
      "metadata": {
        "id": "f504a-foFjj2",
        "colab_type": "text"
      },
      "source": [
        "### Anexo: Propiedades adicionales de los conjuntos\n",
        "\n"
      ]
    },
    {
      "cell_type": "markdown",
      "metadata": {
        "id": "kY5dMtnStVNc",
        "colab_type": "text"
      },
      "source": [
        "#### Ínfimo y Supremo\n",
        "\n",
        "Usando la intrucción `.inf` podemos encontrar el ínfimo de un intervalo y con `.sup` el supremo."
      ]
    },
    {
      "cell_type": "code",
      "metadata": {
        "id": "bS5l7YZ0txX5",
        "colab_type": "code",
        "colab": {}
      },
      "source": [
        "from sympy import Interval\n",
        "\n",
        "Interval(0, 1).inf"
      ],
      "execution_count": 0,
      "outputs": []
    },
    {
      "cell_type": "code",
      "metadata": {
        "id": "8I4Arz3Dt-4w",
        "colab_type": "code",
        "colab": {}
      },
      "source": [
        "Interval(0, 1).sup"
      ],
      "execution_count": 0,
      "outputs": []
    },
    {
      "cell_type": "markdown",
      "metadata": {
        "id": "5GIXoH9DB4TB",
        "colab_type": "text"
      },
      "source": [
        "#### Intervalo cerrado: `is_closed`\n",
        " \n",
        " Esta instrucción nos permite verificar si un intervalo es cerrado. Decimos que un intervalo es cerrado si su complemento es abierto."
      ]
    },
    {
      "cell_type": "code",
      "metadata": {
        "id": "wwGYkCoDGEkH",
        "colab_type": "code",
        "colab": {}
      },
      "source": [
        "from sympy import Interval\n",
        "\n",
        "Interval(0, 1).is_closed"
      ],
      "execution_count": 0,
      "outputs": []
    },
    {
      "cell_type": "markdown",
      "metadata": {
        "id": "cdTn3B08Gqtf",
        "colab_type": "text"
      },
      "source": [
        "#### Intervalo abierto: `is_open`\n",
        "\n",
        "Un intervalo es abierto si y sólo si tiene intersección vacía con su frontera."
      ]
    },
    {
      "cell_type": "code",
      "metadata": {
        "id": "Gdo2M2thG1zZ",
        "colab_type": "code",
        "colab": {}
      },
      "source": [
        "from sympy import Interval, S\n",
        "\n",
        "S.Reals.is_open"
      ],
      "execution_count": 0,
      "outputs": []
    },
    {
      "cell_type": "code",
      "metadata": {
        "id": "3uB0m0adHQpX",
        "colab_type": "code",
        "colab": {}
      },
      "source": [
        "from sympy import Interval\n",
        "\n",
        "Interval.Ropen(0, 2).is_open"
      ],
      "execution_count": 0,
      "outputs": []
    },
    {
      "cell_type": "markdown",
      "metadata": {
        "id": "1gxDSt3KH-qI",
        "colab_type": "text"
      },
      "source": [
        "#### Subconjuntos: `is_subset( )`\n"
      ]
    },
    {
      "cell_type": "code",
      "metadata": {
        "id": "0iq10jgxIIRX",
        "colab_type": "code",
        "colab": {}
      },
      "source": [
        "from sympy import Interval\n",
        "\n",
        "Interval(0, 0.5).is_subset(Interval(0, 1))"
      ],
      "execution_count": 0,
      "outputs": []
    },
    {
      "cell_type": "code",
      "metadata": {
        "id": "Ng0HeL99IM7d",
        "colab_type": "code",
        "colab": {}
      },
      "source": [
        "from sympy import Interval\n",
        "\n",
        "Interval(0, 1).is_subset(Interval(0, 1, left_open=True)) # interval(0,1,left_open=True) = Interval.Lopen(0,1)"
      ],
      "execution_count": 0,
      "outputs": []
    },
    {
      "cell_type": "markdown",
      "metadata": {
        "id": "xAl_yzR1IErD",
        "colab_type": "text"
      },
      "source": [
        "#### Superconjuntos: `is_superset( )`"
      ]
    },
    {
      "cell_type": "code",
      "metadata": {
        "id": "TOKKKO0UIyC6",
        "colab_type": "code",
        "colab": {}
      },
      "source": [
        "from sympy import Interval\n",
        "\n",
        "Interval(0, 0.5).is_superset(Interval(0, 1))"
      ],
      "execution_count": 0,
      "outputs": []
    },
    {
      "cell_type": "code",
      "metadata": {
        "id": "pGfT0hseI3qu",
        "colab_type": "code",
        "colab": {}
      },
      "source": [
        "from sympy import Interval\n",
        "\n",
        "Interval(0, 1).is_superset(Interval.Lopen(0, 1))"
      ],
      "execution_count": 0,
      "outputs": []
    },
    {
      "cell_type": "markdown",
      "metadata": {
        "id": "UZAuWIPxHl8N",
        "colab_type": "text"
      },
      "source": [
        "#### Subconjuntos propios: `is_proper_subset( )`"
      ]
    },
    {
      "cell_type": "code",
      "metadata": {
        "id": "xGMjsX7XHrYO",
        "colab_type": "code",
        "colab": {}
      },
      "source": [
        "from sympy import Interval\n",
        "\n",
        "Interval(0, 0.5).is_proper_subset(Interval(0, 1))"
      ],
      "execution_count": 0,
      "outputs": []
    },
    {
      "cell_type": "code",
      "metadata": {
        "id": "Grb4tcDVH1Sv",
        "colab_type": "code",
        "colab": {}
      },
      "source": [
        "from sympy import Interval\n",
        "\n",
        "Interval(0, 1).is_proper_subset(Interval(0, 1))"
      ],
      "execution_count": 0,
      "outputs": []
    },
    {
      "cell_type": "markdown",
      "metadata": {
        "id": "taw0mMWnH5ag",
        "colab_type": "text"
      },
      "source": [
        "#### Superconjuntos propios: `is_proper_superset( )`\n"
      ]
    },
    {
      "cell_type": "code",
      "metadata": {
        "id": "sNVV8J5ZJDps",
        "colab_type": "code",
        "colab": {}
      },
      "source": [
        "from sympy import Interval\n",
        "\n",
        "Interval(0, 1).is_proper_superset(Interval(0, 0.5))"
      ],
      "execution_count": 0,
      "outputs": []
    },
    {
      "cell_type": "code",
      "metadata": {
        "id": "jV06oN0pJMTq",
        "colab_type": "code",
        "colab": {}
      },
      "source": [
        "from sympy import Interval\n",
        "\n",
        "Interval(0, 1).is_proper_superset(Interval(0, 1))"
      ],
      "execution_count": 0,
      "outputs": []
    },
    {
      "cell_type": "markdown",
      "metadata": {
        "id": "2vCfa_wD_3Zd",
        "colab_type": "text"
      },
      "source": [
        "#### Frontera de un Intervalo\n",
        "\n",
        "Si consideramos a $S$ un intervalo, su frontera o cerradura serán los extremos del intervalo y la podemos calcular con la instrucción `Interval(a,b).boundary`.  "
      ]
    },
    {
      "cell_type": "code",
      "metadata": {
        "id": "4AbFK_KwqtCM",
        "colab_type": "code",
        "colab": {}
      },
      "source": [
        "from sympy import Interval\n",
        "\n",
        "Interval(0, 1).boundary"
      ],
      "execution_count": 0,
      "outputs": []
    },
    {
      "cell_type": "markdown",
      "metadata": {
        "id": "OpNTKwUWrDEa",
        "colab_type": "text"
      },
      "source": [
        "#### Cerradura  \n",
        "\n",
        "La cerradura de un intervalo en Python se define como la union del conjunto y de su frontera."
      ]
    },
    {
      "cell_type": "code",
      "metadata": {
        "id": "kQf4nJUPrKlK",
        "colab_type": "code",
        "colab": {}
      },
      "source": [
        "from sympy import S, Interval\n",
        "\n",
        "S.Reals.closure"
      ],
      "execution_count": 0,
      "outputs": []
    },
    {
      "cell_type": "code",
      "metadata": {
        "id": "3CyRrn7qraWV",
        "colab_type": "code",
        "colab": {}
      },
      "source": [
        "Interval(0, 1).closure"
      ],
      "execution_count": 0,
      "outputs": []
    },
    {
      "cell_type": "markdown",
      "metadata": {
        "id": "X8PJgXVHuKd7",
        "colab_type": "text"
      },
      "source": [
        "#### Interior\n",
        "\n",
        "El interior de un intervalo $S$ consiste de todos los puntos de $S$ que no pertenecen a la frontera de $S$."
      ]
    },
    {
      "cell_type": "code",
      "metadata": {
        "id": "AZSahl6TuUzC",
        "colab_type": "code",
        "colab": {}
      },
      "source": [
        "from sympy import Interval\n",
        "\n",
        "Interval(0, 1).interior"
      ],
      "execution_count": 0,
      "outputs": []
    },
    {
      "cell_type": "code",
      "metadata": {
        "id": "Peff1hKmubuM",
        "colab_type": "code",
        "colab": {}
      },
      "source": [
        "Interval(0, 1).boundary.interior "
      ],
      "execution_count": 0,
      "outputs": []
    },
    {
      "cell_type": "markdown",
      "metadata": {
        "id": "gl0VaMLCw5t0",
        "colab_type": "text"
      },
      "source": [
        "#### Referencias: \n",
        "\n",
        "\n",
        "*   https://recursospython.com/guias-y-manuales/conjuntos-sets/\n",
        "* http://www.cs.us.es/cursos/siis/practicas/Python/ReferenciaPython.pdf\n",
        "* http://elclubdelautodidacta.es/wp/2012/07/python-union-interseccion-y-diferencia-de-conjuntos/\n",
        "* https://docs.sympy.org/latest/modules/sets.html#imageset\n",
        "* https://docs.scipy.org/doc/numpy-1.13.0/reference/routines.set.html\n",
        "\n"
      ]
    }
  ]
}