{
  "nbformat": 4,
  "nbformat_minor": 0,
  "metadata": {
    "colab": {
      "name": "14_Valores_y_Vectores_Propios.ipynb",
      "provenance": [],
      "collapsed_sections": [],
      "include_colab_link": true
    },
    "kernelspec": {
      "name": "python3",
      "display_name": "Python 3"
    }
  },
  "cells": [
    {
      "cell_type": "markdown",
      "metadata": {
        "id": "view-in-github",
        "colab_type": "text"
      },
      "source": [
        "<a href=\"https://colab.research.google.com/github/HaydeePeruyero/Geometria-Analitica-1/blob/master/14_Valores_y_Vectores_Propios.ipynb\" target=\"_parent\"><img src=\"https://colab.research.google.com/assets/colab-badge.svg\" alt=\"Open In Colab\"/></a>"
      ]
    },
    {
      "cell_type": "markdown",
      "metadata": {
        "id": "LYhvA6oHILC3",
        "colab_type": "text"
      },
      "source": [
        "# Polinomio Característico"
      ]
    },
    {
      "cell_type": "markdown",
      "metadata": {
        "id": "OEQh_1_hLXqs",
        "colab_type": "text"
      },
      "source": [
        "Son esenciales para la Geometría los conceptos o elementos que permanecen invariantes bajo una transformación, pues mediante ellos es posible entender mejor el efecto de ésta. En el caso de las transformaciones lineales de un espacio vectorial en sí mismo, es importante determinar las direcciones que permanecen invariantes, es decir, aquellos subespacios de dimensión 1 cuyos elementos se transforman en otros pertenecientes al mismo subespacio.\n",
        "\n",
        "**Definición** Si $T: V \\rightarrow V$ es una transformación lineal, decimos que\n",
        "$v \\in V$ es un *vector propio* de $T$ si su transformado es múltiplo del\n",
        "vector, es decir, si para algún $\\lambda \\in \\mathbb{R}$ se tiene que\n",
        "    $$T(v) = \\lambda v$$\n",
        "El escalar $\\lambda$ se denomina *valor propio* de T.\n",
        "\n",
        "**Observación.** Como cualquier transformación lineal lleva al vector cero en el\n",
        "vector cero, este vector es vector propio de cualquier transformación lineal,\n",
        "por eso lo interesante es determinar los vectores propios no cero de una transformación lineal."
      ]
    },
    {
      "cell_type": "markdown",
      "metadata": {
        "id": "8JldGDYqSqR2",
        "colab_type": "text"
      },
      "source": [
        "En general no es tan sencillo entender el efecto geométrico de una cierta\n",
        "transformación lineal; para esos casos existe un instrumento algebraico que\n",
        "mecaniza la obtención de los elementos invariantes mediante la determinación\n",
        "de los valores y vectores caracter´ısticos. El procedimiento es el siguiente:\n",
        "\n",
        "Sabemos que, dada $T: V \\rightarrow V$ lineal y fijada una base en $V$, existe una única matriz $M_T$ que al muliplicar por la izquierda al vector columna formado con las coordenadas de un vector $v$ en términos de esa base, produce el vector columna transformado del vector dado; en el caso de un vector propio, ese transformado debe ser $\\lambda v$:\n",
        "$$M_{T}v = \\lambda v,$$\n",
        "que también puede escribirse como\n",
        "$$M_{T}v - \\lambda v = 0,$$\n",
        "y si denotamos por $I$ la matriz identidad, podemos introducirla en el segundo\n",
        "sumando del lado izquierdo así:\n",
        "$$M_{T}v - \\lambda I v = 0.$$\n",
        "Por la propiedad distributiva del producto de matrices, el lado izquierdo\n",
        "puede escribirse en la forma\n",
        "$$(M_{T} - \\lambda I) v = 0.$$\n",
        "\n",
        "Ahora, esta ecuación matricial para $v$ admite soluciones no triviales si y solamente si el determinante de la matriz $M_{T} - \\lambda I$ es cero. Como el determinante es una expresión polinomial en las entradas de la correspondiente matriz se tiene la siguiente definición.\n",
        "\n",
        "**Definición.** El polinomio característico de $T$ es\n",
        "    $$p(\\lambda) := \\det(M_{T} - \\lambda I). \\qquad (1)$$\n",
        "\n",
        "Por definición, las raíces del polinomio característico son los valores propios de $T$."
      ]
    },
    {
      "cell_type": "markdown",
      "metadata": {
        "id": "6f3ksAqEN4sZ",
        "colab_type": "text"
      },
      "source": [
        "* Utilizando la función `matriz_de` para construir las matrices asociadas, en las *bases canónicas*, de transformaciones lineales de $\\mathbb{R}^n$ a $\\mathbb{R}^n$, visto en el notebook `13_Matrices_2x2_3x3_y_Transformaciones_Lineales`, podemos implementar un algoritmo para calcular el polinomio característico de una transformación lineal:"
      ]
    },
    {
      "cell_type": "markdown",
      "metadata": {
        "id": "Cz07j7Q6JgNj",
        "colab_type": "text"
      },
      "source": [
        "Documentación de la función `matriz_de()`\n",
        "\n",
        "    ''' \n",
        "    Construye la matriz de un operador lineal en R^n respecto a la base canónica(ordenados de manera usual/natural) de este espacio vectorial.\n",
        "\n",
        "        Parámetros\n",
        "        ==========\n",
        "        :transformacion:\n",
        "            Es un diccionario que tiene como llaves/claves tuplas que emulan los elementos de la base canónica en R^n\n",
        "            y donde los respectivos valores de las llaves/claves son también tuplas que emulan la imagen del elemento básico \n",
        "            bajo (la correspondiente) transformacion lineal.\n",
        "        \n",
        "        Returns\n",
        "        =======\n",
        "            Una matriz simbólica.\n",
        "    '''"
      ]
    },
    {
      "cell_type": "code",
      "metadata": {
        "id": "kl0Y3M92JFgE",
        "colab_type": "code",
        "colab": {}
      },
      "source": [
        "import sympy as sym\n",
        "\n",
        "# Implementación de la función\n",
        "def matriz_de(transformacion):\n",
        "    transformacion = sym.sympify(transformacion)\n",
        "    Matriz = sym.Matrix([])\n",
        "    for key in transformacion:\n",
        "        Matriz = Matriz.col_insert(key.index(1), sym.Matrix(transformacion[key]))\n",
        "    return Matriz"
      ],
      "execution_count": 0,
      "outputs": []
    },
    {
      "cell_type": "markdown",
      "metadata": {
        "id": "0ogT3rVCOF11",
        "colab_type": "text"
      },
      "source": [
        "Ahora, usando la función `det()` que nos provee `SymPy` para el cálculo del determinante de matrices 'simbólicas', podemos implementar un algoritmo que retorne el polinomio característico de una transformación lineal acorde a la fórmula $(1)$:"
      ]
    },
    {
      "cell_type": "markdown",
      "metadata": {
        "colab_type": "text",
        "id": "gNbZDXw5PBd5"
      },
      "source": [
        "Documentación de la función `polinomio_caracteristico()`\n",
        "\n",
        "    ''' \n",
        "    Calcula el polinomio característico de un operador lineal en R^n.\n",
        "\n",
        "        Parámetros\n",
        "        ==========\n",
        "        :transformacion:\n",
        "            Es un diccionario que tiene como llaves/claves tuplas que emulan los elementos de la base canónica en R^n\n",
        "            y donde los respectivos valores de las llaves/claves son también tuplas que emulan la imagen del elemento básico \n",
        "            bajo (la correspondiente) transformacion lineal.\n",
        "        \n",
        "        Returns\n",
        "        =======\n",
        "            Una expresión simbólica que emula el polinomio característico de la correspondiente transformación lineal.\n",
        "    '''"
      ]
    },
    {
      "cell_type": "code",
      "metadata": {
        "id": "ATkibGHYO6I4",
        "colab_type": "code",
        "colab": {}
      },
      "source": [
        "def polinomio_caracteristico(transformacion):\n",
        "    MT = matriz_de(transformacion) # Cálculo de la matriz de 'transformacion'\n",
        "    nn = len(tuple(transformacion.keys())[0]) # Dimensión de R^n\n",
        "    identidad = sym.eye(nn) # Crear la matriz identidad de tamaño n x n\n",
        "    MT_menos_XI = MT - (sym.sympify('X'))*identidad # MT - X*I, en este caso usamos la leta X en vez de \\lambda\n",
        "    return sym.factor(MT_menos_XI.det()) # Utilizamos la función factor() para factorizar lo mejor posible una expresión 'simbólica'"
      ],
      "execution_count": 0,
      "outputs": []
    },
    {
      "cell_type": "markdown",
      "metadata": {
        "id": "seH7mw2LY9sc",
        "colab_type": "text"
      },
      "source": [
        "* A continuación, veamos algunos ejemplos."
      ]
    },
    {
      "cell_type": "markdown",
      "metadata": {
        "id": "jJKBgOPNWTk7",
        "colab_type": "text"
      },
      "source": [
        "**Ejemplo 1.** Calcule el polinomio característico de la transformación lineal $T: \\mathbb{R}^2 \\rightarrow \\mathbb{R}^2$ definida por \n",
        "\n",
        "$$T(x, y) = x(2, 1)+y(3, 4).$$\n",
        "\n",
        "El primer paso consiste en saber cómo actúa la transformación $T$\n",
        "en la base canónica de $\\mathbb{R}^3$ para poder construir la matriz $M_T$ asociada a la transformación:\n",
        "$$T(1, 0) = (2, 1) \\quad \\text{y} \\quad T(0, 1) = (3, 4).$$\n",
        "\n",
        "Con esta información ya podemos calcular el polinomio característico de $T$:"
      ]
    },
    {
      "cell_type": "code",
      "metadata": {
        "id": "nHQF4SajP_4j",
        "colab_type": "code",
        "outputId": "1c13163f-4c35-4deb-a390-b9e9967ef511",
        "colab": {
          "base_uri": "https://localhost:8080/",
          "height": 34
        }
      },
      "source": [
        "T1 = {(1,0): (2,1), (0,1): (3,4)}\n",
        "polinomio_caracteristico(T1)"
      ],
      "execution_count": 0,
      "outputs": [
        {
          "output_type": "execute_result",
          "data": {
            "text/plain": [
              "(X - 5)*(X - 1)"
            ]
          },
          "metadata": {
            "tags": []
          },
          "execution_count": 3
        }
      ]
    },
    {
      "cell_type": "markdown",
      "metadata": {
        "id": "cuyqnxjKbXS_",
        "colab_type": "text"
      },
      "source": [
        "Esto nos dice que:\n",
        "$$p(\\lambda) = (\\lambda - 5)(\\lambda - 1).$$"
      ]
    },
    {
      "cell_type": "markdown",
      "metadata": {
        "colab_type": "text",
        "id": "t5SgwmlUbrzv"
      },
      "source": [
        "**Ejemplo 2.** Calcule el polinomio característico de la transformación lineal $T: \\mathbb{R}^2 \\rightarrow \\mathbb{R}^2$ definida por \n",
        "\n",
        "$$T(x, y) = x(3, 4) + y(2, 1).$$\n",
        "\n",
        "La actuación de $T$ en la base canónica de $\\mathbb{R}^{2}$ es dada por\n",
        "$$T(1, 0) = (3, 4) \\quad \\text{y} \\quad T(0, 1) = (2, 1).$$\n",
        "\n",
        "Con esto ya podemos calcular el polinomio característico de $T$:"
      ]
    },
    {
      "cell_type": "code",
      "metadata": {
        "id": "jMfsavJ7b5b9",
        "colab_type": "code",
        "outputId": "37d81889-b6c9-48ce-9367-d7f8c8833459",
        "colab": {
          "base_uri": "https://localhost:8080/",
          "height": 34
        }
      },
      "source": [
        "T2 = {(1,0): (3,4), (0,1): (2,1)}\n",
        "polinomio_caracteristico(T2)"
      ],
      "execution_count": 0,
      "outputs": [
        {
          "output_type": "execute_result",
          "data": {
            "text/plain": [
              "(X - 5)*(X + 1)"
            ]
          },
          "metadata": {
            "tags": []
          },
          "execution_count": 4
        }
      ]
    },
    {
      "cell_type": "markdown",
      "metadata": {
        "colab_type": "text",
        "id": "as37-mKPmes9"
      },
      "source": [
        "Esto nos dice que:\n",
        "$$p(\\lambda) = (\\lambda - 5)(\\lambda + 1).$$"
      ]
    },
    {
      "cell_type": "markdown",
      "metadata": {
        "colab_type": "text",
        "id": "gUHRyRPAcmF3"
      },
      "source": [
        "**Ejemplo 3.** Calcule el polinomio característico de la transformación lineal $T: \\mathbb{R}^3 \\rightarrow \\mathbb{R}^3$ que determina una reflexión respecto al plano $YZ$, dada por\n",
        "\n",
        "$$T(1, 0, 0) = (-1, 0, 0), \\quad T(0, 1, 0) = (0, 1, 0) \\text{y} \\quad T(0, 0, 1) = (0, 0, 1):$$"
      ]
    },
    {
      "cell_type": "code",
      "metadata": {
        "colab_type": "code",
        "id": "roYYJ5Dydofl",
        "outputId": "a96d4460-87af-4cce-8fcd-50bc43866f77",
        "colab": {
          "base_uri": "https://localhost:8080/",
          "height": 34
        }
      },
      "source": [
        "T3 = {(1,0,0): (-1,0,0), (0,1,0): (0,1,0), (0,0,1): (0,0,1)}\n",
        "polinomio_caracteristico(T3)"
      ],
      "execution_count": 0,
      "outputs": [
        {
          "output_type": "execute_result",
          "data": {
            "text/plain": [
              "-(X - 1)**2*(X + 1)"
            ]
          },
          "metadata": {
            "tags": []
          },
          "execution_count": 5
        }
      ]
    },
    {
      "cell_type": "markdown",
      "metadata": {
        "colab_type": "text",
        "id": "GWUr_OKGb-9P"
      },
      "source": [
        "Esto nos dice que:\n",
        "$$p(\\lambda) = -(\\lambda - 1)^2(\\lambda + 1).$$"
      ]
    },
    {
      "cell_type": "markdown",
      "metadata": {
        "colab_type": "text",
        "id": "zFWQrnT3eWMs"
      },
      "source": [
        "**Ejemplo 4.** Calcule el polinomio característico de la transformación ortogonal de orden 3 correspondiente a la reflexión respecto al plano $x + y + z = 0$, dada por\n",
        "\n",
        "$$T(1, 0, 0) = (1/3, -2/3, -2/3), \\quad T(0, 1, 0) = (-2/3, 1/3, -2/3) \\quad  \\text{y} \\quad T(0, 0, 1) = (-2/3, -2/3, 1/3):$$"
      ]
    },
    {
      "cell_type": "code",
      "metadata": {
        "colab_type": "code",
        "id": "D8HfldePfPNS",
        "outputId": "7623d09a-dcde-4c82-c3d1-290ccff2bb3b",
        "colab": {
          "base_uri": "https://localhost:8080/",
          "height": 34
        }
      },
      "source": [
        "T4 = {(1,0,0): (1/3,-2/3,-2/3), (0,1,0): (-2/3,1/3,-2/3), (0,0,1): (-2/3,-2/3,1/3)}\n",
        "polinomio_caracteristico(T4)"
      ],
      "execution_count": 0,
      "outputs": [
        {
          "output_type": "execute_result",
          "data": {
            "text/plain": [
              "-1.0*(1.0*X - 1.0)**2*(1.0*X + 1.0)"
            ]
          },
          "metadata": {
            "tags": []
          },
          "execution_count": 6
        }
      ]
    },
    {
      "cell_type": "markdown",
      "metadata": {
        "colab_type": "text",
        "id": "dLtNgGWwfq_P"
      },
      "source": [
        "**Preguntas.** ¿Qué nos dice esto? ¿Por qué se despliega el resultado de esta manera?"
      ]
    },
    {
      "cell_type": "markdown",
      "metadata": {
        "id": "lGsl7VLagC4r",
        "colab_type": "text"
      },
      "source": [
        "**Respuestas.** Escriba en esta celda sus respuestas:"
      ]
    },
    {
      "cell_type": "markdown",
      "metadata": {
        "id": "8CutnTV2hCu5",
        "colab_type": "text"
      },
      "source": [
        "# Valores Propios"
      ]
    },
    {
      "cell_type": "markdown",
      "metadata": {
        "id": "W1U2TJxThFAb",
        "colab_type": "text"
      },
      "source": [
        "Ya que tenemos una función para calcular el polinomio característico de una transformación lineal lo siguiente es buscar una manera de determinar sus raices, es decir, los *valores propios* de la correspondiente transformación lineal. Esto se puede hacer de diferentes maneras mediante funciones que Python, en particular `SymPy`, nos provee. Para nuestros propósitos utilizaremos la función `solve()` de `SymPy` para implementar una función que retorne los valores propios de una transformación lineal. "
      ]
    },
    {
      "cell_type": "markdown",
      "metadata": {
        "colab_type": "text",
        "id": "tAvh67qVjLk_"
      },
      "source": [
        "Documentación de la función `valores_propios()`\n",
        "\n",
        "    ''' \n",
        "    Calcula el polinomio característico de un operador lineal en R^n.\n",
        "\n",
        "        Parámetros\n",
        "        ==========\n",
        "        :transformacion:\n",
        "            Es un diccionario que tiene como llaves/claves tuplas que emulan los elementos de la base canónica en R^n\n",
        "            y donde los respectivos valores de las llaves/claves son también tuplas que emulan la imagen del elemento básico \n",
        "            bajo (la correspondiente) transformacion lineal.\n",
        "        \n",
        "        Returns\n",
        "        =======\n",
        "            Una lista que contiene los valores propios de la correspondiente transformación lineal.\n",
        "    '''"
      ]
    },
    {
      "cell_type": "code",
      "metadata": {
        "id": "utr7faVZjaVV",
        "colab_type": "code",
        "colab": {}
      },
      "source": [
        "def valores_propios(transformacion):\n",
        "    return sym.solve(polinomio_caracteristico(transformacion), sym.sympify('X'))"
      ],
      "execution_count": 0,
      "outputs": []
    },
    {
      "cell_type": "code",
      "metadata": {
        "id": "jFDLHB-Hj6GX",
        "colab_type": "code",
        "outputId": "2080ddcd-a3c7-4e5d-8539-cce7d5de5e9c",
        "colab": {
          "base_uri": "https://localhost:8080/",
          "height": 34
        }
      },
      "source": [
        "T1 = {(1,0): (2,1), (0,1): (3,4)}\n",
        "valores_propios(T1)"
      ],
      "execution_count": 0,
      "outputs": [
        {
          "output_type": "execute_result",
          "data": {
            "text/plain": [
              "[1, 5]"
            ]
          },
          "metadata": {
            "tags": []
          },
          "execution_count": 8
        }
      ]
    },
    {
      "cell_type": "markdown",
      "metadata": {
        "id": "L1f3WcgckU9G",
        "colab_type": "text"
      },
      "source": [
        "* Retomemos los 4 ejemplos anteriores para calcular los respectivos valores propios."
      ]
    },
    {
      "cell_type": "markdown",
      "metadata": {
        "colab_type": "text",
        "id": "IKHZ8ogekj6F"
      },
      "source": [
        "**Ejemplo 1.1** Para la transformación lineal $T: \\mathbb{R}^2 \\rightarrow \\mathbb{R}^2$ definida por \n",
        "\n",
        "$$T(x, y) = x(2, 1)+y(3, 4),$$\n",
        "o equivalentemente, por\n",
        "\n",
        "$$T(1, 0) = (2, 1) \\quad \\text{y} \\quad T(0, 1) = (3, 4),$$\n",
        "\n",
        "tenemos que el polinomio característico es\n",
        "$$p(\\lambda) = (\\lambda - 5)(\\lambda - 1).$$\n",
        "\n",
        "Es inmediato que los valores propios, raíces de este polinomio, son\n",
        "\n",
        "$$\\lambda_{1} = 1, \\qquad \\lambda_{2} = 5.$$\n",
        "\n",
        "Lo cual coincide con el resultado de la siguiente celda:\n"
      ]
    },
    {
      "cell_type": "code",
      "metadata": {
        "colab_type": "code",
        "id": "o6P9h9lulwOK",
        "outputId": "fd95ed39-13db-4230-885f-ec15f0677c67",
        "colab": {
          "base_uri": "https://localhost:8080/",
          "height": 34
        }
      },
      "source": [
        "T1 = {(1,0): (2,1), (0,1): (3,4)}\n",
        "valores_propios(T1)"
      ],
      "execution_count": 0,
      "outputs": [
        {
          "output_type": "execute_result",
          "data": {
            "text/plain": [
              "[1, 5]"
            ]
          },
          "metadata": {
            "tags": []
          },
          "execution_count": 9
        }
      ]
    },
    {
      "cell_type": "markdown",
      "metadata": {
        "colab_type": "text",
        "id": "P1EvU0LbmHzp"
      },
      "source": [
        "**Ejemplo 2.1** Para la transformación lineal $T: \\mathbb{R}^2 \\rightarrow \\mathbb{R}^2$ definida por \n",
        "\n",
        "$$T(1, 0) = (3, 4) \\quad \\text{y} \\quad T(0, 1) = (2, 1),$$\n",
        "\n",
        "tenemos que el polinomio característico es\n",
        "$$p(\\lambda) = (\\lambda - 5)(\\lambda + 1).$$\n",
        "\n",
        "Es inmediato que los valores propios de $T$ son\n",
        "\n",
        "$$\\lambda_{1} = -1, \\qquad \\lambda_{2} = 5.$$\n",
        "\n",
        "Lo cual coincide con el resultado de la siguiente celda:"
      ]
    },
    {
      "cell_type": "code",
      "metadata": {
        "id": "3I9a2hVMneJW",
        "colab_type": "code",
        "outputId": "1bfa06c7-a569-449d-85e7-d83e2a21a0a0",
        "colab": {
          "base_uri": "https://localhost:8080/",
          "height": 34
        }
      },
      "source": [
        "T2 = {(1,0): (3,4), (0,1): (2,1)}\n",
        "valores_propios(T2)"
      ],
      "execution_count": 0,
      "outputs": [
        {
          "output_type": "execute_result",
          "data": {
            "text/plain": [
              "[-1, 5]"
            ]
          },
          "metadata": {
            "tags": []
          },
          "execution_count": 10
        }
      ]
    },
    {
      "cell_type": "markdown",
      "metadata": {
        "colab_type": "text",
        "id": "TERRuHxpnzb4"
      },
      "source": [
        "**Ejemplo 3.1** Para la transformación lineal $T: \\mathbb{R}^3 \\rightarrow \\mathbb{R}^3$ que determina una reflexión respecto al plano $YZ$, dada por\n",
        "\n",
        "$$T(1, 0, 0) = (-1, 0, 0), \\quad T(0, 1, 0) = (0, 1, 0) \\text{y} \\quad T(0, 0, 1) = (0, 0, 1):$$\n",
        "\n",
        "tenemos que el polinomio característico es\n",
        "$$p(\\lambda) = -(\\lambda - 1)^2(\\lambda + 1).$$\n",
        "\n",
        "Es inmediato que los valores propios de $T$ son\n",
        "\n",
        "$$\\lambda_{1} = -1, \\qquad \\lambda_{2} = \\lambda_{3} = 1.$$\n",
        "\n",
        "Lo cual coincide con el resultado de la siguiente celda:"
      ]
    },
    {
      "cell_type": "code",
      "metadata": {
        "colab_type": "code",
        "id": "_xlpAXIQocBA",
        "outputId": "192c14d1-206e-4f64-ee8b-7bdc76e39598",
        "colab": {
          "base_uri": "https://localhost:8080/",
          "height": 34
        }
      },
      "source": [
        "T3 = {(1,0,0): (-1,0,0), (0,1,0): (0,1,0), (0,0,1): (0,0,1)}\n",
        "valores_propios(T3)"
      ],
      "execution_count": 0,
      "outputs": [
        {
          "output_type": "execute_result",
          "data": {
            "text/plain": [
              "[-1, 1]"
            ]
          },
          "metadata": {
            "tags": []
          },
          "execution_count": 11
        }
      ]
    },
    {
      "cell_type": "markdown",
      "metadata": {
        "id": "T_8a5cdAo1JD",
        "colab_type": "text"
      },
      "source": [
        "**NOTA.** Observemos que nuestro código no distingue la multiplicidad (algebraica) de los valores propios como raíces del polinomio característico. Sin embargo, aunque importante, no es el objetivo de este notebook profundizar en tal detalle. Mas bien, queremos ilustrar cómo es que Python permite la *programación orientada a objetos*. Además de que `SymPy` ya tiene funciones integradas que sí determina esta propiedad de los valores propios."
      ]
    },
    {
      "cell_type": "markdown",
      "metadata": {
        "id": "spnSdBZeqikR",
        "colab_type": "text"
      },
      "source": [
        "**Ejercicio (4.1)** Determine los valores propios de la transformación lineal del Ejemplo 4."
      ]
    },
    {
      "cell_type": "markdown",
      "metadata": {
        "id": "KFufdxOPrbh3",
        "colab_type": "text"
      },
      "source": [
        "# Vectores Propios"
      ]
    },
    {
      "cell_type": "markdown",
      "metadata": {
        "id": "TbapKTULskrF",
        "colab_type": "text"
      },
      "source": [
        "Finalmente, una vez determinados los valores propios de una transformación lineal lo siguiente es calcular los vectores propios asociados. Para esto recurriremos nuevamente a la función `solve()` de `SymPy`."
      ]
    },
    {
      "cell_type": "markdown",
      "metadata": {
        "colab_type": "text",
        "id": "CXyoZeRbtT1G"
      },
      "source": [
        "Documentación de la función `vectores_propios()`\n",
        "\n",
        "    ''' \n",
        "    Calcula el polinomio característico de un operador lineal en R^n.\n",
        "\n",
        "        Parámetros\n",
        "        ==========\n",
        "        :transformacion:\n",
        "            Es un diccionario que tiene como llaves/claves tuplas que emulan los elementos de la base canónica en R^n\n",
        "            y donde los respectivos valores de las llaves/claves son también tuplas que emulan la imagen del elemento básico \n",
        "            bajo (la correspondiente) transformacion lineal.\n",
        "        \n",
        "        Returns\n",
        "        =======\n",
        "            Una lista que contiene la relación entre las entradas que determinan los vectores propios de la correspondiente transformación lineal.\n",
        "    '''"
      ]
    },
    {
      "cell_type": "code",
      "metadata": {
        "id": "wz_omWrouL1n",
        "colab_type": "code",
        "colab": {}
      },
      "source": [
        "def vectores_propios(transformacion):\n",
        "    MT = matriz_de(transformacion) # Cálculo de la matriz de 'transformacion'\n",
        "    nn = len(tuple(transformacion.keys())[0]) # Dimensión de R^n\n",
        "    identidad = sym.eye(nn) # Crear la matriz identidad de tamaño n x n\n",
        "    vv = sym.symbols(f'v1:{nn + 1}') # Crear vector 'arbitrario'\n",
        "    vv_vector = sym.Matrix(vv) # Convertir vv a una matriz 'simbólica'\n",
        "    vect_prop = dict() # Un diccionario vacío para guardar los valores propios y los correspondientes vectores propios\n",
        "    val_prop = valores_propios(transformacion)\n",
        "    for X in val_prop: # Para cada valor propio hacer:\n",
        "        MT_menos_XI = MT - sym.sympify(X)*identidad # MT - X*I, en este caso usamos la leta X en vez de \\lambda\n",
        "        MT_menos_XI_vv = MT_menos_XI * vv_vector # Producto de MT - X*I por el vector v, esto es, (MT - X*I)v\n",
        "        vect_prop[f'X = {X}'] = sym.solve(MT_menos_XI_vv, vv) # Resolver el sistema dado por la ecuación (MT - X*I)v = 0\n",
        "    return vect_prop\n",
        "        "
      ],
      "execution_count": 0,
      "outputs": []
    },
    {
      "cell_type": "markdown",
      "metadata": {
        "id": "SFn0l_px48H9",
        "colab_type": "text"
      },
      "source": [
        "* Retomemos los 4 ejemplos iniciales para calcular los respectivos vectores propios."
      ]
    },
    {
      "cell_type": "markdown",
      "metadata": {
        "colab_type": "text",
        "id": "F2wwWjYs5EoA"
      },
      "source": [
        "**Ejemplo 1.1.1** Para la transformación lineal $T: \\mathbb{R}^2 \\rightarrow \\mathbb{R}^2$ definida por \n",
        "\n",
        "$$T(1, 0) = (2, 1) \\quad \\text{y} \\quad T(0, 1) = (3, 4),$$\n",
        "\n",
        "tenemos que los valores propios son\n",
        "\n",
        "$$\\lambda_{1} = 1, \\qquad \\lambda_{2} = 5.$$\n",
        "\n",
        "Los respectivos vectores propios están determinados por:\n"
      ]
    },
    {
      "cell_type": "code",
      "metadata": {
        "id": "hftqW-lsvMgU",
        "colab_type": "code",
        "outputId": "24f20ca4-b971-441f-9dba-b35d3b72b1e3",
        "colab": {
          "base_uri": "https://localhost:8080/",
          "height": 34
        }
      },
      "source": [
        "T1 = {(1,0): (2,1), (0,1): (3,4)}\n",
        "vectores_propios(T1)"
      ],
      "execution_count": 0,
      "outputs": [
        {
          "output_type": "execute_result",
          "data": {
            "text/plain": [
              "{'X = 1': {v1: -3*v2}, 'X = 5': {v1: v2}}"
            ]
          },
          "metadata": {
            "tags": []
          },
          "execution_count": 13
        }
      ]
    },
    {
      "cell_type": "markdown",
      "metadata": {
        "id": "ZOJTjnI-5dHy",
        "colab_type": "text"
      },
      "source": [
        "Lo que nos dice que:\n",
        "> Para $\\lambda_{1} = 1$ se tiene la familia de vectores propios\n",
        "    $$v = (-3v_2, v_2) = (v_1,-\\tfrac{1}{3}v_1).$$\n",
        "\n",
        "> Para $\\lambda_{1} = 5$ se tiene la familia de vectores propios\n",
        "    $$v = (v_1,v_1).$$"
      ]
    },
    {
      "cell_type": "markdown",
      "metadata": {
        "colab_type": "text",
        "id": "ByJozEm36oAf"
      },
      "source": [
        "**Ejemplo 2.1.1** Para la transformación lineal $T: \\mathbb{R}^2 \\rightarrow \\mathbb{R}^2$ definida por \n",
        "\n",
        "$$T(1, 0) = (3, 4) \\quad \\text{y} \\quad T(0, 1) = (2, 1),$$\n",
        "\n",
        "tenemos que los valores propios son\n",
        "\n",
        "$$\\lambda_{1} = -1, \\qquad \\lambda_{2} = 5.$$\n",
        "\n",
        "Los respectivos vectores propios están determinados por:\n"
      ]
    },
    {
      "cell_type": "code",
      "metadata": {
        "colab_type": "code",
        "id": "C5FUiGRX64Sd",
        "outputId": "88546bdc-ea70-4013-89d0-a3aa9626b520",
        "colab": {
          "base_uri": "https://localhost:8080/",
          "height": 34
        }
      },
      "source": [
        "T2 = {(1,0): (3,4), (0,1): (2,1)}\n",
        "vectores_propios(T2)"
      ],
      "execution_count": 0,
      "outputs": [
        {
          "output_type": "execute_result",
          "data": {
            "text/plain": [
              "{'X = -1': {v1: -v2/2}, 'X = 5': {v1: v2}}"
            ]
          },
          "metadata": {
            "tags": []
          },
          "execution_count": 14
        }
      ]
    },
    {
      "cell_type": "markdown",
      "metadata": {
        "colab_type": "text",
        "id": "7FS58gMg7KA0"
      },
      "source": [
        "Lo que nos dice que:\n",
        "> Para $\\lambda_{1} = -1$ se tiene la familia de vectores propios\n",
        "    $$v = (-\\tfrac{1}{2}v_2, v_2) = (v_1,-2v_1).$$\n",
        "\n",
        "> Para $\\lambda_{1} = 5$ se tiene la familia de vectores propios\n",
        "    $$v = (v_1,v_1).$$"
      ]
    },
    {
      "cell_type": "markdown",
      "metadata": {
        "colab_type": "text",
        "id": "V71FmYab7c3W"
      },
      "source": [
        "**Ejemplo 3.1.1** Para la transformación lineal $T: \\mathbb{R}^2 \\rightarrow \\mathbb{R}^2$ definida por \n",
        "\n",
        "$$T(1, 0, 0) = (-1, 0, 0), \\quad T(0, 1, 0) = (0, 1, 0) \\text{y} \\quad T(0, 0, 1) = (0, 0, 1):$$\n",
        "\n",
        "tenemos que los valores propios son\n",
        "\n",
        "$$\\lambda_{1} = -1, \\qquad \\lambda_{2} = \\lambda_{3} = 1.$$\n",
        "\n",
        "Los respectivos vectores propios están determinados por:\n",
        "\n"
      ]
    },
    {
      "cell_type": "code",
      "metadata": {
        "colab_type": "code",
        "id": "30MQBjIi7zsf",
        "outputId": "2ce51774-6d68-452f-a332-39eb51a4bad3",
        "colab": {
          "base_uri": "https://localhost:8080/",
          "height": 34
        }
      },
      "source": [
        "T3 = {(1,0,0): (-1,0,0), (0,1,0): (0,1,0), (0,0,1): (0,0,1)}\n",
        "vectores_propios(T3)"
      ],
      "execution_count": 0,
      "outputs": [
        {
          "output_type": "execute_result",
          "data": {
            "text/plain": [
              "{'X = -1': {v2: 0, v3: 0}, 'X = 1': {v1: 0}}"
            ]
          },
          "metadata": {
            "tags": []
          },
          "execution_count": 15
        }
      ]
    },
    {
      "cell_type": "markdown",
      "metadata": {
        "colab_type": "text",
        "id": "lH9crBa48AiS"
      },
      "source": [
        "Lo que nos dice que:\n",
        "> Para $\\lambda_{1} = -1$ se tiene la familia de vectores propios\n",
        "    $$v = (v_1,0,0).$$\n",
        "\n",
        "> Para $\\lambda_{1} = 5$ se tiene la familia de vectores propios\n",
        "    $$v = (0,v_2,v_3).$$"
      ]
    },
    {
      "cell_type": "markdown",
      "metadata": {
        "colab_type": "text",
        "id": "xlyKs-CQ8gQa"
      },
      "source": [
        "**Ejercicio (4.1.1)** Determine los vectores propios de la transformación lineal del Ejemplo 4."
      ]
    },
    {
      "cell_type": "code",
      "metadata": {
        "id": "cNEkLbFQbLIF",
        "colab_type": "code",
        "outputId": "60b31a8c-cd39-4ed7-ee44-714338d0e71a",
        "colab": {
          "base_uri": "https://localhost:8080/",
          "height": 68
        }
      },
      "source": [
        ""
      ],
      "execution_count": 0,
      "outputs": [
        {
          "output_type": "execute_result",
          "data": {
            "text/plain": [
              "Matrix([\n",
              "[2, -5],\n",
              "[3,  1]])"
            ]
          },
          "metadata": {
            "tags": []
          },
          "execution_count": 18
        }
      ]
    }
  ]
}