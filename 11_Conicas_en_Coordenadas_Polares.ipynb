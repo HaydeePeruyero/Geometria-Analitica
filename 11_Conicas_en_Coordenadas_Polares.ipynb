{
  "nbformat": 4,
  "nbformat_minor": 0,
  "metadata": {
    "colab": {
      "name": "11_Conicas_en_Coordenadas_Polares.ipynb",
      "provenance": [],
      "collapsed_sections": [],
      "include_colab_link": true
    },
    "kernelspec": {
      "name": "python3",
      "display_name": "Python 3"
    }
  },
  "cells": [
    {
      "cell_type": "markdown",
      "metadata": {
        "id": "view-in-github",
        "colab_type": "text"
      },
      "source": [
        "<a href=\"https://colab.research.google.com/github/HaydeePeruyero/Geometria-Analitica-1/blob/master/11_Conicas_en_Coordenadas_Polares.ipynb\" target=\"_parent\"><img src=\"https://colab.research.google.com/assets/colab-badge.svg\" alt=\"Open In Colab\"/></a>"
      ]
    },
    {
      "cell_type": "markdown",
      "metadata": {
        "id": "XVyawrgPWoUa",
        "colab_type": "text"
      },
      "source": [
        "# 1. Cónicas en Coordenadas Polares"
      ]
    },
    {
      "cell_type": "markdown",
      "metadata": {
        "id": "nhxVOcdoUbDD",
        "colab_type": "text"
      },
      "source": [
        "Las coordenadas polares se utilizan en muchos contextos porque ese tipo de presentación puede facilitar ciertos cálculos. A nosotros nos interesa obtener\n",
        "la forma polar de una cónica cuando el polo está en un foco.\n",
        "\n",
        "Para obtener la forma polar de una cónica en el caso de que el polo esté en\n",
        "el foco, trazamos la Figura 5.29, donde $O$ es el polo, $P$ un punto de la cónica, la directriz $D$ es perpendicular a la dirección del eje polar y dista $p$ del foco, $C$ es el pie de la perpendicular de $P$ a la directriz y $(r,\\theta)$ las coordenadas polares de $P$.\n",
        "\n",
        "![](https://i.imgur.com/JURtwNT.png)\n",
        "\n",
        "Tomando en cuenta la definición de cónica en términos de la excentricidad;\n",
        "$d(P,O) = e d(P,C)$, y la Figura 5.29, escribimos\n",
        "\n",
        "\\begin{equation*}\n",
        "r \\,=\\, e(p + r\\cos{\\theta})\n",
        "\\end{equation*}\n",
        "\n",
        "y si despejamos $r$ obtenemos la forma polar de una cónica con un foco en el\n",
        "origen\n",
        "\n",
        "\\begin{equation*}\n",
        "r \\,=\\, \\frac{ep}{1 - e\\cos{\\theta}}.\n",
        "\\end{equation*}"
      ]
    },
    {
      "cell_type": "markdown",
      "metadata": {
        "id": "n-0SansQWyfd",
        "colab_type": "text"
      },
      "source": [
        "# 2. Otras Directrices"
      ]
    },
    {
      "cell_type": "markdown",
      "metadata": {
        "id": "Z2eAMTqyW9Up",
        "colab_type": "text"
      },
      "source": [
        "A continuación se presentan algunas modificaciones a la fórmula anterior que resultan de posicionar de diferente manera la directriz $D$"
      ]
    },
    {
      "cell_type": "markdown",
      "metadata": {
        "id": "h-0csqNXW4AM",
        "colab_type": "text"
      },
      "source": [
        "## Directriz $x = +p$\n",
        "\n",
        "La forma polar de una cónica con un foco en el origen es\n",
        "\n",
        "\\begin{equation*}\n",
        "r \\,=\\, \\frac{ep}{1 + e\\cos{\\theta}}.\n",
        "\\end{equation*}\n",
        "\n",
        "## Directriz $y = -p$\n",
        "\n",
        "La forma polar de una cónica con un foco en el origen es\n",
        "\n",
        "\\begin{equation*}\n",
        "r \\,=\\, \\frac{ep}{1 - e\\sin{\\theta}}.\n",
        "\\end{equation*}\n",
        "\n",
        "## Directriz $y = p$\n",
        "\n",
        "La forma polar de una cónica con un foco en el origen es\n",
        "\n",
        "\\begin{equation*}\n",
        "r \\,=\\, \\frac{ep}{1 + e\\sin{\\theta}}.\n",
        "\\end{equation*}"
      ]
    },
    {
      "cell_type": "markdown",
      "metadata": {
        "id": "n4-9NGghX8of",
        "colab_type": "text"
      },
      "source": [
        "# 3. Ejemplos"
      ]
    },
    {
      "cell_type": "markdown",
      "metadata": {
        "id": "xkSAopG0bcTm",
        "colab_type": "text"
      },
      "source": [
        "Considemos la primera fórmula obtenida\n",
        "\n",
        "\\begin{equation*}\n",
        "r \\,=\\, \\frac{ep}{1 - e\\cos{\\theta}}.\n",
        "\\end{equation*}\n",
        "\n",
        "y grafiquemos la cónica correspondiente para distintos valores del parámetro $e$."
      ]
    },
    {
      "cell_type": "markdown",
      "metadata": {
        "id": "aqfspZAajxDx",
        "colab_type": "text"
      },
      "source": [
        "**Nota:** Pera lo anterior, dado que `matplotlib` presenta ciertas incompatiblidades al trabajar con coordenadas polares, nos auxiliaremos de la siguiente función:"
      ]
    },
    {
      "cell_type": "code",
      "metadata": {
        "id": "_79kFJtKaDi5",
        "colab_type": "code",
        "colab": {}
      },
      "source": [
        "import numpy as np\n",
        "\n",
        "def polar_to_cartesian(r, theta):\n",
        "   xx = r * np.cos(theta)\n",
        "   yy = r * np.sin(theta)\n",
        "   return (xx, yy)"
      ],
      "execution_count": 0,
      "outputs": []
    },
    {
      "cell_type": "markdown",
      "metadata": {
        "id": "X7zNdQsrkJgH",
        "colab_type": "text"
      },
      "source": [
        "La cual, como su nombre lo indica, convierte un par de coordendas polares a cartesianas. La *idea* es generar 'suficientes' puntos $(r_{0}=r(\\theta_{0}),\\theta_{0})$, convertirlas a coordenadas cartesianas y obtener la gráfica correspondiente (claro, en el plano cartesiano)."
      ]
    },
    {
      "cell_type": "markdown",
      "metadata": {
        "id": "ezgBQ51sl1b3",
        "colab_type": "text"
      },
      "source": [
        "**$\\bullet\\ $ $e = \\frac{1}{2}$, $p=4$**"
      ]
    },
    {
      "cell_type": "code",
      "metadata": {
        "id": "rG4s5QZ2hzUk",
        "colab_type": "code",
        "outputId": "e5401baa-b704-4d04-9647-9d7a12241f67",
        "colab": {
          "base_uri": "https://localhost:8080/",
          "height": 282
        }
      },
      "source": [
        "import matplotlib.pyplot as plt\n",
        "\n",
        "e = 1/2 # Excentricidad\n",
        "p = 4 # Directriz\n",
        "\n",
        "puntos = [polar_to_cartesian(e*p/(1 - e*np.cos(theta)), theta) for theta in np.linspace(0.001, 2*np.pi-0.001, 10000)] # Una lista con puntos [(x1,y1), ..., [xn,yn]]\n",
        "x = [puntos[i][0] for i in range(0, len(puntos))] # Una lista con puntos [x1, ..., xn]\n",
        "y = [puntos[i][1] for i in range(0, len(puntos))] # Una lista con puntos [y1, ..., yn]\n",
        "\n",
        "plt.plot(x, y)"
      ],
      "execution_count": 0,
      "outputs": [
        {
          "output_type": "execute_result",
          "data": {
            "text/plain": [
              "[<matplotlib.lines.Line2D at 0x7fbf5f5e9978>]"
            ]
          },
          "metadata": {
            "tags": []
          },
          "execution_count": 22
        },
        {
          "output_type": "display_data",
          "data": {
            "image/png": "[encoded data removed]",
            "text/plain": [
              "<Figure size 432x288 with 1 Axes>"
            ]
          },
          "metadata": {
            "tags": []
          }
        }
      ]
    },
    {
      "cell_type": "markdown",
      "metadata": {
        "id": "RiyQGsHtmSjK",
        "colab_type": "text"
      },
      "source": [
        "Como era de esperar, hemos obtenido una elipse."
      ]
    },
    {
      "cell_type": "markdown",
      "metadata": {
        "id": "g7bY6MhCmfsV",
        "colab_type": "text"
      },
      "source": [
        "**$\\bullet\\ $ $e = 1$, $p=\\frac{5}{3}$**"
      ]
    },
    {
      "cell_type": "code",
      "metadata": {
        "id": "IMcyeS5QV64a",
        "colab_type": "code",
        "outputId": "b3e1def3-beb9-47c3-d888-7625ef7aa55b",
        "colab": {
          "base_uri": "https://localhost:8080/",
          "height": 282
        }
      },
      "source": [
        "import matplotlib.pyplot as plt\n",
        "\n",
        "e = 1\n",
        "p = 5/3\n",
        "\n",
        "puntos = [polar_to_cartesian(e*p/(1 - e*np.cos(theta)), theta) for theta in np.linspace(0.001, 2*np.pi-0.001, 100000)]\n",
        "x = [puntos[i][0] for i in range(0, len(puntos))]\n",
        "y = [puntos[i][1] for i in range(0, len(puntos))]\n",
        "\n",
        "plt.plot(x, y)"
      ],
      "execution_count": 0,
      "outputs": [
        {
          "output_type": "execute_result",
          "data": {
            "text/plain": [
              "[<matplotlib.lines.Line2D at 0x7fbf594fd828>]"
            ]
          },
          "metadata": {
            "tags": []
          },
          "execution_count": 18
        },
        {
          "output_type": "display_data",
          "data": {
            "image/png": "[encoded data removed]",
            "text/plain": [
              "<Figure size 432x288 with 1 Axes>"
            ]
          },
          "metadata": {
            "tags": []
          }
        }
      ]
    },
    {
      "cell_type": "markdown",
      "metadata": {
        "id": "eT97A_dsmnLi",
        "colab_type": "text"
      },
      "source": [
        "En este caso, hemos obtenido una parábola."
      ]
    },
    {
      "cell_type": "markdown",
      "metadata": {
        "id": "emil-BBfmqrt",
        "colab_type": "text"
      },
      "source": [
        "**$\\bullet\\ $ $e = \\frac{3}{2}$, $p=\\frac{8}{3}$**"
      ]
    },
    {
      "cell_type": "code",
      "metadata": {
        "id": "-Q_crUZ5hSji",
        "colab_type": "code",
        "outputId": "a6bcdab9-39d1-4925-f895-1011cd5e8ba1",
        "colab": {
          "base_uri": "https://localhost:8080/",
          "height": 282
        }
      },
      "source": [
        "import matplotlib.pyplot as plt\n",
        "\n",
        "e = 3/2\n",
        "p = 8/3\n",
        "\n",
        "puntos = [polar_to_cartesian(e*p/(1 - e*np.cos(theta)), theta) for theta in np.linspace(0.001, 2*np.pi-0.001, 27)]\n",
        "x = [puntos[i][0] for i in range(0, len(puntos))]\n",
        "y = [puntos[i][1] for i in range(0, len(puntos))]\n",
        "\n",
        "plt.plot(x, y)"
      ],
      "execution_count": 0,
      "outputs": [
        {
          "output_type": "execute_result",
          "data": {
            "text/plain": [
              "[<matplotlib.lines.Line2D at 0x7fbf5f6614a8>]"
            ]
          },
          "metadata": {
            "tags": []
          },
          "execution_count": 20
        },
        {
          "output_type": "display_data",
          "data": {
            "image/png": "[encoded data removed]",
            "text/plain": [
              "<Figure size 432x288 with 1 Axes>"
            ]
          },
          "metadata": {
            "tags": []
          }
        }
      ]
    },
    {
      "cell_type": "markdown",
      "metadata": {
        "id": "jyzi52oEmx28",
        "colab_type": "text"
      },
      "source": [
        "Finalmente, tenemo una hipérbola."
      ]
    },
    {
      "cell_type": "markdown",
      "metadata": {
        "id": "4YfoOTnupQEr",
        "colab_type": "text"
      },
      "source": [
        "# Ejercicios"
      ]
    },
    {
      "cell_type": "markdown",
      "metadata": {
        "id": "uuPx3E2ppSNs",
        "colab_type": "text"
      },
      "source": [
        "Utilizando la ecuación\n",
        "\n",
        "\\begin{equation*}\n",
        "r \\,=\\, \\frac{ep}{1 + e\\cos{\\theta}}:\n",
        "\\end{equation*}\n",
        "\n",
        "1. Grafique una hipérbola.\n",
        "2. Grafique una parábola.\n",
        "3. Grafique una elipse.\n",
        "\n",
        "Ajuste de ser necesario la 'división' del intervalo sobre el cual tomará valores $\\theta$. \n",
        "\n",
        "\n",
        "\n"
      ]
    }
  ]
}