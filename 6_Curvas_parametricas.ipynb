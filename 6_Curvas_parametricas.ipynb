{
  "nbformat": 4,
  "nbformat_minor": 0,
  "metadata": {
    "colab": {
      "name": "6_Curvas_parametricas.ipynb",
      "version": "0.3.2",
      "provenance": [],
      "collapsed_sections": [],
      "include_colab_link": true
    },
    "kernelspec": {
      "name": "python3",
      "display_name": "Python 3"
    }
  },
  "cells": [
    {
      "cell_type": "markdown",
      "metadata": {
        "id": "view-in-github",
        "colab_type": "text"
      },
      "source": [
        "<a href=\"https://colab.research.google.com/github/HaydeePeruyero/Geometria-Analitica-1/blob/master/6_Curvas_parametricas.ipynb\" target=\"_parent\"><img src=\"https://colab.research.google.com/assets/colab-badge.svg\" alt=\"Open In Colab\"/></a>"
      ]
    },
    {
      "cell_type": "markdown",
      "metadata": {
        "id": "ycIeIShaeOKR",
        "colab_type": "text"
      },
      "source": [
        "# Ecuaciones paramétricas"
      ]
    },
    {
      "cell_type": "markdown",
      "metadata": {
        "id": "Czbpa358eRWA",
        "colab_type": "text"
      },
      "source": [
        "## Graficando con `matplotlib`"
      ]
    },
    {
      "cell_type": "markdown",
      "metadata": {
        "id": "KcsvtOX9wtHo",
        "colab_type": "text"
      },
      "source": [
        "### 2D"
      ]
    },
    {
      "cell_type": "code",
      "metadata": {
        "id": "nawDPsQoEePA",
        "colab_type": "code",
        "colab": {}
      },
      "source": [
        "# Importar modulos\n",
        "import matplotlib\n",
        "import numpy as np\n",
        "import matplotlib.pyplot as plt\n",
        "\n",
        "# Definir rango \n",
        "t = np.arange(-2*np.pi, 2*np.pi, 0.01) # El dominio es de -2pi a 2pi con una precision de 0.01\n",
        "\n",
        "# Definir funciones\n",
        "x_t= np.cos(t)\n",
        "y_t= np.sin(t)\n",
        "\n",
        "\n",
        "# Graficar\n",
        "plt.plot(x_t, y_t) #graficar x contra f_1\n",
        "\n",
        "# Atributos de la grafica\n",
        "\n",
        "plt.xlabel('x') # Opcional: poner etiquetas en los ejes\n",
        "plt.ylabel('y') \n",
        "\n",
        "plt.title('$P(t)=(\\cos(t),\\sin(t))$') # Opcional: poner el titulo de la grafica\n",
        "\n",
        "# plt.legend(['$P(t)$']) #Opcional: poner recuadro indicando que linea cada funcion\n",
        "\n",
        "# plt.grid() #Opcional: cuadricula \n",
        "\n",
        "# Mostrar grafica\n",
        "plt.show() "
      ],
      "execution_count": 0,
      "outputs": []
    },
    {
      "cell_type": "markdown",
      "metadata": {
        "id": "rYI7hGVQwv0O",
        "colab_type": "text"
      },
      "source": [
        "### 3D"
      ]
    },
    {
      "cell_type": "code",
      "metadata": {
        "id": "JWvdv2zLCjJ4",
        "colab_type": "code",
        "colab": {}
      },
      "source": [
        "from mpl_toolkits.mplot3d import Axes3D \n",
        "import numpy as np\n",
        "import matplotlib.pyplot as plt\n",
        "\n",
        "\n",
        "plt.rcParams['legend.fontsize'] = 10\n",
        "\n",
        "fig = plt.figure()\n",
        "ax = fig.gca(projection='3d')\n",
        "\n",
        "# Prepare arrays x, y, z\n",
        "theta = np.linspace(-4 * np.pi, 4 * np.pi, 100)\n",
        "z = theta # np.linspace(-2, 2, 100)\n",
        "x =  np.cos(theta)\n",
        "y =  np.sin(theta)\n",
        "\n",
        "ax.plot(x, y, z, label='hélice')\n",
        "ax.legend()\n",
        "\n",
        "plt.show()"
      ],
      "execution_count": 0,
      "outputs": []
    },
    {
      "cell_type": "markdown",
      "metadata": {
        "id": "IucwWUz5ebBl",
        "colab_type": "text"
      },
      "source": [
        "## Graficando con SymPy"
      ]
    },
    {
      "cell_type": "markdown",
      "metadata": {
        "id": "hrFIq0U3w0Rz",
        "colab_type": "text"
      },
      "source": [
        "### 2D"
      ]
    },
    {
      "cell_type": "code",
      "metadata": {
        "id": "quAnp0FFImoj",
        "colab_type": "code",
        "colab": {}
      },
      "source": [
        "from sympy import symbols, cos, sin, pi\n",
        "from sympy.plotting import plot_parametric\n",
        "t = symbols('t')\n",
        "plot_parametric(cos(t), sin(t), (t, -pi, pi))\n",
        "print(cos(-2*pi),sin(-2*pi))"
      ],
      "execution_count": 0,
      "outputs": []
    },
    {
      "cell_type": "markdown",
      "metadata": {
        "id": "2Z_Vjo5bw1hY",
        "colab_type": "text"
      },
      "source": [
        "### 3D"
      ]
    },
    {
      "cell_type": "code",
      "metadata": {
        "id": "pk9j4yldJrtG",
        "colab_type": "code",
        "colab": {}
      },
      "source": [
        "from sympy import symbols, cos, sin,pi\n",
        "from sympy.plotting import plot3d_parametric_line\n",
        "theta = symbols('theta')\n",
        "plot3d_parametric_line(cos(theta), sin(theta), theta, (theta, -4*pi, 4*pi))"
      ],
      "execution_count": 0,
      "outputs": []
    }
  ]
}