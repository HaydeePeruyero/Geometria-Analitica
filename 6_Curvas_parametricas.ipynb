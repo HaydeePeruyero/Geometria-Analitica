{
  "nbformat": 4,
  "nbformat_minor": 0,
  "metadata": {
    "colab": {
      "name": "6_Curvas_parametricas.ipynb",
      "version": "0.3.2",
      "provenance": [],
      "collapsed_sections": [],
      "include_colab_link": true
    },
    "kernelspec": {
      "name": "python3",
      "display_name": "Python 3"
    }
  },
  "cells": [
    {
      "cell_type": "markdown",
      "metadata": {
        "id": "view-in-github",
        "colab_type": "text"
      },
      "source": [
        "<a href=\"https://colab.research.google.com/github/HaydeePeruyero/Geometria-Analitica-1/blob/master/6_Curvas_parametricas.ipynb\" target=\"_parent\"><img src=\"https://colab.research.google.com/assets/colab-badge.svg\" alt=\"Open In Colab\"/></a>"
      ]
    },
    {
      "cell_type": "markdown",
      "metadata": {
        "id": "ycIeIShaeOKR",
        "colab_type": "text"
      },
      "source": [
        "# Ecuaciones paramétricas"
      ]
    },
    {
      "cell_type": "markdown",
      "metadata": {
        "id": "jCJVP6oQwG4B",
        "colab_type": "text"
      },
      "source": [
        "Supongamos que en un plano cartesiano dibujamos una curva, y que el punto de la curva correspondiente al instante t se denota por $P(t)$; entonces, como los puntos del plano pueden ubicarse mediante su abscisa y su ordenada, la dependencia de t indica que cada coordenada es función de t, es decir,\n",
        "    \\begin{equation*}\n",
        "        P(t) = (x(t),y(t)),\n",
        "    \\end{equation*}\n",
        "donde $t$ es el parámetro y $x(t)$ e $y(t)$ son las ecuaciones paramétricas de la curva."
      ]
    },
    {
      "cell_type": "markdown",
      "metadata": {
        "id": "Czbpa358eRWA",
        "colab_type": "text"
      },
      "source": [
        "## Graficando con `matplotlib`"
      ]
    },
    {
      "cell_type": "markdown",
      "metadata": {
        "id": "wzfOLTtPyxXv",
        "colab_type": "text"
      },
      "source": [
        "Naturalmente, el módulo `matplotlib` nos permite graficar curvas paramétricas con instrucciones y herramientas análogas a las vistas hasta el momento para graficar funciones de variable real y funciones implícitas."
      ]
    },
    {
      "cell_type": "markdown",
      "metadata": {
        "id": "KcsvtOX9wtHo",
        "colab_type": "text"
      },
      "source": [
        "### Caso 2D"
      ]
    },
    {
      "cell_type": "markdown",
      "metadata": {
        "id": "O68azjyA0RMa",
        "colab_type": "text"
      },
      "source": [
        "Básicamente lo que tenemos que hacer para graficar una curva paramétrica en el plano-$xy$ con `matplotlib` es definir una variable adicional, digamos $t$, que represente el parámetro (temporal) de una curva $P(t) = (x(t),y(t))$."
      ]
    },
    {
      "cell_type": "markdown",
      "metadata": {
        "id": "h9wu7YjS2neS",
        "colab_type": "text"
      },
      "source": [
        "**$P(t) = (\\cos(t), \\sin(t))$:**"
      ]
    },
    {
      "cell_type": "code",
      "metadata": {
        "id": "nawDPsQoEePA",
        "colab_type": "code",
        "colab": {}
      },
      "source": [
        "# Importar módulos\n",
        "import matplotlib.pyplot as plt\n",
        "import numpy as np\n",
        "\n",
        "# Definir rango \n",
        "t1 = np.arange(-2*np.pi, 2*np.pi, 0.01) # El dominio es de -2pi a 2pi con una precision de 0.01\n",
        "\n",
        "# Definir funciones\n",
        "x_t= np.cos(t1)\n",
        "y_t= np.sin(t1)\n",
        "\n",
        "# Graficar\n",
        "plt.plot(x_t, y_t) #graficar x contra f_1\n",
        "\n",
        "# Atributos de la grafica\n",
        "\n",
        "plt.xlabel('x') # Opcional: imprimir etiquetas en los ejes\n",
        "plt.ylabel('y') \n",
        "\n",
        "plt.title('$P(t)=(\\cos(t),\\sin(t))$') # Opcional: imprimir el título de la grafica\n",
        "plt.show()"
      ],
      "execution_count": 0,
      "outputs": []
    },
    {
      "cell_type": "markdown",
      "metadata": {
        "id": "VGlG4BI422H_",
        "colab_type": "text"
      },
      "source": [
        "**$P(t) = (\\sin(4\\pi t),\\sin(6\\pi t))$:**"
      ]
    },
    {
      "cell_type": "code",
      "metadata": {
        "id": "kdNPNWyu3LlR",
        "colab_type": "code",
        "colab": {}
      },
      "source": [
        "# Importar módulos\n",
        "import matplotlib.pyplot as plt\n",
        "import numpy as np\n",
        "\n",
        "# Definir rango \n",
        "t2 = np.arange(-4*np.pi, 4*np.pi, 0.01) # El dominio es de -2pi a 2pi con una precision de 0.01\n",
        "\n",
        "# Definir funciones\n",
        "x_t= np.sin(4*np.pi*t2)\n",
        "y_t= np.sin(6*np.pi*t2)\n",
        "\n",
        "# Graficar\n",
        "plt.plot(x_t, y_t) #graficar x contra f_1\n",
        "\n",
        "# Atributos de la grafica\n",
        "\n",
        "plt.xlabel('x') # Opcional: imprimir etiquetas en los ejes\n",
        "plt.ylabel('y') \n",
        "\n",
        "plt.title('$P(t)=(\\sin(4\\pi t),\\sin(6\\pi t))$') # Opcional: imprimir el título de la grafica\n",
        "plt.show()"
      ],
      "execution_count": 0,
      "outputs": []
    },
    {
      "cell_type": "markdown",
      "metadata": {
        "id": "rYI7hGVQwv0O",
        "colab_type": "text"
      },
      "source": [
        "### Caso 3D"
      ]
    },
    {
      "cell_type": "markdown",
      "metadata": {
        "id": "-gVXIwHv5DGm",
        "colab_type": "text"
      },
      "source": [
        "La manera de cómo graficar curvas paramétricas en el espacio $3$-dimensioanl es totalmente análoga al caso $2$-dimensional salvo  porque hay que añadir comandos para generar el 'espacio' en donde se imprimirá la gráfica de una curva dada $P(t)=(x(t),y(t),z(t))$."
      ]
    },
    {
      "cell_type": "markdown",
      "metadata": {
        "id": "KQkph4zD9TB3",
        "colab_type": "text"
      },
      "source": [
        "**$P(t) = (\\cos(\\theta), \\sin(\\theta), \\theta)$:**"
      ]
    },
    {
      "cell_type": "code",
      "metadata": {
        "id": "JWvdv2zLCjJ4",
        "colab_type": "code",
        "colab": {}
      },
      "source": [
        "import matplotlib.pyplot as plt\n",
        "import numpy as np\n",
        "\n",
        "fig = plt.figure()\n",
        "ax = fig.gca(projection='3d')\n",
        "\n",
        "# Prepare arrays x, y, z\n",
        "theta1 = np.linspace(-4 * np.pi, 4 * np.pi, 100)\n",
        "x =  np.cos(theta1)\n",
        "y =  np.sin(theta1)\n",
        "z = theta1\n",
        "\n",
        "ax.plot(x, y, z, label='hélice')\n",
        "ax.legend()\n",
        "plt.show()"
      ],
      "execution_count": 0,
      "outputs": []
    },
    {
      "cell_type": "markdown",
      "metadata": {
        "id": "NLI2qCdt_inc",
        "colab_type": "text"
      },
      "source": [
        "**$P(t) = (t,t,\\sin(t))$**"
      ]
    },
    {
      "cell_type": "code",
      "metadata": {
        "id": "LqP3Hu0f-Rsi",
        "colab_type": "code",
        "colab": {}
      },
      "source": [
        "import matplotlib.pyplot as plt\n",
        "import numpy as np\n",
        "\n",
        "fig = plt.figure()\n",
        "ax = fig.gca(projection='3d')\n",
        "\n",
        "# Prepare arrays x, y, z\n",
        "t3 = np.linspace(-4 * np.pi, 4 * np.pi, 100)\n",
        "x = t3\n",
        "y = t3\n",
        "z = np.sin(t3)\n",
        "\n",
        "ax.plot(x, y, z, label='hélice')\n",
        "ax.legend()\n",
        "plt.show()"
      ],
      "execution_count": 0,
      "outputs": []
    },
    {
      "cell_type": "markdown",
      "metadata": {
        "id": "IucwWUz5ebBl",
        "colab_type": "text"
      },
      "source": [
        "## Graficando con SymPy"
      ]
    },
    {
      "cell_type": "markdown",
      "metadata": {
        "id": "qGMvPwPa8axm",
        "colab_type": "text"
      },
      "source": [
        "Como sucede para gráfias de variable real, también es posible graficar curvas paramétricas utilizando el módulo de `SymPy`. De hecho, como se mostrará la sintaxis resulta ser un tanto más amigable."
      ]
    },
    {
      "cell_type": "markdown",
      "metadata": {
        "id": "hrFIq0U3w0Rz",
        "colab_type": "text"
      },
      "source": [
        "### Caso 2D"
      ]
    },
    {
      "cell_type": "markdown",
      "metadata": {
        "id": "xOi2DD2X9m00",
        "colab_type": "text"
      },
      "source": [
        "**$P(t) = (\\cos(t), \\sin(t))$:**"
      ]
    },
    {
      "cell_type": "code",
      "metadata": {
        "id": "quAnp0FFImoj",
        "colab_type": "code",
        "colab": {}
      },
      "source": [
        "from sympy import symbols, cos, sin, pi\n",
        "from sympy.plotting import plot_parametric\n",
        "\n",
        "t = symbols('t')\n",
        "plot_parametric(cos(t), sin(t), (t, -pi, pi))\n",
        "print(cos(-2*pi),sin(-2*pi))"
      ],
      "execution_count": 0,
      "outputs": []
    },
    {
      "cell_type": "markdown",
      "metadata": {
        "id": "2Z_Vjo5bw1hY",
        "colab_type": "text"
      },
      "source": [
        "### Caso 3D"
      ]
    },
    {
      "cell_type": "markdown",
      "metadata": {
        "id": "IAvUHV2x9qno",
        "colab_type": "text"
      },
      "source": [
        "**$P(t) = (\\cos(\\theta), \\sin(\\theta), \\theta)$:**"
      ]
    },
    {
      "cell_type": "code",
      "metadata": {
        "id": "pk9j4yldJrtG",
        "colab_type": "code",
        "colab": {}
      },
      "source": [
        "from sympy import symbols, cos, sin,pi\n",
        "from sympy.plotting import plot3d_parametric_line\n",
        "\n",
        "theta = symbols('theta')\n",
        "plot3d_parametric_line(cos(theta), sin(theta), theta, (theta, -4*pi, 4*pi))"
      ],
      "execution_count": 0,
      "outputs": []
    }
  ]
}